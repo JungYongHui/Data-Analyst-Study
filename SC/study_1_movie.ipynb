{
 "cells": [
  {
   "cell_type": "code",
   "execution_count": 6,
   "metadata": {},
   "outputs": [],
   "source": [
    "import pandas as pd #판다스 불러오기"
   ]
  },
  {
   "cell_type": "code",
   "execution_count": 7,
   "metadata": {},
   "outputs": [],
   "source": [
    "import numpy as np"
   ]
  },
  {
   "cell_type": "code",
   "execution_count": 8,
   "metadata": {},
   "outputs": [],
   "source": [
    "train = pd.read_csv('./movies_train.csv') #처음 불러올 때, 판다스 위치 설정 중요"
   ]
  },
  {
   "cell_type": "code",
   "execution_count": 9,
   "metadata": {},
   "outputs": [
    {
     "name": "stdout",
     "output_type": "stream",
     "text": [
      "         title   distributor genre release_time  time screening_rat director  \\\n",
      "0       개들의 전쟁      롯데엔터테인먼트    액션   2012-11-22    96      청소년 관람불가      조병옥   \n",
      "1         내부자들        (주)쇼박스   느와르   2015-11-19   130      청소년 관람불가      우민호   \n",
      "2    은밀하게 위대하게        (주)쇼박스    액션   2013-06-05   123       15세 관람가      장철수   \n",
      "3     나는 공무원이다        (주)NEW   코미디   2012-07-12   101        전체 관람가      구자홍   \n",
      "4         불량남녀  쇼박스(주)미디어플렉스   코미디   2010-11-04   108       15세 관람가      신근호   \n",
      "..         ...           ...   ...          ...   ...           ...      ...   \n",
      "595         해무        (주)NEW   드라마   2014-08-13   111      청소년 관람불가      심성보   \n",
      "596       파파로티        (주)쇼박스   드라마   2013-03-14   127       15세 관람가      윤종찬   \n",
      "597      살인의 강     (주)마운틴픽쳐스    공포   2010-09-30    99      청소년 관람불가      김대현   \n",
      "598     악의 연대기     CJ 엔터테인먼트   느와르   2015-05-14   102       15세 관람가      백운학   \n",
      "599        베를린     CJ 엔터테인먼트    액션   2013-01-30   120       15세 관람가      류승완   \n",
      "\n",
      "     dir_prev_bfnum  dir_prev_num  num_staff  num_actor  box_off_num  \n",
      "0               NaN             0         91          2        23398  \n",
      "1        1161602.50             2        387          3      7072501  \n",
      "2         220775.25             4        343          4      6959083  \n",
      "3          23894.00             2         20          6       217866  \n",
      "4              1.00             1        251          2       483387  \n",
      "..              ...           ...        ...        ...          ...  \n",
      "595         3833.00             1        510          7      1475091  \n",
      "596       496061.00             1        286          6      1716438  \n",
      "597             NaN             0        123          4         2475  \n",
      "598             NaN             0        431          4      2192525  \n",
      "599             NaN             0        363          5      7166532  \n",
      "\n",
      "[600 rows x 12 columns]\n"
     ]
    }
   ],
   "source": [
    "print(train)"
   ]
  },
  {
   "cell_type": "code",
   "execution_count": 10,
   "metadata": {},
   "outputs": [],
   "source": [
    "test = pd.read_csv('./movies_test.csv')"
   ]
  },
  {
   "cell_type": "code",
   "execution_count": 11,
   "metadata": {},
   "outputs": [],
   "source": [
    "submission = pd.read_csv('./submission.csv')"
   ]
  },
  {
   "cell_type": "code",
   "execution_count": 12,
   "metadata": {},
   "outputs": [
    {
     "data": {
      "text/html": [
       "<div>\n",
       "<style scoped>\n",
       "    .dataframe tbody tr th:only-of-type {\n",
       "        vertical-align: middle;\n",
       "    }\n",
       "\n",
       "    .dataframe tbody tr th {\n",
       "        vertical-align: top;\n",
       "    }\n",
       "\n",
       "    .dataframe thead th {\n",
       "        text-align: right;\n",
       "    }\n",
       "</style>\n",
       "<table border=\"1\" class=\"dataframe\">\n",
       "  <thead>\n",
       "    <tr style=\"text-align: right;\">\n",
       "      <th></th>\n",
       "      <th>title</th>\n",
       "      <th>distributor</th>\n",
       "      <th>genre</th>\n",
       "      <th>release_time</th>\n",
       "      <th>time</th>\n",
       "      <th>screening_rat</th>\n",
       "      <th>director</th>\n",
       "      <th>dir_prev_bfnum</th>\n",
       "      <th>dir_prev_num</th>\n",
       "      <th>num_staff</th>\n",
       "      <th>num_actor</th>\n",
       "      <th>box_off_num</th>\n",
       "    </tr>\n",
       "  </thead>\n",
       "  <tbody>\n",
       "    <tr>\n",
       "      <th>0</th>\n",
       "      <td>개들의 전쟁</td>\n",
       "      <td>롯데엔터테인먼트</td>\n",
       "      <td>액션</td>\n",
       "      <td>2012-11-22</td>\n",
       "      <td>96</td>\n",
       "      <td>청소년 관람불가</td>\n",
       "      <td>조병옥</td>\n",
       "      <td>NaN</td>\n",
       "      <td>0</td>\n",
       "      <td>91</td>\n",
       "      <td>2</td>\n",
       "      <td>23398</td>\n",
       "    </tr>\n",
       "    <tr>\n",
       "      <th>1</th>\n",
       "      <td>내부자들</td>\n",
       "      <td>(주)쇼박스</td>\n",
       "      <td>느와르</td>\n",
       "      <td>2015-11-19</td>\n",
       "      <td>130</td>\n",
       "      <td>청소년 관람불가</td>\n",
       "      <td>우민호</td>\n",
       "      <td>1161602.50</td>\n",
       "      <td>2</td>\n",
       "      <td>387</td>\n",
       "      <td>3</td>\n",
       "      <td>7072501</td>\n",
       "    </tr>\n",
       "    <tr>\n",
       "      <th>2</th>\n",
       "      <td>은밀하게 위대하게</td>\n",
       "      <td>(주)쇼박스</td>\n",
       "      <td>액션</td>\n",
       "      <td>2013-06-05</td>\n",
       "      <td>123</td>\n",
       "      <td>15세 관람가</td>\n",
       "      <td>장철수</td>\n",
       "      <td>220775.25</td>\n",
       "      <td>4</td>\n",
       "      <td>343</td>\n",
       "      <td>4</td>\n",
       "      <td>6959083</td>\n",
       "    </tr>\n",
       "    <tr>\n",
       "      <th>3</th>\n",
       "      <td>나는 공무원이다</td>\n",
       "      <td>(주)NEW</td>\n",
       "      <td>코미디</td>\n",
       "      <td>2012-07-12</td>\n",
       "      <td>101</td>\n",
       "      <td>전체 관람가</td>\n",
       "      <td>구자홍</td>\n",
       "      <td>23894.00</td>\n",
       "      <td>2</td>\n",
       "      <td>20</td>\n",
       "      <td>6</td>\n",
       "      <td>217866</td>\n",
       "    </tr>\n",
       "    <tr>\n",
       "      <th>4</th>\n",
       "      <td>불량남녀</td>\n",
       "      <td>쇼박스(주)미디어플렉스</td>\n",
       "      <td>코미디</td>\n",
       "      <td>2010-11-04</td>\n",
       "      <td>108</td>\n",
       "      <td>15세 관람가</td>\n",
       "      <td>신근호</td>\n",
       "      <td>1.00</td>\n",
       "      <td>1</td>\n",
       "      <td>251</td>\n",
       "      <td>2</td>\n",
       "      <td>483387</td>\n",
       "    </tr>\n",
       "  </tbody>\n",
       "</table>\n",
       "</div>"
      ],
      "text/plain": [
       "       title   distributor genre release_time  time screening_rat director  \\\n",
       "0     개들의 전쟁      롯데엔터테인먼트    액션   2012-11-22    96      청소년 관람불가      조병옥   \n",
       "1       내부자들        (주)쇼박스   느와르   2015-11-19   130      청소년 관람불가      우민호   \n",
       "2  은밀하게 위대하게        (주)쇼박스    액션   2013-06-05   123       15세 관람가      장철수   \n",
       "3   나는 공무원이다        (주)NEW   코미디   2012-07-12   101        전체 관람가      구자홍   \n",
       "4       불량남녀  쇼박스(주)미디어플렉스   코미디   2010-11-04   108       15세 관람가      신근호   \n",
       "\n",
       "   dir_prev_bfnum  dir_prev_num  num_staff  num_actor  box_off_num  \n",
       "0             NaN             0         91          2        23398  \n",
       "1      1161602.50             2        387          3      7072501  \n",
       "2       220775.25             4        343          4      6959083  \n",
       "3        23894.00             2         20          6       217866  \n",
       "4            1.00             1        251          2       483387  "
      ]
     },
     "execution_count": 12,
     "metadata": {},
     "output_type": "execute_result"
    }
   ],
   "source": [
    "train.head()"
   ]
  },
  {
   "cell_type": "code",
   "execution_count": 13,
   "metadata": {},
   "outputs": [
    {
     "data": {
      "text/html": [
       "<div>\n",
       "<style scoped>\n",
       "    .dataframe tbody tr th:only-of-type {\n",
       "        vertical-align: middle;\n",
       "    }\n",
       "\n",
       "    .dataframe tbody tr th {\n",
       "        vertical-align: top;\n",
       "    }\n",
       "\n",
       "    .dataframe thead th {\n",
       "        text-align: right;\n",
       "    }\n",
       "</style>\n",
       "<table border=\"1\" class=\"dataframe\">\n",
       "  <thead>\n",
       "    <tr style=\"text-align: right;\">\n",
       "      <th></th>\n",
       "      <th>title</th>\n",
       "      <th>distributor</th>\n",
       "      <th>genre</th>\n",
       "      <th>release_time</th>\n",
       "      <th>time</th>\n",
       "      <th>screening_rat</th>\n",
       "      <th>director</th>\n",
       "      <th>dir_prev_bfnum</th>\n",
       "      <th>dir_prev_num</th>\n",
       "      <th>num_staff</th>\n",
       "      <th>num_actor</th>\n",
       "    </tr>\n",
       "  </thead>\n",
       "  <tbody>\n",
       "    <tr>\n",
       "      <th>0</th>\n",
       "      <td>용서는 없다</td>\n",
       "      <td>시네마서비스</td>\n",
       "      <td>느와르</td>\n",
       "      <td>2010-01-07</td>\n",
       "      <td>125</td>\n",
       "      <td>청소년 관람불가</td>\n",
       "      <td>김형준</td>\n",
       "      <td>3.005290e+05</td>\n",
       "      <td>2</td>\n",
       "      <td>304</td>\n",
       "      <td>3</td>\n",
       "    </tr>\n",
       "    <tr>\n",
       "      <th>1</th>\n",
       "      <td>아빠가 여자를 좋아해</td>\n",
       "      <td>(주)쇼박스</td>\n",
       "      <td>멜로/로맨스</td>\n",
       "      <td>2010-01-14</td>\n",
       "      <td>113</td>\n",
       "      <td>12세 관람가</td>\n",
       "      <td>이광재</td>\n",
       "      <td>3.427002e+05</td>\n",
       "      <td>4</td>\n",
       "      <td>275</td>\n",
       "      <td>3</td>\n",
       "    </tr>\n",
       "    <tr>\n",
       "      <th>2</th>\n",
       "      <td>하모니</td>\n",
       "      <td>CJ 엔터테인먼트</td>\n",
       "      <td>드라마</td>\n",
       "      <td>2010-01-28</td>\n",
       "      <td>115</td>\n",
       "      <td>12세 관람가</td>\n",
       "      <td>강대규</td>\n",
       "      <td>4.206611e+06</td>\n",
       "      <td>3</td>\n",
       "      <td>419</td>\n",
       "      <td>7</td>\n",
       "    </tr>\n",
       "    <tr>\n",
       "      <th>3</th>\n",
       "      <td>의형제</td>\n",
       "      <td>(주)쇼박스</td>\n",
       "      <td>액션</td>\n",
       "      <td>2010-02-04</td>\n",
       "      <td>116</td>\n",
       "      <td>15세 관람가</td>\n",
       "      <td>장훈</td>\n",
       "      <td>6.913420e+05</td>\n",
       "      <td>2</td>\n",
       "      <td>408</td>\n",
       "      <td>2</td>\n",
       "    </tr>\n",
       "    <tr>\n",
       "      <th>4</th>\n",
       "      <td>평행 이론</td>\n",
       "      <td>CJ 엔터테인먼트</td>\n",
       "      <td>공포</td>\n",
       "      <td>2010-02-18</td>\n",
       "      <td>110</td>\n",
       "      <td>15세 관람가</td>\n",
       "      <td>권호영</td>\n",
       "      <td>3.173800e+04</td>\n",
       "      <td>1</td>\n",
       "      <td>380</td>\n",
       "      <td>1</td>\n",
       "    </tr>\n",
       "  </tbody>\n",
       "</table>\n",
       "</div>"
      ],
      "text/plain": [
       "         title distributor   genre release_time  time screening_rat director  \\\n",
       "0       용서는 없다      시네마서비스     느와르   2010-01-07   125      청소년 관람불가      김형준   \n",
       "1  아빠가 여자를 좋아해      (주)쇼박스  멜로/로맨스   2010-01-14   113       12세 관람가      이광재   \n",
       "2          하모니   CJ 엔터테인먼트     드라마   2010-01-28   115       12세 관람가      강대규   \n",
       "3          의형제      (주)쇼박스      액션   2010-02-04   116       15세 관람가       장훈   \n",
       "4        평행 이론   CJ 엔터테인먼트      공포   2010-02-18   110       15세 관람가      권호영   \n",
       "\n",
       "   dir_prev_bfnum  dir_prev_num  num_staff  num_actor  \n",
       "0    3.005290e+05             2        304          3  \n",
       "1    3.427002e+05             4        275          3  \n",
       "2    4.206611e+06             3        419          7  \n",
       "3    6.913420e+05             2        408          2  \n",
       "4    3.173800e+04             1        380          1  "
      ]
     },
     "execution_count": 13,
     "metadata": {},
     "output_type": "execute_result"
    }
   ],
   "source": [
    "test.head()"
   ]
  },
  {
   "cell_type": "code",
   "execution_count": 14,
   "metadata": {},
   "outputs": [
    {
     "data": {
      "text/html": [
       "<div>\n",
       "<style scoped>\n",
       "    .dataframe tbody tr th:only-of-type {\n",
       "        vertical-align: middle;\n",
       "    }\n",
       "\n",
       "    .dataframe tbody tr th {\n",
       "        vertical-align: top;\n",
       "    }\n",
       "\n",
       "    .dataframe thead th {\n",
       "        text-align: right;\n",
       "    }\n",
       "</style>\n",
       "<table border=\"1\" class=\"dataframe\">\n",
       "  <thead>\n",
       "    <tr style=\"text-align: right;\">\n",
       "      <th></th>\n",
       "      <th>title</th>\n",
       "      <th>box_off_num</th>\n",
       "    </tr>\n",
       "  </thead>\n",
       "  <tbody>\n",
       "    <tr>\n",
       "      <th>0</th>\n",
       "      <td>용서는 없다</td>\n",
       "      <td>0</td>\n",
       "    </tr>\n",
       "    <tr>\n",
       "      <th>1</th>\n",
       "      <td>아빠가 여자를 좋아해</td>\n",
       "      <td>0</td>\n",
       "    </tr>\n",
       "    <tr>\n",
       "      <th>2</th>\n",
       "      <td>하모니</td>\n",
       "      <td>0</td>\n",
       "    </tr>\n",
       "    <tr>\n",
       "      <th>3</th>\n",
       "      <td>의형제</td>\n",
       "      <td>0</td>\n",
       "    </tr>\n",
       "    <tr>\n",
       "      <th>4</th>\n",
       "      <td>평행 이론</td>\n",
       "      <td>0</td>\n",
       "    </tr>\n",
       "  </tbody>\n",
       "</table>\n",
       "</div>"
      ],
      "text/plain": [
       "         title  box_off_num\n",
       "0       용서는 없다            0\n",
       "1  아빠가 여자를 좋아해            0\n",
       "2          하모니            0\n",
       "3          의형제            0\n",
       "4        평행 이론            0"
      ]
     },
     "execution_count": 14,
     "metadata": {},
     "output_type": "execute_result"
    }
   ],
   "source": [
    "submission.head()"
   ]
  },
  {
   "cell_type": "code",
   "execution_count": 15,
   "metadata": {},
   "outputs": [
    {
     "name": "stdout",
     "output_type": "stream",
     "text": [
      "(600, 12)\n",
      "(243, 11)\n",
      "(243, 2)\n"
     ]
    }
   ],
   "source": [
    "print(train.shape) #shape : 데이터 프레임 행, 열 개수 저장 속성 확인\n",
    "print(test.shape)\n",
    "print(submission.shape)"
   ]
  },
  {
   "cell_type": "code",
   "execution_count": 16,
   "metadata": {},
   "outputs": [
    {
     "name": "stdout",
     "output_type": "stream",
     "text": [
      "<class 'pandas.core.frame.DataFrame'>\n",
      "RangeIndex: 600 entries, 0 to 599\n",
      "Data columns (total 12 columns):\n",
      " #   Column          Non-Null Count  Dtype  \n",
      "---  ------          --------------  -----  \n",
      " 0   title           600 non-null    object \n",
      " 1   distributor     600 non-null    object \n",
      " 2   genre           600 non-null    object \n",
      " 3   release_time    600 non-null    object \n",
      " 4   time            600 non-null    int64  \n",
      " 5   screening_rat   600 non-null    object \n",
      " 6   director        600 non-null    object \n",
      " 7   dir_prev_bfnum  270 non-null    float64\n",
      " 8   dir_prev_num    600 non-null    int64  \n",
      " 9   num_staff       600 non-null    int64  \n",
      " 10  num_actor       600 non-null    int64  \n",
      " 11  box_off_num     600 non-null    int64  \n",
      "dtypes: float64(1), int64(5), object(6)\n",
      "memory usage: 56.4+ KB\n"
     ]
    }
   ],
   "source": [
    "train.info() #column별 정보 알려주는 함수"
   ]
  },
  {
   "cell_type": "code",
   "execution_count": 17,
   "metadata": {},
   "outputs": [
    {
     "name": "stdout",
     "output_type": "stream",
     "text": [
      "<class 'pandas.core.frame.DataFrame'>\n",
      "RangeIndex: 243 entries, 0 to 242\n",
      "Data columns (total 11 columns):\n",
      " #   Column          Non-Null Count  Dtype  \n",
      "---  ------          --------------  -----  \n",
      " 0   title           243 non-null    object \n",
      " 1   distributor     243 non-null    object \n",
      " 2   genre           243 non-null    object \n",
      " 3   release_time    243 non-null    object \n",
      " 4   time            243 non-null    int64  \n",
      " 5   screening_rat   243 non-null    object \n",
      " 6   director        243 non-null    object \n",
      " 7   dir_prev_bfnum  107 non-null    float64\n",
      " 8   dir_prev_num    243 non-null    int64  \n",
      " 9   num_staff       243 non-null    int64  \n",
      " 10  num_actor       243 non-null    int64  \n",
      "dtypes: float64(1), int64(4), object(6)\n",
      "memory usage: 21.0+ KB\n"
     ]
    }
   ],
   "source": [
    "test.info() #7번 컬럼 값 채워야 함"
   ]
  },
  {
   "cell_type": "code",
   "execution_count": 18,
   "metadata": {},
   "outputs": [
    {
     "data": {
      "text/html": [
       "<div>\n",
       "<style scoped>\n",
       "    .dataframe tbody tr th:only-of-type {\n",
       "        vertical-align: middle;\n",
       "    }\n",
       "\n",
       "    .dataframe tbody tr th {\n",
       "        vertical-align: top;\n",
       "    }\n",
       "\n",
       "    .dataframe thead th {\n",
       "        text-align: right;\n",
       "    }\n",
       "</style>\n",
       "<table border=\"1\" class=\"dataframe\">\n",
       "  <thead>\n",
       "    <tr style=\"text-align: right;\">\n",
       "      <th></th>\n",
       "      <th>time</th>\n",
       "      <th>dir_prev_bfnum</th>\n",
       "      <th>dir_prev_num</th>\n",
       "      <th>num_staff</th>\n",
       "      <th>num_actor</th>\n",
       "      <th>box_off_num</th>\n",
       "    </tr>\n",
       "  </thead>\n",
       "  <tbody>\n",
       "    <tr>\n",
       "      <th>count</th>\n",
       "      <td>600.000000</td>\n",
       "      <td>2.700000e+02</td>\n",
       "      <td>600.000000</td>\n",
       "      <td>600.000000</td>\n",
       "      <td>600.000000</td>\n",
       "      <td>6.000000e+02</td>\n",
       "    </tr>\n",
       "    <tr>\n",
       "      <th>mean</th>\n",
       "      <td>100.863333</td>\n",
       "      <td>1.050443e+06</td>\n",
       "      <td>0.876667</td>\n",
       "      <td>151.118333</td>\n",
       "      <td>3.706667</td>\n",
       "      <td>7.081818e+05</td>\n",
       "    </tr>\n",
       "    <tr>\n",
       "      <th>std</th>\n",
       "      <td>18.097528</td>\n",
       "      <td>1.791408e+06</td>\n",
       "      <td>1.183409</td>\n",
       "      <td>165.654671</td>\n",
       "      <td>2.446889</td>\n",
       "      <td>1.828006e+06</td>\n",
       "    </tr>\n",
       "    <tr>\n",
       "      <th>min</th>\n",
       "      <td>45.000000</td>\n",
       "      <td>1.000000e+00</td>\n",
       "      <td>0.000000</td>\n",
       "      <td>0.000000</td>\n",
       "      <td>0.000000</td>\n",
       "      <td>1.000000e+00</td>\n",
       "    </tr>\n",
       "    <tr>\n",
       "      <th>25%</th>\n",
       "      <td>89.000000</td>\n",
       "      <td>2.038000e+04</td>\n",
       "      <td>0.000000</td>\n",
       "      <td>17.000000</td>\n",
       "      <td>2.000000</td>\n",
       "      <td>1.297250e+03</td>\n",
       "    </tr>\n",
       "    <tr>\n",
       "      <th>50%</th>\n",
       "      <td>100.000000</td>\n",
       "      <td>4.784236e+05</td>\n",
       "      <td>0.000000</td>\n",
       "      <td>82.500000</td>\n",
       "      <td>3.000000</td>\n",
       "      <td>1.259100e+04</td>\n",
       "    </tr>\n",
       "    <tr>\n",
       "      <th>75%</th>\n",
       "      <td>114.000000</td>\n",
       "      <td>1.286569e+06</td>\n",
       "      <td>2.000000</td>\n",
       "      <td>264.000000</td>\n",
       "      <td>4.000000</td>\n",
       "      <td>4.798868e+05</td>\n",
       "    </tr>\n",
       "    <tr>\n",
       "      <th>max</th>\n",
       "      <td>180.000000</td>\n",
       "      <td>1.761531e+07</td>\n",
       "      <td>5.000000</td>\n",
       "      <td>869.000000</td>\n",
       "      <td>25.000000</td>\n",
       "      <td>1.426277e+07</td>\n",
       "    </tr>\n",
       "  </tbody>\n",
       "</table>\n",
       "</div>"
      ],
      "text/plain": [
       "             time  dir_prev_bfnum  dir_prev_num   num_staff   num_actor  \\\n",
       "count  600.000000    2.700000e+02    600.000000  600.000000  600.000000   \n",
       "mean   100.863333    1.050443e+06      0.876667  151.118333    3.706667   \n",
       "std     18.097528    1.791408e+06      1.183409  165.654671    2.446889   \n",
       "min     45.000000    1.000000e+00      0.000000    0.000000    0.000000   \n",
       "25%     89.000000    2.038000e+04      0.000000   17.000000    2.000000   \n",
       "50%    100.000000    4.784236e+05      0.000000   82.500000    3.000000   \n",
       "75%    114.000000    1.286569e+06      2.000000  264.000000    4.000000   \n",
       "max    180.000000    1.761531e+07      5.000000  869.000000   25.000000   \n",
       "\n",
       "        box_off_num  \n",
       "count  6.000000e+02  \n",
       "mean   7.081818e+05  \n",
       "std    1.828006e+06  \n",
       "min    1.000000e+00  \n",
       "25%    1.297250e+03  \n",
       "50%    1.259100e+04  \n",
       "75%    4.798868e+05  \n",
       "max    1.426277e+07  "
      ]
     },
     "execution_count": 18,
     "metadata": {},
     "output_type": "execute_result"
    }
   ],
   "source": [
    "train.describe() # e+xx 제곱승"
   ]
  },
  {
   "cell_type": "code",
   "execution_count": 19,
   "metadata": {},
   "outputs": [],
   "source": [
    "pd.options.display.float_format = '{:.1f}'.format #원래 숫자로 변경"
   ]
  },
  {
   "cell_type": "code",
   "execution_count": 20,
   "metadata": {},
   "outputs": [
    {
     "data": {
      "text/html": [
       "<div>\n",
       "<style scoped>\n",
       "    .dataframe tbody tr th:only-of-type {\n",
       "        vertical-align: middle;\n",
       "    }\n",
       "\n",
       "    .dataframe tbody tr th {\n",
       "        vertical-align: top;\n",
       "    }\n",
       "\n",
       "    .dataframe thead th {\n",
       "        text-align: right;\n",
       "    }\n",
       "</style>\n",
       "<table border=\"1\" class=\"dataframe\">\n",
       "  <thead>\n",
       "    <tr style=\"text-align: right;\">\n",
       "      <th></th>\n",
       "      <th>box_off_num</th>\n",
       "    </tr>\n",
       "    <tr>\n",
       "      <th>genre</th>\n",
       "      <th></th>\n",
       "    </tr>\n",
       "  </thead>\n",
       "  <tbody>\n",
       "    <tr>\n",
       "      <th>뮤지컬</th>\n",
       "      <td>6627.0</td>\n",
       "    </tr>\n",
       "    <tr>\n",
       "      <th>다큐멘터리</th>\n",
       "      <td>67172.3</td>\n",
       "    </tr>\n",
       "    <tr>\n",
       "      <th>서스펜스</th>\n",
       "      <td>82611.0</td>\n",
       "    </tr>\n",
       "    <tr>\n",
       "      <th>애니메이션</th>\n",
       "      <td>181926.7</td>\n",
       "    </tr>\n",
       "    <tr>\n",
       "      <th>멜로/로맨스</th>\n",
       "      <td>425968.0</td>\n",
       "    </tr>\n",
       "    <tr>\n",
       "      <th>미스터리</th>\n",
       "      <td>527548.2</td>\n",
       "    </tr>\n",
       "    <tr>\n",
       "      <th>공포</th>\n",
       "      <td>590832.5</td>\n",
       "    </tr>\n",
       "    <tr>\n",
       "      <th>드라마</th>\n",
       "      <td>625689.8</td>\n",
       "    </tr>\n",
       "    <tr>\n",
       "      <th>코미디</th>\n",
       "      <td>1193914.0</td>\n",
       "    </tr>\n",
       "    <tr>\n",
       "      <th>SF</th>\n",
       "      <td>1788345.7</td>\n",
       "    </tr>\n",
       "    <tr>\n",
       "      <th>액션</th>\n",
       "      <td>2203974.1</td>\n",
       "    </tr>\n",
       "    <tr>\n",
       "      <th>느와르</th>\n",
       "      <td>2263695.1</td>\n",
       "    </tr>\n",
       "  </tbody>\n",
       "</table>\n",
       "</div>"
      ],
      "text/plain": [
       "        box_off_num\n",
       "genre              \n",
       "뮤지컬          6627.0\n",
       "다큐멘터리       67172.3\n",
       "서스펜스        82611.0\n",
       "애니메이션      181926.7\n",
       "멜로/로맨스     425968.0\n",
       "미스터리       527548.2\n",
       "공포         590832.5\n",
       "드라마        625689.8\n",
       "코미디       1193914.0\n",
       "SF        1788345.7\n",
       "액션        2203974.1\n",
       "느와르       2263695.1"
      ]
     },
     "execution_count": 20,
     "metadata": {},
     "output_type": "execute_result"
    }
   ],
   "source": [
    "train[['genre','box_off_num']].groupby('genre').mean().sort_values('box_off_num') #train 데이터와 장르, 컬럼수를 선택, groupby로 장르를 묶고, 평균값으로 정렬 "
   ]
  },
  {
   "cell_type": "code",
   "execution_count": 21,
   "metadata": {},
   "outputs": [],
   "source": [
    "pd.reset_option('display.float_format') #복구"
   ]
  },
  {
   "cell_type": "code",
   "execution_count": 22,
   "metadata": {},
   "outputs": [
    {
     "data": {
      "text/html": [
       "<div>\n",
       "<style scoped>\n",
       "    .dataframe tbody tr th:only-of-type {\n",
       "        vertical-align: middle;\n",
       "    }\n",
       "\n",
       "    .dataframe tbody tr th {\n",
       "        vertical-align: top;\n",
       "    }\n",
       "\n",
       "    .dataframe thead th {\n",
       "        text-align: right;\n",
       "    }\n",
       "</style>\n",
       "<table border=\"1\" class=\"dataframe\">\n",
       "  <thead>\n",
       "    <tr style=\"text-align: right;\">\n",
       "      <th></th>\n",
       "      <th>time</th>\n",
       "      <th>dir_prev_bfnum</th>\n",
       "      <th>dir_prev_num</th>\n",
       "      <th>num_staff</th>\n",
       "      <th>num_actor</th>\n",
       "      <th>box_off_num</th>\n",
       "    </tr>\n",
       "  </thead>\n",
       "  <tbody>\n",
       "    <tr>\n",
       "      <th>time</th>\n",
       "      <td>1.000000</td>\n",
       "      <td>0.264675</td>\n",
       "      <td>0.306727</td>\n",
       "      <td>0.623205</td>\n",
       "      <td>0.114153</td>\n",
       "      <td>0.441452</td>\n",
       "    </tr>\n",
       "    <tr>\n",
       "      <th>dir_prev_bfnum</th>\n",
       "      <td>0.264675</td>\n",
       "      <td>1.000000</td>\n",
       "      <td>0.131822</td>\n",
       "      <td>0.323521</td>\n",
       "      <td>0.083818</td>\n",
       "      <td>0.283184</td>\n",
       "    </tr>\n",
       "    <tr>\n",
       "      <th>dir_prev_num</th>\n",
       "      <td>0.306727</td>\n",
       "      <td>0.131822</td>\n",
       "      <td>1.000000</td>\n",
       "      <td>0.450706</td>\n",
       "      <td>0.014006</td>\n",
       "      <td>0.259674</td>\n",
       "    </tr>\n",
       "    <tr>\n",
       "      <th>num_staff</th>\n",
       "      <td>0.623205</td>\n",
       "      <td>0.323521</td>\n",
       "      <td>0.450706</td>\n",
       "      <td>1.000000</td>\n",
       "      <td>0.077871</td>\n",
       "      <td>0.544265</td>\n",
       "    </tr>\n",
       "    <tr>\n",
       "      <th>num_actor</th>\n",
       "      <td>0.114153</td>\n",
       "      <td>0.083818</td>\n",
       "      <td>0.014006</td>\n",
       "      <td>0.077871</td>\n",
       "      <td>1.000000</td>\n",
       "      <td>0.111179</td>\n",
       "    </tr>\n",
       "    <tr>\n",
       "      <th>box_off_num</th>\n",
       "      <td>0.441452</td>\n",
       "      <td>0.283184</td>\n",
       "      <td>0.259674</td>\n",
       "      <td>0.544265</td>\n",
       "      <td>0.111179</td>\n",
       "      <td>1.000000</td>\n",
       "    </tr>\n",
       "  </tbody>\n",
       "</table>\n",
       "</div>"
      ],
      "text/plain": [
       "                    time  dir_prev_bfnum  dir_prev_num  num_staff  num_actor  \\\n",
       "time            1.000000        0.264675      0.306727   0.623205   0.114153   \n",
       "dir_prev_bfnum  0.264675        1.000000      0.131822   0.323521   0.083818   \n",
       "dir_prev_num    0.306727        0.131822      1.000000   0.450706   0.014006   \n",
       "num_staff       0.623205        0.323521      0.450706   1.000000   0.077871   \n",
       "num_actor       0.114153        0.083818      0.014006   0.077871   1.000000   \n",
       "box_off_num     0.441452        0.283184      0.259674   0.544265   0.111179   \n",
       "\n",
       "                box_off_num  \n",
       "time               0.441452  \n",
       "dir_prev_bfnum     0.283184  \n",
       "dir_prev_num       0.259674  \n",
       "num_staff          0.544265  \n",
       "num_actor          0.111179  \n",
       "box_off_num        1.000000  "
      ]
     },
     "execution_count": 22,
     "metadata": {},
     "output_type": "execute_result"
    }
   ],
   "source": [
    "train.corr()"
   ]
  },
  {
   "cell_type": "code",
   "execution_count": 23,
   "metadata": {},
   "outputs": [],
   "source": [
    "import seaborn as sns #히트맵 임포트"
   ]
  },
  {
   "cell_type": "code",
   "execution_count": 24,
   "metadata": {},
   "outputs": [
    {
     "data": {
      "image/png": "[encoded data removed]",
      "text/plain": [
       "<Figure size 432x288 with 2 Axes>"
      ]
     },
     "metadata": {
      "needs_background": "light"
     },
     "output_type": "display_data"
    }
   ],
   "source": [
    "sns.heatmap(train.corr()). annot = True #히트맵 그리기"
   ]
  },
  {
   "cell_type": "code",
   "execution_count": 25,
   "metadata": {},
   "outputs": [],
   "source": [
    "#전처리 과정"
   ]
  },
  {
   "cell_type": "code",
   "execution_count": 26,
   "metadata": {},
   "outputs": [
    {
     "data": {
      "text/plain": [
       "title               0\n",
       "distributor         0\n",
       "genre               0\n",
       "release_time        0\n",
       "time                0\n",
       "screening_rat       0\n",
       "director            0\n",
       "dir_prev_bfnum    330\n",
       "dir_prev_num        0\n",
       "num_staff           0\n",
       "num_actor           0\n",
       "box_off_num         0\n",
       "dtype: int64"
      ]
     },
     "execution_count": 26,
     "metadata": {},
     "output_type": "execute_result"
    }
   ],
   "source": [
    "train.isna().sum() #결측치 확인"
   ]
  },
  {
   "cell_type": "code",
   "execution_count": 27,
   "metadata": {},
   "outputs": [
    {
     "data": {
      "text/plain": [
       "title             0.00\n",
       "distributor       0.00\n",
       "genre             0.00\n",
       "release_time      0.00\n",
       "time              0.00\n",
       "screening_rat     0.00\n",
       "director          0.00\n",
       "dir_prev_bfnum    0.55\n",
       "dir_prev_num      0.00\n",
       "num_staff         0.00\n",
       "num_actor         0.00\n",
       "box_off_num       0.00\n",
       "dtype: float64"
      ]
     },
     "execution_count": 27,
     "metadata": {},
     "output_type": "execute_result"
    }
   ],
   "source": [
    "train.isna().sum() / 600 #컬럼수로 나누면 %확인가능"
   ]
  },
  {
   "cell_type": "code",
   "execution_count": 28,
   "metadata": {},
   "outputs": [
    {
     "data": {
      "text/html": [
       "<div>\n",
       "<style scoped>\n",
       "    .dataframe tbody tr th:only-of-type {\n",
       "        vertical-align: middle;\n",
       "    }\n",
       "\n",
       "    .dataframe tbody tr th {\n",
       "        vertical-align: top;\n",
       "    }\n",
       "\n",
       "    .dataframe thead th {\n",
       "        text-align: right;\n",
       "    }\n",
       "</style>\n",
       "<table border=\"1\" class=\"dataframe\">\n",
       "  <thead>\n",
       "    <tr style=\"text-align: right;\">\n",
       "      <th></th>\n",
       "      <th>title</th>\n",
       "      <th>distributor</th>\n",
       "      <th>genre</th>\n",
       "      <th>release_time</th>\n",
       "      <th>time</th>\n",
       "      <th>screening_rat</th>\n",
       "      <th>director</th>\n",
       "      <th>dir_prev_bfnum</th>\n",
       "      <th>dir_prev_num</th>\n",
       "      <th>num_staff</th>\n",
       "      <th>num_actor</th>\n",
       "      <th>box_off_num</th>\n",
       "    </tr>\n",
       "  </thead>\n",
       "  <tbody>\n",
       "    <tr>\n",
       "      <th>0</th>\n",
       "      <td>개들의 전쟁</td>\n",
       "      <td>롯데엔터테인먼트</td>\n",
       "      <td>액션</td>\n",
       "      <td>2012-11-22</td>\n",
       "      <td>96</td>\n",
       "      <td>청소년 관람불가</td>\n",
       "      <td>조병옥</td>\n",
       "      <td>NaN</td>\n",
       "      <td>0</td>\n",
       "      <td>91</td>\n",
       "      <td>2</td>\n",
       "      <td>23398</td>\n",
       "    </tr>\n",
       "    <tr>\n",
       "      <th>6</th>\n",
       "      <td>길위에서</td>\n",
       "      <td>백두대간</td>\n",
       "      <td>다큐멘터리</td>\n",
       "      <td>2013-05-23</td>\n",
       "      <td>104</td>\n",
       "      <td>전체 관람가</td>\n",
       "      <td>이창재</td>\n",
       "      <td>NaN</td>\n",
       "      <td>0</td>\n",
       "      <td>32</td>\n",
       "      <td>5</td>\n",
       "      <td>53526</td>\n",
       "    </tr>\n",
       "    <tr>\n",
       "      <th>8</th>\n",
       "      <td>1789, 바스티유의 연인들</td>\n",
       "      <td>유니버설픽쳐스인터내셔널코리아</td>\n",
       "      <td>뮤지컬</td>\n",
       "      <td>2014-09-18</td>\n",
       "      <td>129</td>\n",
       "      <td>전체 관람가</td>\n",
       "      <td>정성복</td>\n",
       "      <td>NaN</td>\n",
       "      <td>0</td>\n",
       "      <td>3</td>\n",
       "      <td>5</td>\n",
       "      <td>4778</td>\n",
       "    </tr>\n",
       "    <tr>\n",
       "      <th>9</th>\n",
       "      <td>청춘그루브</td>\n",
       "      <td>(주)두타연</td>\n",
       "      <td>드라마</td>\n",
       "      <td>2012-03-15</td>\n",
       "      <td>94</td>\n",
       "      <td>15세 관람가</td>\n",
       "      <td>변성현</td>\n",
       "      <td>NaN</td>\n",
       "      <td>0</td>\n",
       "      <td>138</td>\n",
       "      <td>3</td>\n",
       "      <td>868</td>\n",
       "    </tr>\n",
       "    <tr>\n",
       "      <th>10</th>\n",
       "      <td>AV 아이돌</td>\n",
       "      <td>(주) 케이알씨지</td>\n",
       "      <td>멜로/로맨스</td>\n",
       "      <td>2015-07-27</td>\n",
       "      <td>89</td>\n",
       "      <td>청소년 관람불가</td>\n",
       "      <td>조조 히데오</td>\n",
       "      <td>NaN</td>\n",
       "      <td>0</td>\n",
       "      <td>0</td>\n",
       "      <td>4</td>\n",
       "      <td>745</td>\n",
       "    </tr>\n",
       "    <tr>\n",
       "      <th>...</th>\n",
       "      <td>...</td>\n",
       "      <td>...</td>\n",
       "      <td>...</td>\n",
       "      <td>...</td>\n",
       "      <td>...</td>\n",
       "      <td>...</td>\n",
       "      <td>...</td>\n",
       "      <td>...</td>\n",
       "      <td>...</td>\n",
       "      <td>...</td>\n",
       "      <td>...</td>\n",
       "      <td>...</td>\n",
       "    </tr>\n",
       "    <tr>\n",
       "      <th>593</th>\n",
       "      <td>낭만파 남편의 편지</td>\n",
       "      <td>퍼스트런</td>\n",
       "      <td>미스터리</td>\n",
       "      <td>2013-09-12</td>\n",
       "      <td>97</td>\n",
       "      <td>청소년 관람불가</td>\n",
       "      <td>최위안</td>\n",
       "      <td>NaN</td>\n",
       "      <td>0</td>\n",
       "      <td>5</td>\n",
       "      <td>3</td>\n",
       "      <td>1132</td>\n",
       "    </tr>\n",
       "    <tr>\n",
       "      <th>594</th>\n",
       "      <td>오빠가 돌아왔다</td>\n",
       "      <td>(주)마운틴픽쳐스</td>\n",
       "      <td>코미디</td>\n",
       "      <td>2014-03-20</td>\n",
       "      <td>94</td>\n",
       "      <td>청소년 관람불가</td>\n",
       "      <td>노진수</td>\n",
       "      <td>NaN</td>\n",
       "      <td>0</td>\n",
       "      <td>37</td>\n",
       "      <td>5</td>\n",
       "      <td>1958</td>\n",
       "    </tr>\n",
       "    <tr>\n",
       "      <th>597</th>\n",
       "      <td>살인의 강</td>\n",
       "      <td>(주)마운틴픽쳐스</td>\n",
       "      <td>공포</td>\n",
       "      <td>2010-09-30</td>\n",
       "      <td>99</td>\n",
       "      <td>청소년 관람불가</td>\n",
       "      <td>김대현</td>\n",
       "      <td>NaN</td>\n",
       "      <td>0</td>\n",
       "      <td>123</td>\n",
       "      <td>4</td>\n",
       "      <td>2475</td>\n",
       "    </tr>\n",
       "    <tr>\n",
       "      <th>598</th>\n",
       "      <td>악의 연대기</td>\n",
       "      <td>CJ 엔터테인먼트</td>\n",
       "      <td>느와르</td>\n",
       "      <td>2015-05-14</td>\n",
       "      <td>102</td>\n",
       "      <td>15세 관람가</td>\n",
       "      <td>백운학</td>\n",
       "      <td>NaN</td>\n",
       "      <td>0</td>\n",
       "      <td>431</td>\n",
       "      <td>4</td>\n",
       "      <td>2192525</td>\n",
       "    </tr>\n",
       "    <tr>\n",
       "      <th>599</th>\n",
       "      <td>베를린</td>\n",
       "      <td>CJ 엔터테인먼트</td>\n",
       "      <td>액션</td>\n",
       "      <td>2013-01-30</td>\n",
       "      <td>120</td>\n",
       "      <td>15세 관람가</td>\n",
       "      <td>류승완</td>\n",
       "      <td>NaN</td>\n",
       "      <td>0</td>\n",
       "      <td>363</td>\n",
       "      <td>5</td>\n",
       "      <td>7166532</td>\n",
       "    </tr>\n",
       "  </tbody>\n",
       "</table>\n",
       "<p>330 rows × 12 columns</p>\n",
       "</div>"
      ],
      "text/plain": [
       "               title      distributor   genre release_time  time  \\\n",
       "0             개들의 전쟁         롯데엔터테인먼트      액션   2012-11-22    96   \n",
       "6               길위에서             백두대간   다큐멘터리   2013-05-23   104   \n",
       "8    1789, 바스티유의 연인들  유니버설픽쳐스인터내셔널코리아     뮤지컬   2014-09-18   129   \n",
       "9              청춘그루브           (주)두타연     드라마   2012-03-15    94   \n",
       "10            AV 아이돌        (주) 케이알씨지  멜로/로맨스   2015-07-27    89   \n",
       "..               ...              ...     ...          ...   ...   \n",
       "593       낭만파 남편의 편지             퍼스트런    미스터리   2013-09-12    97   \n",
       "594         오빠가 돌아왔다        (주)마운틴픽쳐스     코미디   2014-03-20    94   \n",
       "597            살인의 강        (주)마운틴픽쳐스      공포   2010-09-30    99   \n",
       "598           악의 연대기        CJ 엔터테인먼트     느와르   2015-05-14   102   \n",
       "599              베를린        CJ 엔터테인먼트      액션   2013-01-30   120   \n",
       "\n",
       "    screening_rat director  dir_prev_bfnum  dir_prev_num  num_staff  \\\n",
       "0        청소년 관람불가      조병옥             NaN             0         91   \n",
       "6          전체 관람가      이창재             NaN             0         32   \n",
       "8          전체 관람가      정성복             NaN             0          3   \n",
       "9         15세 관람가      변성현             NaN             0        138   \n",
       "10       청소년 관람불가   조조 히데오             NaN             0          0   \n",
       "..            ...      ...             ...           ...        ...   \n",
       "593      청소년 관람불가      최위안             NaN             0          5   \n",
       "594      청소년 관람불가      노진수             NaN             0         37   \n",
       "597      청소년 관람불가      김대현             NaN             0        123   \n",
       "598       15세 관람가      백운학             NaN             0        431   \n",
       "599       15세 관람가      류승완             NaN             0        363   \n",
       "\n",
       "     num_actor  box_off_num  \n",
       "0            2        23398  \n",
       "6            5        53526  \n",
       "8            5         4778  \n",
       "9            3          868  \n",
       "10           4          745  \n",
       "..         ...          ...  \n",
       "593          3         1132  \n",
       "594          5         1958  \n",
       "597          4         2475  \n",
       "598          4      2192525  \n",
       "599          5      7166532  \n",
       "\n",
       "[330 rows x 12 columns]"
      ]
     },
     "execution_count": 28,
     "metadata": {},
     "output_type": "execute_result"
    }
   ],
   "source": [
    "train[train['dir_prev_bfnum'].isna()] #결측값 있는 부분만 추출"
   ]
  },
  {
   "cell_type": "code",
   "execution_count": 29,
   "metadata": {},
   "outputs": [
    {
     "data": {
      "text/plain": [
       "0"
      ]
     },
     "execution_count": 29,
     "metadata": {},
     "output_type": "execute_result"
    }
   ],
   "source": [
    "train[train['dir_prev_bfnum'].isna()]['dir_prev_num'].sum() #중간에도 0으로 채워져있는지 확인, 0으로 잡혀있는 컬럼 확인(더한 것으로)"
   ]
  },
  {
   "cell_type": "code",
   "execution_count": 30,
   "metadata": {},
   "outputs": [],
   "source": [
    "train['dir_prev_bfnum'].fillna(0, inplace = True) #결측치 채우기(0으로 채운 후 저장(inplace))"
   ]
  },
  {
   "cell_type": "code",
   "execution_count": 31,
   "metadata": {},
   "outputs": [
    {
     "data": {
      "text/plain": [
       "title               0\n",
       "distributor         0\n",
       "genre               0\n",
       "release_time        0\n",
       "time                0\n",
       "screening_rat       0\n",
       "director            0\n",
       "dir_prev_bfnum    136\n",
       "dir_prev_num        0\n",
       "num_staff           0\n",
       "num_actor           0\n",
       "dtype: int64"
      ]
     },
     "execution_count": 31,
     "metadata": {},
     "output_type": "execute_result"
    }
   ],
   "source": [
    "test.isna().sum()"
   ]
  },
  {
   "cell_type": "code",
   "execution_count": 32,
   "metadata": {},
   "outputs": [],
   "source": [
    "test['dir_prev_bfnum'].fillna(0, inplace = True)"
   ]
  },
  {
   "cell_type": "code",
   "execution_count": 33,
   "metadata": {},
   "outputs": [
    {
     "data": {
      "text/plain": [
       "title             0.0\n",
       "distributor       0.0\n",
       "genre             0.0\n",
       "release_time      0.0\n",
       "time              0.0\n",
       "screening_rat     0.0\n",
       "director          0.0\n",
       "dir_prev_bfnum    0.0\n",
       "dir_prev_num      0.0\n",
       "num_staff         0.0\n",
       "num_actor         0.0\n",
       "box_off_num       0.0\n",
       "dtype: float64"
      ]
     },
     "execution_count": 33,
     "metadata": {},
     "output_type": "execute_result"
    }
   ],
   "source": [
    "train.isna().sum() / 600"
   ]
  },
  {
   "cell_type": "code",
   "execution_count": 34,
   "metadata": {
    "scrolled": true
   },
   "outputs": [
    {
     "data": {
      "text/plain": [
       "title             0.0\n",
       "distributor       0.0\n",
       "genre             0.0\n",
       "release_time      0.0\n",
       "time              0.0\n",
       "screening_rat     0.0\n",
       "director          0.0\n",
       "dir_prev_bfnum    0.0\n",
       "dir_prev_num      0.0\n",
       "num_staff         0.0\n",
       "num_actor         0.0\n",
       "dtype: float64"
      ]
     },
     "execution_count": 34,
     "metadata": {},
     "output_type": "execute_result"
    }
   ],
   "source": [
    "test.isna().sum() / 600"
   ]
  },
  {
   "cell_type": "code",
   "execution_count": 35,
   "metadata": {},
   "outputs": [],
   "source": [
    "# 모델링 과정"
   ]
  },
  {
   "cell_type": "code",
   "execution_count": 36,
   "metadata": {},
   "outputs": [],
   "source": [
    "import lightgbm as lgb"
   ]
  },
  {
   "cell_type": "code",
   "execution_count": 37,
   "metadata": {},
   "outputs": [],
   "source": [
    "# X(상영시간, 영화 제작에 참여한 스태프 수, 배우 수...)->Model->y(영화 관객 수)"
   ]
  },
  {
   "cell_type": "code",
   "execution_count": 38,
   "metadata": {},
   "outputs": [],
   "source": [
    "model = lgb.LGBMRegressor(random_state=777, n_estimators=1000)"
   ]
  },
  {
   "cell_type": "code",
   "execution_count": 39,
   "metadata": {},
   "outputs": [],
   "source": [
    "#랜덤 스테이트 : 똑같은 값이 어떤 컴퓨터에서 하든 나오게 만들기. n.estimator = 1000개를 반복해서 순차적으로 만들겠다."
   ]
  },
  {
   "cell_type": "code",
   "execution_count": null,
   "metadata": {},
   "outputs": [],
   "source": []
  },
  {
   "cell_type": "code",
   "execution_count": 40,
   "metadata": {},
   "outputs": [],
   "source": [
    "#LightGBM = Trainning API, Scikit-learn API) 부스팅 모델, 순차적으로 만듦. 기존 모델이 못 맞춘 문제에 가중치를 두어 지속적으로 학습 이어나감."
   ]
  },
  {
   "cell_type": "code",
   "execution_count": 41,
   "metadata": {},
   "outputs": [],
   "source": [
    "features = ['time', 'dir_prev_num', 'num_staff', 'num_actor'] #features 변수에 4가지 컬럼 추가"
   ]
  },
  {
   "cell_type": "code",
   "execution_count": 42,
   "metadata": {},
   "outputs": [],
   "source": [
    "target = ['box_off_num']"
   ]
  },
  {
   "cell_type": "code",
   "execution_count": 43,
   "metadata": {},
   "outputs": [],
   "source": [
    "X_train, X_test, y_train = train[features], test[features], train[target] #taget은 y값, train의 x값과 test의 x값 적용"
   ]
  },
  {
   "cell_type": "code",
   "execution_count": 44,
   "metadata": {},
   "outputs": [],
   "source": [
    "#모델학습 및 검증"
   ]
  },
  {
   "cell_type": "code",
   "execution_count": 45,
   "metadata": {},
   "outputs": [
    {
     "data": {
      "text/plain": [
       "LGBMRegressor(n_estimators=1000, random_state=777)"
      ]
     },
     "execution_count": 45,
     "metadata": {},
     "output_type": "execute_result"
    }
   ],
   "source": [
    "model.fit(X_train, y_train)"
   ]
  },
  {
   "cell_type": "code",
   "execution_count": 46,
   "metadata": {},
   "outputs": [],
   "source": [
    "singleLGBM = submission.copy()"
   ]
  },
  {
   "cell_type": "code",
   "execution_count": 47,
   "metadata": {},
   "outputs": [
    {
     "data": {
      "text/html": [
       "<div>\n",
       "<style scoped>\n",
       "    .dataframe tbody tr th:only-of-type {\n",
       "        vertical-align: middle;\n",
       "    }\n",
       "\n",
       "    .dataframe tbody tr th {\n",
       "        vertical-align: top;\n",
       "    }\n",
       "\n",
       "    .dataframe thead th {\n",
       "        text-align: right;\n",
       "    }\n",
       "</style>\n",
       "<table border=\"1\" class=\"dataframe\">\n",
       "  <thead>\n",
       "    <tr style=\"text-align: right;\">\n",
       "      <th></th>\n",
       "      <th>title</th>\n",
       "      <th>box_off_num</th>\n",
       "    </tr>\n",
       "  </thead>\n",
       "  <tbody>\n",
       "    <tr>\n",
       "      <th>0</th>\n",
       "      <td>용서는 없다</td>\n",
       "      <td>0</td>\n",
       "    </tr>\n",
       "    <tr>\n",
       "      <th>1</th>\n",
       "      <td>아빠가 여자를 좋아해</td>\n",
       "      <td>0</td>\n",
       "    </tr>\n",
       "    <tr>\n",
       "      <th>2</th>\n",
       "      <td>하모니</td>\n",
       "      <td>0</td>\n",
       "    </tr>\n",
       "    <tr>\n",
       "      <th>3</th>\n",
       "      <td>의형제</td>\n",
       "      <td>0</td>\n",
       "    </tr>\n",
       "    <tr>\n",
       "      <th>4</th>\n",
       "      <td>평행 이론</td>\n",
       "      <td>0</td>\n",
       "    </tr>\n",
       "  </tbody>\n",
       "</table>\n",
       "</div>"
      ],
      "text/plain": [
       "         title  box_off_num\n",
       "0       용서는 없다            0\n",
       "1  아빠가 여자를 좋아해            0\n",
       "2          하모니            0\n",
       "3          의형제            0\n",
       "4        평행 이론            0"
      ]
     },
     "execution_count": 47,
     "metadata": {},
     "output_type": "execute_result"
    }
   ],
   "source": [
    "singleLGBM.head()"
   ]
  },
  {
   "cell_type": "code",
   "execution_count": 48,
   "metadata": {},
   "outputs": [],
   "source": [
    "singleLGBM['box_off_num'] = model.predict(X_test)"
   ]
  },
  {
   "cell_type": "code",
   "execution_count": 49,
   "metadata": {},
   "outputs": [],
   "source": [
    "singleLGBM.to_csv('singleLGBM.csv', index = False)"
   ]
  },
  {
   "cell_type": "code",
   "execution_count": 50,
   "metadata": {},
   "outputs": [],
   "source": [
    "#K-fold 교차검증 : 각각의 데이터를 등분하여 하나씩 학습에 사용하지 않고 모델을 검증할 때 사용(회귀분석에서의 전진선택, 후진선택과 비슷), 과대적합 방지, 모델 간 일반적 성능 비교 목적"
   ]
  },
  {
   "cell_type": "code",
   "execution_count": 51,
   "metadata": {},
   "outputs": [],
   "source": [
    "#k_fold 교차검증"
   ]
  },
  {
   "cell_type": "code",
   "execution_count": 52,
   "metadata": {},
   "outputs": [],
   "source": [
    "from sklearn.model_selection import KFold"
   ]
  },
  {
   "cell_type": "code",
   "execution_count": 53,
   "metadata": {},
   "outputs": [],
   "source": [
    "k_fold = KFold(n_splits=5, shuffle=True, random_state=777)"
   ]
  },
  {
   "cell_type": "code",
   "execution_count": 54,
   "metadata": {},
   "outputs": [],
   "source": [
    "model = lgb.LGBMRegressor(random_state=777, n_estimators=1000)"
   ]
  },
  {
   "cell_type": "code",
   "execution_count": 55,
   "metadata": {},
   "outputs": [
    {
     "name": "stdout",
     "output_type": "stream",
     "text": [
      "[  0   1   2   3   4   5   6   7   8  10  11  13  14  15  16  17  19  20\n",
      "  23  27  28  29  30  31  32  33  34  35  37  38  40  41  42  43  44  45\n",
      "  48  49  50  51  53  57  58  59  60  61  62  63  64  65  66  67  68  70\n",
      "  71  72  74  76  77  78  79  80  81  82  83  84  85  87  91  92  93  94\n",
      "  95  98  99 100 102 103 104 105 107 108 109 110 112 113 114 115 116 117\n",
      " 118 119 120 121 122 123 124 125 126 127 129 130 131 133 136 137 138 139\n",
      " 140 141 142 144 147 149 150 151 152 153 154 155 156 157 158 159 160 161\n",
      " 162 163 164 165 166 167 168 169 170 171 172 173 174 175 176 177 179 180\n",
      " 181 182 183 184 185 186 187 188 189 190 191 192 193 194 195 196 197 198\n",
      " 199 201 202 203 204 205 206 207 208 209 211 212 213 214 215 216 218 219\n",
      " 220 221 223 224 225 226 227 228 229 230 231 232 233 237 238 239 240 242\n",
      " 243 244 245 248 249 250 251 253 254 257 258 259 260 261 263 264 265 266\n",
      " 268 270 271 272 274 276 277 278 279 280 282 285 286 288 292 294 295 296\n",
      " 297 298 299 300 301 302 303 305 306 307 308 309 310 311 312 314 315 316\n",
      " 318 319 320 321 322 323 324 325 326 327 328 329 330 332 333 334 336 339\n",
      " 340 341 342 343 346 347 348 349 350 351 352 353 354 355 356 357 361 362\n",
      " 364 365 366 367 368 369 370 371 372 373 374 375 376 377 378 379 380 381\n",
      " 382 383 384 385 386 387 389 390 392 393 394 395 396 397 398 399 400 402\n",
      " 403 405 406 407 408 409 410 411 412 413 414 415 416 417 418 421 422 423\n",
      " 424 425 426 427 429 430 431 432 433 435 436 437 438 439 440 442 443 444\n",
      " 445 446 447 449 450 451 452 453 454 456 457 459 460 461 462 463 464 465\n",
      " 466 467 468 469 470 471 472 473 474 475 476 477 478 479 480 482 483 484\n",
      " 485 486 487 489 490 491 494 495 496 497 498 500 501 502 503 505 506 508\n",
      " 509 510 511 513 515 516 517 518 520 521 522 523 526 527 528 531 533 534\n",
      " 536 537 538 540 541 542 543 545 547 549 550 551 553 554 555 556 558 560\n",
      " 561 562 563 565 567 568 571 572 574 575 576 577 579 580 581 582 583 586\n",
      " 587 588 589 590 591 592 593 595 596 597 598 599] [  9  12  18  21  22  24  25  26  36  39  46  47  52  54  55  56  69  73\n",
      "  75  86  88  89  90  96  97 101 106 111 128 132 134 135 143 145 146 148\n",
      " 178 200 210 217 222 234 235 236 241 246 247 252 255 256 262 267 269 273\n",
      " 275 281 283 284 287 289 290 291 293 304 313 317 331 335 337 338 344 345\n",
      " 358 359 360 363 388 391 401 404 419 420 428 434 441 448 455 458 481 488\n",
      " 492 493 499 504 507 512 514 519 524 525 529 530 532 535 539 544 546 548\n",
      " 552 557 559 564 566 569 570 573 578 584 585 594]\n"
     ]
    }
   ],
   "source": [
    "for train_idx, val_idx in k_fold.split(X_train):\n",
    "    print(train_idx,val_idx)\n",
    "    break #값 겹치지 않게 5등분으로 나눔"
   ]
  },
  {
   "cell_type": "code",
   "execution_count": 56,
   "metadata": {},
   "outputs": [
    {
     "name": "stderr",
     "output_type": "stream",
     "text": [
      "C:\\ProgramData\\Anaconda3\\lib\\site-packages\\lightgbm\\sklearn.py:726: UserWarning: 'early_stopping_rounds' argument is deprecated and will be removed in a future release of LightGBM. Pass 'early_stopping()' callback via 'callbacks' argument instead.\n",
      "  _log_warning(\"'early_stopping_rounds' argument is deprecated and will be removed in a future release of LightGBM. \"\n",
      "C:\\ProgramData\\Anaconda3\\lib\\site-packages\\lightgbm\\sklearn.py:736: UserWarning: 'verbose' argument is deprecated and will be removed in a future release of LightGBM. Pass 'log_evaluation()' callback via 'callbacks' argument instead.\n",
      "  _log_warning(\"'verbose' argument is deprecated and will be removed in a future release of LightGBM. \"\n"
     ]
    },
    {
     "name": "stdout",
     "output_type": "stream",
     "text": [
      "[100]\tvalid_0's l2: 2.70572e+12\n",
      "[100]\tvalid_0's l2: 3.90847e+12\n",
      "[100]\tvalid_0's l2: 3.50344e+12\n",
      "[100]\tvalid_0's l2: 1.45977e+12\n",
      "[100]\tvalid_0's l2: 1.77214e+12\n"
     ]
    }
   ],
   "source": [
    "model = lgb.LGBMRegressor(random_state=777, n_estimators=1000)\n",
    "\n",
    "models = []\n",
    "\n",
    "for train_idx, val_idx in k_fold.split(X_train):\n",
    "    x_t = X_train.iloc[train_idx]\n",
    "    y_t = y_train.iloc[train_idx]\n",
    "    x_val = X_train.iloc[val_idx]\n",
    "    y_val = y_train.iloc[val_idx]\n",
    "    \n",
    "    models.append(model.fit(x_t, y_t, eval_set=(x_val, y_val), early_stopping_rounds=100, verbose =100))"
   ]
  },
  {
   "cell_type": "code",
   "execution_count": 57,
   "metadata": {},
   "outputs": [
    {
     "name": "stdout",
     "output_type": "stream",
     "text": [
      "[100]\tvalid_0's l2: 1.77214e+12\n"
     ]
    }
   ],
   "source": [
    "models.append(model.fit(x_t, y_t, eval_set=(x_val, y_val), early_stopping_rounds=100, verbose =100)) #오렌지(학습)은 그냥 넣기. 초록색은 eval_로 놓기, early는 100번 진행하는 동안 학습이 감소되지 않으면 멈추라는 뜻), vervose는 100번째마다 모델 출력값 산출"
   ]
  },
  {
   "cell_type": "code",
   "execution_count": 58,
   "metadata": {},
   "outputs": [
    {
     "data": {
      "text/plain": [
       "[LGBMRegressor(n_estimators=1000, random_state=777),\n",
       " LGBMRegressor(n_estimators=1000, random_state=777),\n",
       " LGBMRegressor(n_estimators=1000, random_state=777),\n",
       " LGBMRegressor(n_estimators=1000, random_state=777),\n",
       " LGBMRegressor(n_estimators=1000, random_state=777),\n",
       " LGBMRegressor(n_estimators=1000, random_state=777)]"
      ]
     },
     "execution_count": 58,
     "metadata": {},
     "output_type": "execute_result"
    }
   ],
   "source": [
    "models"
   ]
  },
  {
   "cell_type": "code",
   "execution_count": 59,
   "metadata": {},
   "outputs": [],
   "source": [
    "preds = []\n",
    "for model in models:\n",
    "    preds.append(model.predict(X_test))\n",
    "    len(preds) #for를 써서 각각의 model에 대한 predict 진행, preds 리스트에 저장(예측모델)"
   ]
  },
  {
   "cell_type": "code",
   "execution_count": 60,
   "metadata": {},
   "outputs": [],
   "source": [
    "kfoldLightGBM = submission.copy()"
   ]
  },
  {
   "cell_type": "code",
   "execution_count": 61,
   "metadata": {},
   "outputs": [
    {
     "data": {
      "text/plain": [
       "[array([3367422.08211024,  961138.88337016, 1097929.67851313,\n",
       "        2097270.81999921,  781476.31131047,  123133.23396977,\n",
       "          84085.01896248,  199222.92670303,  124854.97973097,\n",
       "        1072684.78820647,  657040.55769984, 1644701.47160779,\n",
       "         924735.72080619,  191699.58415836,  723218.39948755,\n",
       "        2395613.42888462,  113180.54906592, 1882765.92812296,\n",
       "          97286.47282983,  417270.42113431,  161482.3367577 ,\n",
       "          63495.73363115,  598057.42337284,  249411.25868881,\n",
       "         308424.71884273, 1319518.60852241,  202273.52740684,\n",
       "        1076683.13768137,  491636.41945325,  183406.6380314 ,\n",
       "        1740233.45816734,   86696.17528125,  440430.29773088,\n",
       "        2040944.13061099,  113375.45695331,  531746.29484356,\n",
       "         106207.35971699,  169560.79581187,  158101.0895316 ,\n",
       "          95037.29701059,  466355.50624629,  197548.63265325,\n",
       "         198810.0901353 ,  682743.4340129 ,  679265.22397749,\n",
       "         617812.91125278,  219182.85833837,   83712.10602149,\n",
       "        1206257.86593038,  213886.45118276,  225829.13565632,\n",
       "         573638.25784044,  213008.72404464, 1256363.95636108,\n",
       "        1114803.4971861 ,  743531.85320002,  491360.56067236,\n",
       "         844903.11979141, 1294842.58551457, 3224861.58056056,\n",
       "         620636.85839868, 1997931.01104478,  425408.70724227,\n",
       "         187911.96484382,  146932.14876274,   60290.34778046,\n",
       "        1553051.98103674,   61273.32234969,  434403.58150991,\n",
       "         295641.77082639, 3270724.75199692,  956695.86295249,\n",
       "          52421.39380137, 1193829.08957371,  109115.94774032,\n",
       "         114532.36574566, 1889840.31759081,  263117.7221664 ,\n",
       "         110722.44800397,  129405.69463079,  295288.27657346,\n",
       "        2208289.14524844,  127156.40131508, 2356552.01519359,\n",
       "          52421.39380137, 1582094.56763018,  450263.02347743,\n",
       "         180314.7209139 ,  207866.80825891,  237980.96274482,\n",
       "          92809.10191796,  217726.13148671,  588167.04361702,\n",
       "        2269569.15414991,  413549.08320869,  504238.61127942,\n",
       "         121235.38111888,  294348.6064813 ,  365600.03475309,\n",
       "        1021310.81474734, 1255348.78654001, 1121695.37239584,\n",
       "         236858.1355381 ,  180837.57476421,  390892.54870688,\n",
       "         112045.06953824, 3091294.61560971,   71489.84756224,\n",
       "        3949551.73068699,  117269.53815136,   76582.3994148 ,\n",
       "        1933601.27793109, 1675206.65522009,  294348.6064813 ,\n",
       "          97940.27258456,  945839.01956416,  610770.20862757,\n",
       "        1804885.34137216,  199766.90646407,   70766.27122776,\n",
       "          81754.00329429, 1021310.81474734,  846364.16218315,\n",
       "          77206.4852859 ,  598474.09814662,  169200.18001164,\n",
       "          73757.25966134,   68560.19329018,  363573.18970532,\n",
       "         439100.02360785,   53273.19743239,  883179.93430519,\n",
       "          96841.00528099,   69705.57216142,  720189.94864194,\n",
       "        4682200.86959811,  157547.86592702,  598577.33917498,\n",
       "         103530.67260964,  219913.31885361,   69705.57216142,\n",
       "        3393838.48355355, 3747750.51209052,  137237.96352743,\n",
       "         205694.9146793 , 1343063.74316061,  105778.55398733,\n",
       "         113406.67661411, 2090467.44678197,  676486.18009377,\n",
       "        1653182.84275506,  151567.24115244,   82132.69602781,\n",
       "         450200.37816199,  123824.9061514 ,  841869.56483077,\n",
       "          95800.41312684,  118291.73959934, 2085585.62459758,\n",
       "        2372839.45720666,  247688.59858277, 1334681.62533764,\n",
       "         101692.7552419 ,  503472.70498147,   64636.19839218,\n",
       "         320805.50593895, 2623266.33617439,  174088.14927962,\n",
       "          72116.10600518,   80293.56098003,   89828.86338213,\n",
       "         219193.02374581,  328023.58124177,   60290.34778046,\n",
       "         516294.37658866,  236774.09865655,  163101.99672652,\n",
       "          95037.29701059, 4401076.73195112, 3540272.0939466 ,\n",
       "          80652.10214941,   64007.05829165,   91088.74649744,\n",
       "         451288.50611234, 2108891.7577948 ,  222324.39435632,\n",
       "         230969.76551419,  119869.73646973,  202629.14049356,\n",
       "        3372525.98485469,  194055.24146137,   82570.78055486,\n",
       "         107755.73232124,   98100.67856341,   64007.05829165,\n",
       "        1960017.88124655,  439387.54981251, 1311678.25959343,\n",
       "          52266.56751161,  612357.4359533 ,  277611.14005727,\n",
       "         100834.87848026,   52421.39380137,  320518.12600116,\n",
       "         622991.23928914,  905631.603816  , 2927834.24849227,\n",
       "         562358.56357488,  111381.83047422,  781476.31131047,\n",
       "         798596.64645281, 2310966.59797285, 5133725.87086224,\n",
       "        1281440.30372974,  171353.72979582,   89630.73883889,\n",
       "        1555941.58912764,  124073.12498191,   66108.35792552,\n",
       "         201459.85880026,  108993.88378627, 3134539.90969621,\n",
       "         148239.45542642,   53451.2389687 , 1307718.56304709,\n",
       "         214406.20173983,  194835.86837801, 3367422.08211024,\n",
       "         199766.90646407, 3823577.41600747,   68447.35094925,\n",
       "         739960.30606392,  506712.38290343,  150255.49362263,\n",
       "          62093.65018694,   64707.81660264,  151784.52074685,\n",
       "          80757.16568265,  177095.84545845,  210255.47503947,\n",
       "         360547.62990175,  181508.22558258,   55171.21699634]),\n",
       " array([3367422.08211024,  961138.88337016, 1097929.67851313,\n",
       "        2097270.81999921,  781476.31131047,  123133.23396977,\n",
       "          84085.01896248,  199222.92670303,  124854.97973097,\n",
       "        1072684.78820647,  657040.55769984, 1644701.47160779,\n",
       "         924735.72080619,  191699.58415836,  723218.39948755,\n",
       "        2395613.42888462,  113180.54906592, 1882765.92812296,\n",
       "          97286.47282983,  417270.42113431,  161482.3367577 ,\n",
       "          63495.73363115,  598057.42337284,  249411.25868881,\n",
       "         308424.71884273, 1319518.60852241,  202273.52740684,\n",
       "        1076683.13768137,  491636.41945325,  183406.6380314 ,\n",
       "        1740233.45816734,   86696.17528125,  440430.29773088,\n",
       "        2040944.13061099,  113375.45695331,  531746.29484356,\n",
       "         106207.35971699,  169560.79581187,  158101.0895316 ,\n",
       "          95037.29701059,  466355.50624629,  197548.63265325,\n",
       "         198810.0901353 ,  682743.4340129 ,  679265.22397749,\n",
       "         617812.91125278,  219182.85833837,   83712.10602149,\n",
       "        1206257.86593038,  213886.45118276,  225829.13565632,\n",
       "         573638.25784044,  213008.72404464, 1256363.95636108,\n",
       "        1114803.4971861 ,  743531.85320002,  491360.56067236,\n",
       "         844903.11979141, 1294842.58551457, 3224861.58056056,\n",
       "         620636.85839868, 1997931.01104478,  425408.70724227,\n",
       "         187911.96484382,  146932.14876274,   60290.34778046,\n",
       "        1553051.98103674,   61273.32234969,  434403.58150991,\n",
       "         295641.77082639, 3270724.75199692,  956695.86295249,\n",
       "          52421.39380137, 1193829.08957371,  109115.94774032,\n",
       "         114532.36574566, 1889840.31759081,  263117.7221664 ,\n",
       "         110722.44800397,  129405.69463079,  295288.27657346,\n",
       "        2208289.14524844,  127156.40131508, 2356552.01519359,\n",
       "          52421.39380137, 1582094.56763018,  450263.02347743,\n",
       "         180314.7209139 ,  207866.80825891,  237980.96274482,\n",
       "          92809.10191796,  217726.13148671,  588167.04361702,\n",
       "        2269569.15414991,  413549.08320869,  504238.61127942,\n",
       "         121235.38111888,  294348.6064813 ,  365600.03475309,\n",
       "        1021310.81474734, 1255348.78654001, 1121695.37239584,\n",
       "         236858.1355381 ,  180837.57476421,  390892.54870688,\n",
       "         112045.06953824, 3091294.61560971,   71489.84756224,\n",
       "        3949551.73068699,  117269.53815136,   76582.3994148 ,\n",
       "        1933601.27793109, 1675206.65522009,  294348.6064813 ,\n",
       "          97940.27258456,  945839.01956416,  610770.20862757,\n",
       "        1804885.34137216,  199766.90646407,   70766.27122776,\n",
       "          81754.00329429, 1021310.81474734,  846364.16218315,\n",
       "          77206.4852859 ,  598474.09814662,  169200.18001164,\n",
       "          73757.25966134,   68560.19329018,  363573.18970532,\n",
       "         439100.02360785,   53273.19743239,  883179.93430519,\n",
       "          96841.00528099,   69705.57216142,  720189.94864194,\n",
       "        4682200.86959811,  157547.86592702,  598577.33917498,\n",
       "         103530.67260964,  219913.31885361,   69705.57216142,\n",
       "        3393838.48355355, 3747750.51209052,  137237.96352743,\n",
       "         205694.9146793 , 1343063.74316061,  105778.55398733,\n",
       "         113406.67661411, 2090467.44678197,  676486.18009377,\n",
       "        1653182.84275506,  151567.24115244,   82132.69602781,\n",
       "         450200.37816199,  123824.9061514 ,  841869.56483077,\n",
       "          95800.41312684,  118291.73959934, 2085585.62459758,\n",
       "        2372839.45720666,  247688.59858277, 1334681.62533764,\n",
       "         101692.7552419 ,  503472.70498147,   64636.19839218,\n",
       "         320805.50593895, 2623266.33617439,  174088.14927962,\n",
       "          72116.10600518,   80293.56098003,   89828.86338213,\n",
       "         219193.02374581,  328023.58124177,   60290.34778046,\n",
       "         516294.37658866,  236774.09865655,  163101.99672652,\n",
       "          95037.29701059, 4401076.73195112, 3540272.0939466 ,\n",
       "          80652.10214941,   64007.05829165,   91088.74649744,\n",
       "         451288.50611234, 2108891.7577948 ,  222324.39435632,\n",
       "         230969.76551419,  119869.73646973,  202629.14049356,\n",
       "        3372525.98485469,  194055.24146137,   82570.78055486,\n",
       "         107755.73232124,   98100.67856341,   64007.05829165,\n",
       "        1960017.88124655,  439387.54981251, 1311678.25959343,\n",
       "          52266.56751161,  612357.4359533 ,  277611.14005727,\n",
       "         100834.87848026,   52421.39380137,  320518.12600116,\n",
       "         622991.23928914,  905631.603816  , 2927834.24849227,\n",
       "         562358.56357488,  111381.83047422,  781476.31131047,\n",
       "         798596.64645281, 2310966.59797285, 5133725.87086224,\n",
       "        1281440.30372974,  171353.72979582,   89630.73883889,\n",
       "        1555941.58912764,  124073.12498191,   66108.35792552,\n",
       "         201459.85880026,  108993.88378627, 3134539.90969621,\n",
       "         148239.45542642,   53451.2389687 , 1307718.56304709,\n",
       "         214406.20173983,  194835.86837801, 3367422.08211024,\n",
       "         199766.90646407, 3823577.41600747,   68447.35094925,\n",
       "         739960.30606392,  506712.38290343,  150255.49362263,\n",
       "          62093.65018694,   64707.81660264,  151784.52074685,\n",
       "          80757.16568265,  177095.84545845,  210255.47503947,\n",
       "         360547.62990175,  181508.22558258,   55171.21699634]),\n",
       " array([3367422.08211024,  961138.88337016, 1097929.67851313,\n",
       "        2097270.81999921,  781476.31131047,  123133.23396977,\n",
       "          84085.01896248,  199222.92670303,  124854.97973097,\n",
       "        1072684.78820647,  657040.55769984, 1644701.47160779,\n",
       "         924735.72080619,  191699.58415836,  723218.39948755,\n",
       "        2395613.42888462,  113180.54906592, 1882765.92812296,\n",
       "          97286.47282983,  417270.42113431,  161482.3367577 ,\n",
       "          63495.73363115,  598057.42337284,  249411.25868881,\n",
       "         308424.71884273, 1319518.60852241,  202273.52740684,\n",
       "        1076683.13768137,  491636.41945325,  183406.6380314 ,\n",
       "        1740233.45816734,   86696.17528125,  440430.29773088,\n",
       "        2040944.13061099,  113375.45695331,  531746.29484356,\n",
       "         106207.35971699,  169560.79581187,  158101.0895316 ,\n",
       "          95037.29701059,  466355.50624629,  197548.63265325,\n",
       "         198810.0901353 ,  682743.4340129 ,  679265.22397749,\n",
       "         617812.91125278,  219182.85833837,   83712.10602149,\n",
       "        1206257.86593038,  213886.45118276,  225829.13565632,\n",
       "         573638.25784044,  213008.72404464, 1256363.95636108,\n",
       "        1114803.4971861 ,  743531.85320002,  491360.56067236,\n",
       "         844903.11979141, 1294842.58551457, 3224861.58056056,\n",
       "         620636.85839868, 1997931.01104478,  425408.70724227,\n",
       "         187911.96484382,  146932.14876274,   60290.34778046,\n",
       "        1553051.98103674,   61273.32234969,  434403.58150991,\n",
       "         295641.77082639, 3270724.75199692,  956695.86295249,\n",
       "          52421.39380137, 1193829.08957371,  109115.94774032,\n",
       "         114532.36574566, 1889840.31759081,  263117.7221664 ,\n",
       "         110722.44800397,  129405.69463079,  295288.27657346,\n",
       "        2208289.14524844,  127156.40131508, 2356552.01519359,\n",
       "          52421.39380137, 1582094.56763018,  450263.02347743,\n",
       "         180314.7209139 ,  207866.80825891,  237980.96274482,\n",
       "          92809.10191796,  217726.13148671,  588167.04361702,\n",
       "        2269569.15414991,  413549.08320869,  504238.61127942,\n",
       "         121235.38111888,  294348.6064813 ,  365600.03475309,\n",
       "        1021310.81474734, 1255348.78654001, 1121695.37239584,\n",
       "         236858.1355381 ,  180837.57476421,  390892.54870688,\n",
       "         112045.06953824, 3091294.61560971,   71489.84756224,\n",
       "        3949551.73068699,  117269.53815136,   76582.3994148 ,\n",
       "        1933601.27793109, 1675206.65522009,  294348.6064813 ,\n",
       "          97940.27258456,  945839.01956416,  610770.20862757,\n",
       "        1804885.34137216,  199766.90646407,   70766.27122776,\n",
       "          81754.00329429, 1021310.81474734,  846364.16218315,\n",
       "          77206.4852859 ,  598474.09814662,  169200.18001164,\n",
       "          73757.25966134,   68560.19329018,  363573.18970532,\n",
       "         439100.02360785,   53273.19743239,  883179.93430519,\n",
       "          96841.00528099,   69705.57216142,  720189.94864194,\n",
       "        4682200.86959811,  157547.86592702,  598577.33917498,\n",
       "         103530.67260964,  219913.31885361,   69705.57216142,\n",
       "        3393838.48355355, 3747750.51209052,  137237.96352743,\n",
       "         205694.9146793 , 1343063.74316061,  105778.55398733,\n",
       "         113406.67661411, 2090467.44678197,  676486.18009377,\n",
       "        1653182.84275506,  151567.24115244,   82132.69602781,\n",
       "         450200.37816199,  123824.9061514 ,  841869.56483077,\n",
       "          95800.41312684,  118291.73959934, 2085585.62459758,\n",
       "        2372839.45720666,  247688.59858277, 1334681.62533764,\n",
       "         101692.7552419 ,  503472.70498147,   64636.19839218,\n",
       "         320805.50593895, 2623266.33617439,  174088.14927962,\n",
       "          72116.10600518,   80293.56098003,   89828.86338213,\n",
       "         219193.02374581,  328023.58124177,   60290.34778046,\n",
       "         516294.37658866,  236774.09865655,  163101.99672652,\n",
       "          95037.29701059, 4401076.73195112, 3540272.0939466 ,\n",
       "          80652.10214941,   64007.05829165,   91088.74649744,\n",
       "         451288.50611234, 2108891.7577948 ,  222324.39435632,\n",
       "         230969.76551419,  119869.73646973,  202629.14049356,\n",
       "        3372525.98485469,  194055.24146137,   82570.78055486,\n",
       "         107755.73232124,   98100.67856341,   64007.05829165,\n",
       "        1960017.88124655,  439387.54981251, 1311678.25959343,\n",
       "          52266.56751161,  612357.4359533 ,  277611.14005727,\n",
       "         100834.87848026,   52421.39380137,  320518.12600116,\n",
       "         622991.23928914,  905631.603816  , 2927834.24849227,\n",
       "         562358.56357488,  111381.83047422,  781476.31131047,\n",
       "         798596.64645281, 2310966.59797285, 5133725.87086224,\n",
       "        1281440.30372974,  171353.72979582,   89630.73883889,\n",
       "        1555941.58912764,  124073.12498191,   66108.35792552,\n",
       "         201459.85880026,  108993.88378627, 3134539.90969621,\n",
       "         148239.45542642,   53451.2389687 , 1307718.56304709,\n",
       "         214406.20173983,  194835.86837801, 3367422.08211024,\n",
       "         199766.90646407, 3823577.41600747,   68447.35094925,\n",
       "         739960.30606392,  506712.38290343,  150255.49362263,\n",
       "          62093.65018694,   64707.81660264,  151784.52074685,\n",
       "          80757.16568265,  177095.84545845,  210255.47503947,\n",
       "         360547.62990175,  181508.22558258,   55171.21699634]),\n",
       " array([3367422.08211024,  961138.88337016, 1097929.67851313,\n",
       "        2097270.81999921,  781476.31131047,  123133.23396977,\n",
       "          84085.01896248,  199222.92670303,  124854.97973097,\n",
       "        1072684.78820647,  657040.55769984, 1644701.47160779,\n",
       "         924735.72080619,  191699.58415836,  723218.39948755,\n",
       "        2395613.42888462,  113180.54906592, 1882765.92812296,\n",
       "          97286.47282983,  417270.42113431,  161482.3367577 ,\n",
       "          63495.73363115,  598057.42337284,  249411.25868881,\n",
       "         308424.71884273, 1319518.60852241,  202273.52740684,\n",
       "        1076683.13768137,  491636.41945325,  183406.6380314 ,\n",
       "        1740233.45816734,   86696.17528125,  440430.29773088,\n",
       "        2040944.13061099,  113375.45695331,  531746.29484356,\n",
       "         106207.35971699,  169560.79581187,  158101.0895316 ,\n",
       "          95037.29701059,  466355.50624629,  197548.63265325,\n",
       "         198810.0901353 ,  682743.4340129 ,  679265.22397749,\n",
       "         617812.91125278,  219182.85833837,   83712.10602149,\n",
       "        1206257.86593038,  213886.45118276,  225829.13565632,\n",
       "         573638.25784044,  213008.72404464, 1256363.95636108,\n",
       "        1114803.4971861 ,  743531.85320002,  491360.56067236,\n",
       "         844903.11979141, 1294842.58551457, 3224861.58056056,\n",
       "         620636.85839868, 1997931.01104478,  425408.70724227,\n",
       "         187911.96484382,  146932.14876274,   60290.34778046,\n",
       "        1553051.98103674,   61273.32234969,  434403.58150991,\n",
       "         295641.77082639, 3270724.75199692,  956695.86295249,\n",
       "          52421.39380137, 1193829.08957371,  109115.94774032,\n",
       "         114532.36574566, 1889840.31759081,  263117.7221664 ,\n",
       "         110722.44800397,  129405.69463079,  295288.27657346,\n",
       "        2208289.14524844,  127156.40131508, 2356552.01519359,\n",
       "          52421.39380137, 1582094.56763018,  450263.02347743,\n",
       "         180314.7209139 ,  207866.80825891,  237980.96274482,\n",
       "          92809.10191796,  217726.13148671,  588167.04361702,\n",
       "        2269569.15414991,  413549.08320869,  504238.61127942,\n",
       "         121235.38111888,  294348.6064813 ,  365600.03475309,\n",
       "        1021310.81474734, 1255348.78654001, 1121695.37239584,\n",
       "         236858.1355381 ,  180837.57476421,  390892.54870688,\n",
       "         112045.06953824, 3091294.61560971,   71489.84756224,\n",
       "        3949551.73068699,  117269.53815136,   76582.3994148 ,\n",
       "        1933601.27793109, 1675206.65522009,  294348.6064813 ,\n",
       "          97940.27258456,  945839.01956416,  610770.20862757,\n",
       "        1804885.34137216,  199766.90646407,   70766.27122776,\n",
       "          81754.00329429, 1021310.81474734,  846364.16218315,\n",
       "          77206.4852859 ,  598474.09814662,  169200.18001164,\n",
       "          73757.25966134,   68560.19329018,  363573.18970532,\n",
       "         439100.02360785,   53273.19743239,  883179.93430519,\n",
       "          96841.00528099,   69705.57216142,  720189.94864194,\n",
       "        4682200.86959811,  157547.86592702,  598577.33917498,\n",
       "         103530.67260964,  219913.31885361,   69705.57216142,\n",
       "        3393838.48355355, 3747750.51209052,  137237.96352743,\n",
       "         205694.9146793 , 1343063.74316061,  105778.55398733,\n",
       "         113406.67661411, 2090467.44678197,  676486.18009377,\n",
       "        1653182.84275506,  151567.24115244,   82132.69602781,\n",
       "         450200.37816199,  123824.9061514 ,  841869.56483077,\n",
       "          95800.41312684,  118291.73959934, 2085585.62459758,\n",
       "        2372839.45720666,  247688.59858277, 1334681.62533764,\n",
       "         101692.7552419 ,  503472.70498147,   64636.19839218,\n",
       "         320805.50593895, 2623266.33617439,  174088.14927962,\n",
       "          72116.10600518,   80293.56098003,   89828.86338213,\n",
       "         219193.02374581,  328023.58124177,   60290.34778046,\n",
       "         516294.37658866,  236774.09865655,  163101.99672652,\n",
       "          95037.29701059, 4401076.73195112, 3540272.0939466 ,\n",
       "          80652.10214941,   64007.05829165,   91088.74649744,\n",
       "         451288.50611234, 2108891.7577948 ,  222324.39435632,\n",
       "         230969.76551419,  119869.73646973,  202629.14049356,\n",
       "        3372525.98485469,  194055.24146137,   82570.78055486,\n",
       "         107755.73232124,   98100.67856341,   64007.05829165,\n",
       "        1960017.88124655,  439387.54981251, 1311678.25959343,\n",
       "          52266.56751161,  612357.4359533 ,  277611.14005727,\n",
       "         100834.87848026,   52421.39380137,  320518.12600116,\n",
       "         622991.23928914,  905631.603816  , 2927834.24849227,\n",
       "         562358.56357488,  111381.83047422,  781476.31131047,\n",
       "         798596.64645281, 2310966.59797285, 5133725.87086224,\n",
       "        1281440.30372974,  171353.72979582,   89630.73883889,\n",
       "        1555941.58912764,  124073.12498191,   66108.35792552,\n",
       "         201459.85880026,  108993.88378627, 3134539.90969621,\n",
       "         148239.45542642,   53451.2389687 , 1307718.56304709,\n",
       "         214406.20173983,  194835.86837801, 3367422.08211024,\n",
       "         199766.90646407, 3823577.41600747,   68447.35094925,\n",
       "         739960.30606392,  506712.38290343,  150255.49362263,\n",
       "          62093.65018694,   64707.81660264,  151784.52074685,\n",
       "          80757.16568265,  177095.84545845,  210255.47503947,\n",
       "         360547.62990175,  181508.22558258,   55171.21699634]),\n",
       " array([3367422.08211024,  961138.88337016, 1097929.67851313,\n",
       "        2097270.81999921,  781476.31131047,  123133.23396977,\n",
       "          84085.01896248,  199222.92670303,  124854.97973097,\n",
       "        1072684.78820647,  657040.55769984, 1644701.47160779,\n",
       "         924735.72080619,  191699.58415836,  723218.39948755,\n",
       "        2395613.42888462,  113180.54906592, 1882765.92812296,\n",
       "          97286.47282983,  417270.42113431,  161482.3367577 ,\n",
       "          63495.73363115,  598057.42337284,  249411.25868881,\n",
       "         308424.71884273, 1319518.60852241,  202273.52740684,\n",
       "        1076683.13768137,  491636.41945325,  183406.6380314 ,\n",
       "        1740233.45816734,   86696.17528125,  440430.29773088,\n",
       "        2040944.13061099,  113375.45695331,  531746.29484356,\n",
       "         106207.35971699,  169560.79581187,  158101.0895316 ,\n",
       "          95037.29701059,  466355.50624629,  197548.63265325,\n",
       "         198810.0901353 ,  682743.4340129 ,  679265.22397749,\n",
       "         617812.91125278,  219182.85833837,   83712.10602149,\n",
       "        1206257.86593038,  213886.45118276,  225829.13565632,\n",
       "         573638.25784044,  213008.72404464, 1256363.95636108,\n",
       "        1114803.4971861 ,  743531.85320002,  491360.56067236,\n",
       "         844903.11979141, 1294842.58551457, 3224861.58056056,\n",
       "         620636.85839868, 1997931.01104478,  425408.70724227,\n",
       "         187911.96484382,  146932.14876274,   60290.34778046,\n",
       "        1553051.98103674,   61273.32234969,  434403.58150991,\n",
       "         295641.77082639, 3270724.75199692,  956695.86295249,\n",
       "          52421.39380137, 1193829.08957371,  109115.94774032,\n",
       "         114532.36574566, 1889840.31759081,  263117.7221664 ,\n",
       "         110722.44800397,  129405.69463079,  295288.27657346,\n",
       "        2208289.14524844,  127156.40131508, 2356552.01519359,\n",
       "          52421.39380137, 1582094.56763018,  450263.02347743,\n",
       "         180314.7209139 ,  207866.80825891,  237980.96274482,\n",
       "          92809.10191796,  217726.13148671,  588167.04361702,\n",
       "        2269569.15414991,  413549.08320869,  504238.61127942,\n",
       "         121235.38111888,  294348.6064813 ,  365600.03475309,\n",
       "        1021310.81474734, 1255348.78654001, 1121695.37239584,\n",
       "         236858.1355381 ,  180837.57476421,  390892.54870688,\n",
       "         112045.06953824, 3091294.61560971,   71489.84756224,\n",
       "        3949551.73068699,  117269.53815136,   76582.3994148 ,\n",
       "        1933601.27793109, 1675206.65522009,  294348.6064813 ,\n",
       "          97940.27258456,  945839.01956416,  610770.20862757,\n",
       "        1804885.34137216,  199766.90646407,   70766.27122776,\n",
       "          81754.00329429, 1021310.81474734,  846364.16218315,\n",
       "          77206.4852859 ,  598474.09814662,  169200.18001164,\n",
       "          73757.25966134,   68560.19329018,  363573.18970532,\n",
       "         439100.02360785,   53273.19743239,  883179.93430519,\n",
       "          96841.00528099,   69705.57216142,  720189.94864194,\n",
       "        4682200.86959811,  157547.86592702,  598577.33917498,\n",
       "         103530.67260964,  219913.31885361,   69705.57216142,\n",
       "        3393838.48355355, 3747750.51209052,  137237.96352743,\n",
       "         205694.9146793 , 1343063.74316061,  105778.55398733,\n",
       "         113406.67661411, 2090467.44678197,  676486.18009377,\n",
       "        1653182.84275506,  151567.24115244,   82132.69602781,\n",
       "         450200.37816199,  123824.9061514 ,  841869.56483077,\n",
       "          95800.41312684,  118291.73959934, 2085585.62459758,\n",
       "        2372839.45720666,  247688.59858277, 1334681.62533764,\n",
       "         101692.7552419 ,  503472.70498147,   64636.19839218,\n",
       "         320805.50593895, 2623266.33617439,  174088.14927962,\n",
       "          72116.10600518,   80293.56098003,   89828.86338213,\n",
       "         219193.02374581,  328023.58124177,   60290.34778046,\n",
       "         516294.37658866,  236774.09865655,  163101.99672652,\n",
       "          95037.29701059, 4401076.73195112, 3540272.0939466 ,\n",
       "          80652.10214941,   64007.05829165,   91088.74649744,\n",
       "         451288.50611234, 2108891.7577948 ,  222324.39435632,\n",
       "         230969.76551419,  119869.73646973,  202629.14049356,\n",
       "        3372525.98485469,  194055.24146137,   82570.78055486,\n",
       "         107755.73232124,   98100.67856341,   64007.05829165,\n",
       "        1960017.88124655,  439387.54981251, 1311678.25959343,\n",
       "          52266.56751161,  612357.4359533 ,  277611.14005727,\n",
       "         100834.87848026,   52421.39380137,  320518.12600116,\n",
       "         622991.23928914,  905631.603816  , 2927834.24849227,\n",
       "         562358.56357488,  111381.83047422,  781476.31131047,\n",
       "         798596.64645281, 2310966.59797285, 5133725.87086224,\n",
       "        1281440.30372974,  171353.72979582,   89630.73883889,\n",
       "        1555941.58912764,  124073.12498191,   66108.35792552,\n",
       "         201459.85880026,  108993.88378627, 3134539.90969621,\n",
       "         148239.45542642,   53451.2389687 , 1307718.56304709,\n",
       "         214406.20173983,  194835.86837801, 3367422.08211024,\n",
       "         199766.90646407, 3823577.41600747,   68447.35094925,\n",
       "         739960.30606392,  506712.38290343,  150255.49362263,\n",
       "          62093.65018694,   64707.81660264,  151784.52074685,\n",
       "          80757.16568265,  177095.84545845,  210255.47503947,\n",
       "         360547.62990175,  181508.22558258,   55171.21699634]),\n",
       " array([3367422.08211024,  961138.88337016, 1097929.67851313,\n",
       "        2097270.81999921,  781476.31131047,  123133.23396977,\n",
       "          84085.01896248,  199222.92670303,  124854.97973097,\n",
       "        1072684.78820647,  657040.55769984, 1644701.47160779,\n",
       "         924735.72080619,  191699.58415836,  723218.39948755,\n",
       "        2395613.42888462,  113180.54906592, 1882765.92812296,\n",
       "          97286.47282983,  417270.42113431,  161482.3367577 ,\n",
       "          63495.73363115,  598057.42337284,  249411.25868881,\n",
       "         308424.71884273, 1319518.60852241,  202273.52740684,\n",
       "        1076683.13768137,  491636.41945325,  183406.6380314 ,\n",
       "        1740233.45816734,   86696.17528125,  440430.29773088,\n",
       "        2040944.13061099,  113375.45695331,  531746.29484356,\n",
       "         106207.35971699,  169560.79581187,  158101.0895316 ,\n",
       "          95037.29701059,  466355.50624629,  197548.63265325,\n",
       "         198810.0901353 ,  682743.4340129 ,  679265.22397749,\n",
       "         617812.91125278,  219182.85833837,   83712.10602149,\n",
       "        1206257.86593038,  213886.45118276,  225829.13565632,\n",
       "         573638.25784044,  213008.72404464, 1256363.95636108,\n",
       "        1114803.4971861 ,  743531.85320002,  491360.56067236,\n",
       "         844903.11979141, 1294842.58551457, 3224861.58056056,\n",
       "         620636.85839868, 1997931.01104478,  425408.70724227,\n",
       "         187911.96484382,  146932.14876274,   60290.34778046,\n",
       "        1553051.98103674,   61273.32234969,  434403.58150991,\n",
       "         295641.77082639, 3270724.75199692,  956695.86295249,\n",
       "          52421.39380137, 1193829.08957371,  109115.94774032,\n",
       "         114532.36574566, 1889840.31759081,  263117.7221664 ,\n",
       "         110722.44800397,  129405.69463079,  295288.27657346,\n",
       "        2208289.14524844,  127156.40131508, 2356552.01519359,\n",
       "          52421.39380137, 1582094.56763018,  450263.02347743,\n",
       "         180314.7209139 ,  207866.80825891,  237980.96274482,\n",
       "          92809.10191796,  217726.13148671,  588167.04361702,\n",
       "        2269569.15414991,  413549.08320869,  504238.61127942,\n",
       "         121235.38111888,  294348.6064813 ,  365600.03475309,\n",
       "        1021310.81474734, 1255348.78654001, 1121695.37239584,\n",
       "         236858.1355381 ,  180837.57476421,  390892.54870688,\n",
       "         112045.06953824, 3091294.61560971,   71489.84756224,\n",
       "        3949551.73068699,  117269.53815136,   76582.3994148 ,\n",
       "        1933601.27793109, 1675206.65522009,  294348.6064813 ,\n",
       "          97940.27258456,  945839.01956416,  610770.20862757,\n",
       "        1804885.34137216,  199766.90646407,   70766.27122776,\n",
       "          81754.00329429, 1021310.81474734,  846364.16218315,\n",
       "          77206.4852859 ,  598474.09814662,  169200.18001164,\n",
       "          73757.25966134,   68560.19329018,  363573.18970532,\n",
       "         439100.02360785,   53273.19743239,  883179.93430519,\n",
       "          96841.00528099,   69705.57216142,  720189.94864194,\n",
       "        4682200.86959811,  157547.86592702,  598577.33917498,\n",
       "         103530.67260964,  219913.31885361,   69705.57216142,\n",
       "        3393838.48355355, 3747750.51209052,  137237.96352743,\n",
       "         205694.9146793 , 1343063.74316061,  105778.55398733,\n",
       "         113406.67661411, 2090467.44678197,  676486.18009377,\n",
       "        1653182.84275506,  151567.24115244,   82132.69602781,\n",
       "         450200.37816199,  123824.9061514 ,  841869.56483077,\n",
       "          95800.41312684,  118291.73959934, 2085585.62459758,\n",
       "        2372839.45720666,  247688.59858277, 1334681.62533764,\n",
       "         101692.7552419 ,  503472.70498147,   64636.19839218,\n",
       "         320805.50593895, 2623266.33617439,  174088.14927962,\n",
       "          72116.10600518,   80293.56098003,   89828.86338213,\n",
       "         219193.02374581,  328023.58124177,   60290.34778046,\n",
       "         516294.37658866,  236774.09865655,  163101.99672652,\n",
       "          95037.29701059, 4401076.73195112, 3540272.0939466 ,\n",
       "          80652.10214941,   64007.05829165,   91088.74649744,\n",
       "         451288.50611234, 2108891.7577948 ,  222324.39435632,\n",
       "         230969.76551419,  119869.73646973,  202629.14049356,\n",
       "        3372525.98485469,  194055.24146137,   82570.78055486,\n",
       "         107755.73232124,   98100.67856341,   64007.05829165,\n",
       "        1960017.88124655,  439387.54981251, 1311678.25959343,\n",
       "          52266.56751161,  612357.4359533 ,  277611.14005727,\n",
       "         100834.87848026,   52421.39380137,  320518.12600116,\n",
       "         622991.23928914,  905631.603816  , 2927834.24849227,\n",
       "         562358.56357488,  111381.83047422,  781476.31131047,\n",
       "         798596.64645281, 2310966.59797285, 5133725.87086224,\n",
       "        1281440.30372974,  171353.72979582,   89630.73883889,\n",
       "        1555941.58912764,  124073.12498191,   66108.35792552,\n",
       "         201459.85880026,  108993.88378627, 3134539.90969621,\n",
       "         148239.45542642,   53451.2389687 , 1307718.56304709,\n",
       "         214406.20173983,  194835.86837801, 3367422.08211024,\n",
       "         199766.90646407, 3823577.41600747,   68447.35094925,\n",
       "         739960.30606392,  506712.38290343,  150255.49362263,\n",
       "          62093.65018694,   64707.81660264,  151784.52074685,\n",
       "          80757.16568265,  177095.84545845,  210255.47503947,\n",
       "         360547.62990175,  181508.22558258,   55171.21699634])]"
      ]
     },
     "execution_count": 61,
     "metadata": {},
     "output_type": "execute_result"
    }
   ],
   "source": [
    "preds"
   ]
  },
  {
   "cell_type": "code",
   "execution_count": 62,
   "metadata": {},
   "outputs": [],
   "source": [
    "kfoldLightGBM['box_off_num'] = np.mean(preds, axis = 0) #축(axis)를 가지고 평균"
   ]
  },
  {
   "cell_type": "code",
   "execution_count": 63,
   "metadata": {},
   "outputs": [
    {
     "data": {
      "text/html": [
       "<div>\n",
       "<style scoped>\n",
       "    .dataframe tbody tr th:only-of-type {\n",
       "        vertical-align: middle;\n",
       "    }\n",
       "\n",
       "    .dataframe tbody tr th {\n",
       "        vertical-align: top;\n",
       "    }\n",
       "\n",
       "    .dataframe thead th {\n",
       "        text-align: right;\n",
       "    }\n",
       "</style>\n",
       "<table border=\"1\" class=\"dataframe\">\n",
       "  <thead>\n",
       "    <tr style=\"text-align: right;\">\n",
       "      <th></th>\n",
       "      <th>title</th>\n",
       "      <th>box_off_num</th>\n",
       "    </tr>\n",
       "  </thead>\n",
       "  <tbody>\n",
       "    <tr>\n",
       "      <th>0</th>\n",
       "      <td>용서는 없다</td>\n",
       "      <td>3.367422e+06</td>\n",
       "    </tr>\n",
       "    <tr>\n",
       "      <th>1</th>\n",
       "      <td>아빠가 여자를 좋아해</td>\n",
       "      <td>9.611389e+05</td>\n",
       "    </tr>\n",
       "    <tr>\n",
       "      <th>2</th>\n",
       "      <td>하모니</td>\n",
       "      <td>1.097930e+06</td>\n",
       "    </tr>\n",
       "    <tr>\n",
       "      <th>3</th>\n",
       "      <td>의형제</td>\n",
       "      <td>2.097271e+06</td>\n",
       "    </tr>\n",
       "    <tr>\n",
       "      <th>4</th>\n",
       "      <td>평행 이론</td>\n",
       "      <td>7.814763e+05</td>\n",
       "    </tr>\n",
       "  </tbody>\n",
       "</table>\n",
       "</div>"
      ],
      "text/plain": [
       "         title   box_off_num\n",
       "0       용서는 없다  3.367422e+06\n",
       "1  아빠가 여자를 좋아해  9.611389e+05\n",
       "2          하모니  1.097930e+06\n",
       "3          의형제  2.097271e+06\n",
       "4        평행 이론  7.814763e+05"
      ]
     },
     "execution_count": 63,
     "metadata": {},
     "output_type": "execute_result"
    }
   ],
   "source": [
    "kfoldLightGBM.head()"
   ]
  },
  {
   "cell_type": "code",
   "execution_count": 64,
   "metadata": {},
   "outputs": [],
   "source": [
    "kfoldLightGBM.to_csv('kfoldLightGBM.csv', index = False)"
   ]
  },
  {
   "cell_type": "code",
   "execution_count": 65,
   "metadata": {},
   "outputs": [],
   "source": [
    "#Feature engineering"
   ]
  },
  {
   "cell_type": "code",
   "execution_count": 66,
   "metadata": {},
   "outputs": [
    {
     "data": {
      "text/plain": [
       "['time', 'dir_prev_num', 'num_staff', 'num_actor']"
      ]
     },
     "execution_count": 66,
     "metadata": {},
     "output_type": "execute_result"
    }
   ],
   "source": [
    "features"
   ]
  },
  {
   "cell_type": "code",
   "execution_count": 67,
   "metadata": {},
   "outputs": [
    {
     "data": {
      "text/plain": [
       "Index(['title', 'distributor', 'genre', 'release_time', 'time',\n",
       "       'screening_rat', 'director', 'dir_prev_bfnum', 'dir_prev_num',\n",
       "       'num_staff', 'num_actor', 'box_off_num'],\n",
       "      dtype='object')"
      ]
     },
     "execution_count": 67,
     "metadata": {},
     "output_type": "execute_result"
    }
   ],
   "source": [
    "train.columns"
   ]
  },
  {
   "cell_type": "code",
   "execution_count": 68,
   "metadata": {},
   "outputs": [
    {
     "data": {
      "text/plain": [
       "0       액션\n",
       "1      느와르\n",
       "2       액션\n",
       "3      코미디\n",
       "4      코미디\n",
       "      ... \n",
       "595    드라마\n",
       "596    드라마\n",
       "597     공포\n",
       "598    느와르\n",
       "599     액션\n",
       "Name: genre, Length: 600, dtype: object"
      ]
     },
     "execution_count": 68,
     "metadata": {},
     "output_type": "execute_result"
    }
   ],
   "source": [
    "train.genre #문자형으로 되어있음 "
   ]
  },
  {
   "cell_type": "code",
   "execution_count": 69,
   "metadata": {},
   "outputs": [],
   "source": [
    "from sklearn import preprocessing\n",
    "le = preprocessing.LabelEncoder() #라벨인코더 : 형태 변경\n",
    "train['genre'] = le.fit_transform(train['genre']) #고유 단어에 번호 순차적 부여, 값으로 치환"
   ]
  },
  {
   "cell_type": "code",
   "execution_count": 70,
   "metadata": {},
   "outputs": [
    {
     "data": {
      "text/plain": [
       "0      10\n",
       "1       2\n",
       "2      10\n",
       "3      11\n",
       "4      11\n",
       "       ..\n",
       "595     4\n",
       "596     4\n",
       "597     1\n",
       "598     2\n",
       "599    10\n",
       "Name: genre, Length: 600, dtype: int32"
      ]
     },
     "execution_count": 70,
     "metadata": {},
     "output_type": "execute_result"
    }
   ],
   "source": [
    "train['genre']"
   ]
  },
  {
   "cell_type": "code",
   "execution_count": 71,
   "metadata": {},
   "outputs": [],
   "source": [
    "test['genre'] = le.transform(test['genre'])  #fit은 각각의 단어를 학습하는 과정, 다시 학습할 필요가 없으니 transform만 진행"
   ]
  },
  {
   "cell_type": "code",
   "execution_count": 72,
   "metadata": {},
   "outputs": [],
   "source": [
    "features = ['time', 'dir_prev_num', 'num_staff', 'num_actor', 'dir_prev_bfnum', 'genre']"
   ]
  },
  {
   "cell_type": "code",
   "execution_count": 73,
   "metadata": {},
   "outputs": [],
   "source": [
    "X_train, X_test, y_train = train[features], test[features], train[target]"
   ]
  },
  {
   "cell_type": "code",
   "execution_count": 74,
   "metadata": {},
   "outputs": [
    {
     "name": "stderr",
     "output_type": "stream",
     "text": [
      "C:\\ProgramData\\Anaconda3\\lib\\site-packages\\lightgbm\\sklearn.py:726: UserWarning: 'early_stopping_rounds' argument is deprecated and will be removed in a future release of LightGBM. Pass 'early_stopping()' callback via 'callbacks' argument instead.\n",
      "  _log_warning(\"'early_stopping_rounds' argument is deprecated and will be removed in a future release of LightGBM. \"\n",
      "C:\\ProgramData\\Anaconda3\\lib\\site-packages\\lightgbm\\sklearn.py:736: UserWarning: 'verbose' argument is deprecated and will be removed in a future release of LightGBM. Pass 'log_evaluation()' callback via 'callbacks' argument instead.\n",
      "  _log_warning(\"'verbose' argument is deprecated and will be removed in a future release of LightGBM. \"\n"
     ]
    },
    {
     "name": "stdout",
     "output_type": "stream",
     "text": [
      "[100]\tvalid_0's l2: 2.62067e+12\n",
      "[100]\tvalid_0's l2: 4.39227e+12\n",
      "[100]\tvalid_0's l2: 3.29841e+12\n",
      "[100]\tvalid_0's l2: 1.56499e+12\n",
      "[100]\tvalid_0's l2: 1.60118e+12\n"
     ]
    }
   ],
   "source": [
    "model = lgb.LGBMRegressor(random_state=777, n_estimators=1000)\n",
    "\n",
    "models = []\n",
    "\n",
    "for train_idx, val_idx in k_fold.split(X_train):\n",
    "    x_t = X_train.iloc[train_idx]\n",
    "    y_t = y_train.iloc[train_idx]\n",
    "    x_val = X_train.iloc[val_idx]\n",
    "    y_val = y_train.iloc[val_idx]\n",
    "    \n",
    "    models.append(model.fit(x_t, y_t, eval_set=(x_val, y_val), early_stopping_rounds=100, verbose =100))"
   ]
  },
  {
   "cell_type": "code",
   "execution_count": 75,
   "metadata": {},
   "outputs": [
    {
     "data": {
      "text/html": [
       "<div>\n",
       "<style scoped>\n",
       "    .dataframe tbody tr th:only-of-type {\n",
       "        vertical-align: middle;\n",
       "    }\n",
       "\n",
       "    .dataframe tbody tr th {\n",
       "        vertical-align: top;\n",
       "    }\n",
       "\n",
       "    .dataframe thead th {\n",
       "        text-align: right;\n",
       "    }\n",
       "</style>\n",
       "<table border=\"1\" class=\"dataframe\">\n",
       "  <thead>\n",
       "    <tr style=\"text-align: right;\">\n",
       "      <th></th>\n",
       "      <th>time</th>\n",
       "      <th>dir_prev_num</th>\n",
       "      <th>num_staff</th>\n",
       "      <th>num_actor</th>\n",
       "      <th>dir_prev_bfnum</th>\n",
       "      <th>genre</th>\n",
       "    </tr>\n",
       "  </thead>\n",
       "  <tbody>\n",
       "    <tr>\n",
       "      <th>0</th>\n",
       "      <td>125</td>\n",
       "      <td>2</td>\n",
       "      <td>304</td>\n",
       "      <td>3</td>\n",
       "      <td>3.005290e+05</td>\n",
       "      <td>2</td>\n",
       "    </tr>\n",
       "    <tr>\n",
       "      <th>1</th>\n",
       "      <td>113</td>\n",
       "      <td>4</td>\n",
       "      <td>275</td>\n",
       "      <td>3</td>\n",
       "      <td>3.427002e+05</td>\n",
       "      <td>5</td>\n",
       "    </tr>\n",
       "    <tr>\n",
       "      <th>2</th>\n",
       "      <td>115</td>\n",
       "      <td>3</td>\n",
       "      <td>419</td>\n",
       "      <td>7</td>\n",
       "      <td>4.206611e+06</td>\n",
       "      <td>4</td>\n",
       "    </tr>\n",
       "    <tr>\n",
       "      <th>3</th>\n",
       "      <td>116</td>\n",
       "      <td>2</td>\n",
       "      <td>408</td>\n",
       "      <td>2</td>\n",
       "      <td>6.913420e+05</td>\n",
       "      <td>10</td>\n",
       "    </tr>\n",
       "    <tr>\n",
       "      <th>4</th>\n",
       "      <td>110</td>\n",
       "      <td>1</td>\n",
       "      <td>380</td>\n",
       "      <td>1</td>\n",
       "      <td>3.173800e+04</td>\n",
       "      <td>1</td>\n",
       "    </tr>\n",
       "  </tbody>\n",
       "</table>\n",
       "</div>"
      ],
      "text/plain": [
       "   time  dir_prev_num  num_staff  num_actor  dir_prev_bfnum  genre\n",
       "0   125             2        304          3    3.005290e+05      2\n",
       "1   113             4        275          3    3.427002e+05      5\n",
       "2   115             3        419          7    4.206611e+06      4\n",
       "3   116             2        408          2    6.913420e+05     10\n",
       "4   110             1        380          1    3.173800e+04      1"
      ]
     },
     "execution_count": 75,
     "metadata": {},
     "output_type": "execute_result"
    }
   ],
   "source": [
    "X_test.head()"
   ]
  },
  {
   "cell_type": "code",
   "execution_count": 76,
   "metadata": {},
   "outputs": [],
   "source": [
    "preds = []\n",
    "for model in models:\n",
    "    preds.append(model.predict(X_test))\n",
    "    len(preds) #for를 써서 각각의 model에 대한 predict 진행, preds 리스트에 저장(예측모델)"
   ]
  },
  {
   "cell_type": "code",
   "execution_count": 77,
   "metadata": {},
   "outputs": [],
   "source": [
    "feLightGBM = submission.copy()"
   ]
  },
  {
   "cell_type": "code",
   "execution_count": 78,
   "metadata": {},
   "outputs": [],
   "source": [
    "feLightGBM['box_off_num'] = np.mean(preds, axis = 0)"
   ]
  },
  {
   "cell_type": "code",
   "execution_count": 79,
   "metadata": {},
   "outputs": [],
   "source": [
    "feLightGBM.to_csv('feLightGBM.csv', index = False)"
   ]
  },
  {
   "cell_type": "code",
   "execution_count": 80,
   "metadata": {},
   "outputs": [],
   "source": [
    "# Grid Search(모델튜닝) 모델 안에 여러 옵션이 존재하는데, 옵션이 바뀔 때마다 성능이 달라질 수 있음(ex : 하이퍼파라미터 변경 등)"
   ]
  },
  {
   "cell_type": "code",
   "execution_count": 81,
   "metadata": {},
   "outputs": [],
   "source": [
    "from sklearn.model_selection import GridSearchCV"
   ]
  },
  {
   "cell_type": "code",
   "execution_count": 90,
   "metadata": {},
   "outputs": [],
   "source": [
    "model = lgb.LGBMRegressor(random_state=777, n_estimators=1000)\n",
    "\n",
    "params = {\n",
    "    'learning_rate' : [0.1, 0.01, 0.003],\n",
    "    'min_child_samples' : [20, 30]} #러닝레이트, 민차일드샘플 6개 조합, 러닝메이트 : 순차적 진행할 때 학습을 기존 모델의 것을 다음모델에 얼마나 반영할 것인가. min_child_samples : 파라미터 설정\n",
    "\n",
    "gs = GridSearchCV(estimator=model,\n",
    "            param_grid=params,\n",
    "            scoring='neg_mean_squared_error',\n",
    "            cv = k_fold) #그리드 객체 만들기, param_grid  : 저장, "
   ]
  },
  {
   "cell_type": "code",
   "execution_count": 91,
   "metadata": {},
   "outputs": [
    {
     "data": {
      "text/plain": [
       "GridSearchCV(cv=KFold(n_splits=5, random_state=777, shuffle=True),\n",
       "             estimator=LGBMRegressor(n_estimators=1000, random_state=777),\n",
       "             param_grid={'learning_rate': [0.1, 0.01, 0.003],\n",
       "                         'min_child_samples': [20, 30]},\n",
       "             scoring='neg_mean_squared_error')"
      ]
     },
     "execution_count": 91,
     "metadata": {},
     "output_type": "execute_result"
    }
   ],
   "source": [
    "gs.fit(X_train, y_train)"
   ]
  },
  {
   "cell_type": "code",
   "execution_count": 89,
   "metadata": {},
   "outputs": [
    {
     "data": {
      "text/plain": [
       "{'learning_rate': 0.003, 'min_child_samples': 30}"
      ]
     },
     "execution_count": 89,
     "metadata": {},
     "output_type": "execute_result"
    }
   ],
   "source": [
    "gs.best_params_"
   ]
  },
  {
   "cell_type": "code",
   "execution_count": 92,
   "metadata": {},
   "outputs": [
    {
     "name": "stderr",
     "output_type": "stream",
     "text": [
      "C:\\ProgramData\\Anaconda3\\lib\\site-packages\\lightgbm\\sklearn.py:726: UserWarning: 'early_stopping_rounds' argument is deprecated and will be removed in a future release of LightGBM. Pass 'early_stopping()' callback via 'callbacks' argument instead.\n",
      "  _log_warning(\"'early_stopping_rounds' argument is deprecated and will be removed in a future release of LightGBM. \"\n",
      "C:\\ProgramData\\Anaconda3\\lib\\site-packages\\lightgbm\\sklearn.py:736: UserWarning: 'verbose' argument is deprecated and will be removed in a future release of LightGBM. Pass 'log_evaluation()' callback via 'callbacks' argument instead.\n",
      "  _log_warning(\"'verbose' argument is deprecated and will be removed in a future release of LightGBM. \"\n"
     ]
    },
    {
     "name": "stdout",
     "output_type": "stream",
     "text": [
      "[100]\tvalid_0's l2: 2.56673e+12\n",
      "[100]\tvalid_0's l2: 4.89194e+12\n",
      "[100]\tvalid_0's l2: 3.14361e+12\n",
      "[100]\tvalid_0's l2: 1.60592e+12\n",
      "[100]\tvalid_0's l2: 1.96107e+12\n"
     ]
    }
   ],
   "source": [
    "model = lgb.LGBMRegressor(random=777, n_estimator=1000, learning_rate = 0.003, min_child_samples=30)\n",
    "\n",
    "models = []\n",
    "\n",
    "for train_idx, val_idx in k_fold.split(X_train):\n",
    "    x_t = X_train.iloc[train_idx]\n",
    "    y_t = y_train.iloc[train_idx]\n",
    "    x_val = X_train.iloc[val_idx]\n",
    "    y_val = y_train.iloc[val_idx]\n",
    "    \n",
    "    models.append(model.fit(x_t, y_t, eval_set=(x_val, y_val), early_stopping_rounds=100, verbose = 100))\n"
   ]
  },
  {
   "cell_type": "code",
   "execution_count": 93,
   "metadata": {},
   "outputs": [],
   "source": [
    "preds = []\n",
    "for model in models:\n",
    "    preds.append(model.predict(X_test))"
   ]
  },
  {
   "cell_type": "code",
   "execution_count": 94,
   "metadata": {},
   "outputs": [
    {
     "data": {
      "text/plain": [
       "-2334525343085.6494"
      ]
     },
     "execution_count": 94,
     "metadata": {},
     "output_type": "execute_result"
    }
   ],
   "source": [
    "gs.best_score_"
   ]
  },
  {
   "cell_type": "code",
   "execution_count": 97,
   "metadata": {},
   "outputs": [],
   "source": [
    "gslgbm = submission.copy()"
   ]
  },
  {
   "cell_type": "code",
   "execution_count": 98,
   "metadata": {},
   "outputs": [],
   "source": [
    "gslgbm['box_off_num'] = np.mean(preds, axis = 0)"
   ]
  },
  {
   "cell_type": "code",
   "execution_count": 101,
   "metadata": {},
   "outputs": [],
   "source": [
    "gslgbm.to_csv('gslgbm.csv', index = False)"
   ]
  },
  {
   "cell_type": "code",
   "execution_count": null,
   "metadata": {},
   "outputs": [],
   "source": []
  }
 ],
 "metadata": {
  "kernelspec": {
   "display_name": "Python 3",
   "language": "python",
   "name": "python3"
  },
  "language_info": {
   "codemirror_mode": {
    "name": "ipython",
    "version": 3
   },
   "file_extension": ".py",
   "mimetype": "text/x-python",
   "name": "python",
   "nbconvert_exporter": "python",
   "pygments_lexer": "ipython3",
   "version": "3.8.5"
  }
 },
 "nbformat": 4,
 "nbformat_minor": 4
}
