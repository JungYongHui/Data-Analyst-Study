{
 "cells": [
  {
   "cell_type": "code",
   "execution_count": 1,
   "id": "08f0b4c5",
   "metadata": {},
   "outputs": [],
   "source": [
    "import numpy as np\n",
    "import seaborn as sns\n",
    "import matplotlib.pyplot as plt\n",
    "import pandas as pd\n",
    "import warnings\n",
    "warnings.filterwarnings(action='ignore')"
   ]
  },
  {
   "cell_type": "code",
   "execution_count": 2,
   "id": "dd846026",
   "metadata": {
    "scrolled": false
   },
   "outputs": [
    {
     "data": {
      "text/html": [
       "<div>\n",
       "<style scoped>\n",
       "    .dataframe tbody tr th:only-of-type {\n",
       "        vertical-align: middle;\n",
       "    }\n",
       "\n",
       "    .dataframe tbody tr th {\n",
       "        vertical-align: top;\n",
       "    }\n",
       "\n",
       "    .dataframe thead th {\n",
       "        text-align: right;\n",
       "    }\n",
       "</style>\n",
       "<table border=\"1\" class=\"dataframe\">\n",
       "  <thead>\n",
       "    <tr style=\"text-align: right;\">\n",
       "      <th></th>\n",
       "      <th>PassengerId</th>\n",
       "      <th>Survived</th>\n",
       "      <th>Pclass</th>\n",
       "      <th>Name</th>\n",
       "      <th>Sex</th>\n",
       "      <th>Age</th>\n",
       "      <th>SibSp</th>\n",
       "      <th>Parch</th>\n",
       "      <th>Ticket</th>\n",
       "      <th>Fare</th>\n",
       "      <th>Cabin</th>\n",
       "      <th>Embarked</th>\n",
       "    </tr>\n",
       "  </thead>\n",
       "  <tbody>\n",
       "    <tr>\n",
       "      <th>0</th>\n",
       "      <td>1</td>\n",
       "      <td>0</td>\n",
       "      <td>3</td>\n",
       "      <td>Braund, Mr. Owen Harris</td>\n",
       "      <td>male</td>\n",
       "      <td>22.0</td>\n",
       "      <td>1</td>\n",
       "      <td>0</td>\n",
       "      <td>A/5 21171</td>\n",
       "      <td>7.2500</td>\n",
       "      <td>NaN</td>\n",
       "      <td>S</td>\n",
       "    </tr>\n",
       "    <tr>\n",
       "      <th>1</th>\n",
       "      <td>2</td>\n",
       "      <td>1</td>\n",
       "      <td>1</td>\n",
       "      <td>Cumings, Mrs. John Bradley (Florence Briggs Th...</td>\n",
       "      <td>female</td>\n",
       "      <td>38.0</td>\n",
       "      <td>1</td>\n",
       "      <td>0</td>\n",
       "      <td>PC 17599</td>\n",
       "      <td>71.2833</td>\n",
       "      <td>C85</td>\n",
       "      <td>C</td>\n",
       "    </tr>\n",
       "    <tr>\n",
       "      <th>2</th>\n",
       "      <td>3</td>\n",
       "      <td>1</td>\n",
       "      <td>3</td>\n",
       "      <td>Heikkinen, Miss. Laina</td>\n",
       "      <td>female</td>\n",
       "      <td>26.0</td>\n",
       "      <td>0</td>\n",
       "      <td>0</td>\n",
       "      <td>STON/O2. 3101282</td>\n",
       "      <td>7.9250</td>\n",
       "      <td>NaN</td>\n",
       "      <td>S</td>\n",
       "    </tr>\n",
       "    <tr>\n",
       "      <th>3</th>\n",
       "      <td>4</td>\n",
       "      <td>1</td>\n",
       "      <td>1</td>\n",
       "      <td>Futrelle, Mrs. Jacques Heath (Lily May Peel)</td>\n",
       "      <td>female</td>\n",
       "      <td>35.0</td>\n",
       "      <td>1</td>\n",
       "      <td>0</td>\n",
       "      <td>113803</td>\n",
       "      <td>53.1000</td>\n",
       "      <td>C123</td>\n",
       "      <td>S</td>\n",
       "    </tr>\n",
       "    <tr>\n",
       "      <th>4</th>\n",
       "      <td>5</td>\n",
       "      <td>0</td>\n",
       "      <td>3</td>\n",
       "      <td>Allen, Mr. William Henry</td>\n",
       "      <td>male</td>\n",
       "      <td>35.0</td>\n",
       "      <td>0</td>\n",
       "      <td>0</td>\n",
       "      <td>373450</td>\n",
       "      <td>8.0500</td>\n",
       "      <td>NaN</td>\n",
       "      <td>S</td>\n",
       "    </tr>\n",
       "  </tbody>\n",
       "</table>\n",
       "</div>"
      ],
      "text/plain": [
       "   PassengerId  Survived  Pclass  \\\n",
       "0            1         0       3   \n",
       "1            2         1       1   \n",
       "2            3         1       3   \n",
       "3            4         1       1   \n",
       "4            5         0       3   \n",
       "\n",
       "                                                Name     Sex   Age  SibSp  \\\n",
       "0                            Braund, Mr. Owen Harris    male  22.0      1   \n",
       "1  Cumings, Mrs. John Bradley (Florence Briggs Th...  female  38.0      1   \n",
       "2                             Heikkinen, Miss. Laina  female  26.0      0   \n",
       "3       Futrelle, Mrs. Jacques Heath (Lily May Peel)  female  35.0      1   \n",
       "4                           Allen, Mr. William Henry    male  35.0      0   \n",
       "\n",
       "   Parch            Ticket     Fare Cabin Embarked  \n",
       "0      0         A/5 21171   7.2500   NaN        S  \n",
       "1      0          PC 17599  71.2833   C85        C  \n",
       "2      0  STON/O2. 3101282   7.9250   NaN        S  \n",
       "3      0            113803  53.1000  C123        S  \n",
       "4      0            373450   8.0500   NaN        S  "
      ]
     },
     "execution_count": 2,
     "metadata": {},
     "output_type": "execute_result"
    }
   ],
   "source": [
    "df = pd.read_csv('../../타이타닉/train.csv', encoding='utf-8')\n",
    "df_test = pd.read_csv('../../타이타닉/test.csv', encoding='utf-8')\n",
    "\n",
    "df.head()"
   ]
  },
  {
   "cell_type": "markdown",
   "id": "bfc41c7c",
   "metadata": {},
   "source": [
    "- PassengerID : 탑승객 고유 아이디\n",
    "- Survival : 탑승객 생존 유무 (0: 사망, 1: 생존)\n",
    "- Pclass : 등실의 등급\n",
    "- Name : 이름\n",
    "- Sex : 성별\n",
    "- Age : 나이\n",
    "- Sibsp : 함께 탐승한 형제자매, 아내, 남편의 수\n",
    "- Parch : 함께 탐승한 부모, 자식의 수\n",
    "- Ticket :티켓 번호\n",
    "- Fare : 티켓의 요금\n",
    "- Cabin : 객실번호\n",
    "- Embarked : 배에 탑승한 항구 이름 ( C = Cherbourn, Q = Queenstown, S = Southampton)"
   ]
  },
  {
   "cell_type": "code",
   "execution_count": 3,
   "id": "938d48d7",
   "metadata": {},
   "outputs": [
    {
     "name": "stdout",
     "output_type": "stream",
     "text": [
      "<class 'pandas.core.frame.DataFrame'>\n",
      "RangeIndex: 891 entries, 0 to 890\n",
      "Data columns (total 12 columns):\n",
      " #   Column       Non-Null Count  Dtype  \n",
      "---  ------       --------------  -----  \n",
      " 0   PassengerId  891 non-null    int64  \n",
      " 1   Survived     891 non-null    int64  \n",
      " 2   Pclass       891 non-null    int64  \n",
      " 3   Name         891 non-null    object \n",
      " 4   Sex          891 non-null    object \n",
      " 5   Age          714 non-null    float64\n",
      " 6   SibSp        891 non-null    int64  \n",
      " 7   Parch        891 non-null    int64  \n",
      " 8   Ticket       891 non-null    object \n",
      " 9   Fare         891 non-null    float64\n",
      " 10  Cabin        204 non-null    object \n",
      " 11  Embarked     889 non-null    object \n",
      "dtypes: float64(2), int64(5), object(5)\n",
      "memory usage: 83.7+ KB\n"
     ]
    }
   ],
   "source": [
    "df.info()"
   ]
  },
  {
   "cell_type": "markdown",
   "id": "2326cc13",
   "metadata": {},
   "source": [
    "### 1. 데이터의 결측치를 정리"
   ]
  },
  {
   "cell_type": "code",
   "execution_count": 4,
   "id": "ec3d806b",
   "metadata": {},
   "outputs": [
    {
     "name": "stdout",
     "output_type": "stream",
     "text": [
      "<class 'pandas.core.frame.DataFrame'>\n",
      "RangeIndex: 891 entries, 0 to 890\n",
      "Data columns (total 12 columns):\n",
      " #   Column       Non-Null Count  Dtype  \n",
      "---  ------       --------------  -----  \n",
      " 0   PassengerId  891 non-null    int64  \n",
      " 1   Survived     891 non-null    int64  \n",
      " 2   Pclass       891 non-null    int64  \n",
      " 3   Name         891 non-null    object \n",
      " 4   Sex          891 non-null    object \n",
      " 5   Age          714 non-null    float64\n",
      " 6   SibSp        891 non-null    int64  \n",
      " 7   Parch        891 non-null    int64  \n",
      " 8   Ticket       891 non-null    object \n",
      " 9   Fare         891 non-null    float64\n",
      " 10  Cabin        204 non-null    object \n",
      " 11  Embarked     889 non-null    object \n",
      "dtypes: float64(2), int64(5), object(5)\n",
      "memory usage: 83.7+ KB\n"
     ]
    }
   ],
   "source": [
    "df.info()"
   ]
  },
  {
   "cell_type": "code",
   "execution_count": 5,
   "id": "09e4db99",
   "metadata": {},
   "outputs": [],
   "source": [
    "# age 변수의 결측치는 평군값으로 대체\n",
    "# cabin 는 결측치가 너무 많으므로 drop\n",
    "# embarked 의 경우 2개의 결측치 존재 -> 행 삭제\n",
    "\n",
    "df['Age'] = df['Age'].fillna(df['Age'].mean())\n",
    "df = df.drop(['Cabin'], axis=1)\n",
    "df = df.dropna()"
   ]
  },
  {
   "cell_type": "code",
   "execution_count": 6,
   "id": "5bc0db47",
   "metadata": {},
   "outputs": [
    {
     "name": "stdout",
     "output_type": "stream",
     "text": [
      "<class 'pandas.core.frame.DataFrame'>\n",
      "Int64Index: 889 entries, 0 to 890\n",
      "Data columns (total 11 columns):\n",
      " #   Column       Non-Null Count  Dtype  \n",
      "---  ------       --------------  -----  \n",
      " 0   PassengerId  889 non-null    int64  \n",
      " 1   Survived     889 non-null    int64  \n",
      " 2   Pclass       889 non-null    int64  \n",
      " 3   Name         889 non-null    object \n",
      " 4   Sex          889 non-null    object \n",
      " 5   Age          889 non-null    float64\n",
      " 6   SibSp        889 non-null    int64  \n",
      " 7   Parch        889 non-null    int64  \n",
      " 8   Ticket       889 non-null    object \n",
      " 9   Fare         889 non-null    float64\n",
      " 10  Embarked     889 non-null    object \n",
      "dtypes: float64(2), int64(5), object(4)\n",
      "memory usage: 83.3+ KB\n"
     ]
    }
   ],
   "source": [
    "df.info()"
   ]
  },
  {
   "cell_type": "markdown",
   "id": "88ebcd8c",
   "metadata": {},
   "source": [
    "### 2. 각 Feature에 따른 생존률을 계산"
   ]
  },
  {
   "cell_type": "code",
   "execution_count": 7,
   "id": "35ff6cb7",
   "metadata": {},
   "outputs": [],
   "source": [
    "def feature_surv(data, feature):\n",
    "    uni = data[feature].unique().tolist()\n",
    "    \n",
    "    result = {}\n",
    "    for i in uni:\n",
    "        temp = data[data[feature]==i]['Survived']\n",
    "        perc_surv = temp.sum()/len(temp)\n",
    "        result[i] = np.round(perc_surv, 4)\n",
    "    print(result)\n",
    "    return result"
   ]
  },
  {
   "cell_type": "code",
   "execution_count": 8,
   "id": "912617ca",
   "metadata": {},
   "outputs": [
    {
     "name": "stdout",
     "output_type": "stream",
     "text": [
      "Pclass : {3: 0.2424, 1: 0.6262, 2: 0.4728}\n",
      "Sex : {'male': 0.1889, 'female': 0.7404}\n",
      "SibSp : {1: 0.5359, 0: 0.3432, 3: 0.25, 4: 0.1667, 2: 0.4643, 5: 0.0, 8: 0.0}\n",
      "Parch : {0: 0.3417, 1: 0.5508, 2: 0.5, 5: 0.2, 3: 0.6, 4: 0.0, 6: 0.0}\n",
      "Embarked : {'S': 0.337, 'C': 0.5536, 'Q': 0.3896}\n"
     ]
    }
   ],
   "source": [
    "features = df.columns.tolist()\n",
    "features = [i for i in features if i not in ['PassengerId', 'Survived', 'Age', \n",
    "                                             'Fare', 'Name', 'Ticket']]\n",
    "\n",
    "for i in features:\n",
    "    print(i, ': ', end='')\n",
    "    result = feature_surv(df, i)"
   ]
  },
  {
   "cell_type": "markdown",
   "id": "2c3ca4f4",
   "metadata": {},
   "source": [
    "### 2-2. 내용을 도식화"
   ]
  },
  {
   "cell_type": "code",
   "execution_count": 9,
   "id": "6a37e517",
   "metadata": {},
   "outputs": [
    {
     "name": "stdout",
     "output_type": "stream",
     "text": [
      "{3: 0.2424, 1: 0.6262, 2: 0.4728}\n",
      "{'male': 0.1889, 'female': 0.7404}\n",
      "{1: 0.5359, 0: 0.3432, 3: 0.25, 4: 0.1667, 2: 0.4643, 5: 0.0, 8: 0.0}\n",
      "{0: 0.3417, 1: 0.5508, 2: 0.5, 5: 0.2, 3: 0.6, 4: 0.0, 6: 0.0}\n",
      "{'S': 0.337, 'C': 0.5536, 'Q': 0.3896}\n"
     ]
    },
    {
     "data": {
      "image/png": "[encoded data removed]",
      "text/plain": [
       "<Figure size 864x360 with 5 Axes>"
      ]
     },
     "metadata": {
      "needs_background": "light"
     },
     "output_type": "display_data"
    }
   ],
   "source": [
    "fig, ax = plt.subplots(1,5, figsize=(12,5))\n",
    "\n",
    "for idx, i in enumerate(features):\n",
    "    axx = plt.subplot(2,5,idx+1)\n",
    "    result = feature_surv(df, i)\n",
    "    axx.bar(np.arange(len(result.keys())), result.values(), width=0.5, alpha=0.5)\n",
    "    axx.set_xticks(np.arange(len(result.keys())))\n",
    "    axx.set_xticklabels(result.keys())\n",
    "    axx.set_xlabel(i)\n",
    "    axx.set_ylim([0,1])\n",
    "\n",
    "#     axx.hist(result)"
   ]
  },
  {
   "cell_type": "markdown",
   "id": "e2e18fda",
   "metadata": {},
   "source": [
    "### 2-3. age 변수를 다음과 같이 구분한 후, 생존률을 도식화\n",
    "- 0~10세 : 0\n",
    "- 10~20세 : 1\n",
    "..."
   ]
  },
  {
   "cell_type": "code",
   "execution_count": 10,
   "id": "8f19456d",
   "metadata": {},
   "outputs": [],
   "source": [
    "age = []\n",
    "\n",
    "for i in df['Age']:\n",
    "    if i < 10:\n",
    "        age.append(0)\n",
    "    elif i >= 10 and i < 20:\n",
    "        age.append(10)\n",
    "    elif i >= 20 and i < 30:\n",
    "        age.append(20)\n",
    "    elif i >= 30 and i < 40:\n",
    "        age.append(30)\n",
    "    elif i >= 40 and i < 50:\n",
    "        age.append(40)\n",
    "    elif i >= 50 and i < 60:\n",
    "        age.append(50)\n",
    "    elif i >= 60 and i < 70:\n",
    "        age.append(60)\n",
    "    elif i >= 70 and i < 80:\n",
    "        age.append(70)\n",
    "    elif i >= 80 and i < 90:\n",
    "        age.append(80)\n",
    "        \n",
    "df['age_new'] = age"
   ]
  },
  {
   "cell_type": "code",
   "execution_count": 11,
   "id": "f669c128",
   "metadata": {},
   "outputs": [
    {
     "name": "stdout",
     "output_type": "stream",
     "text": [
      "age_new\n",
      "0     0.613\n",
      "10    0.402\n",
      "20    0.325\n",
      "30    0.434\n",
      "40    0.382\n",
      "50    0.417\n",
      "60    0.278\n",
      "70      NaN\n",
      "80    1.000\n",
      "Name: Survived, dtype: float64\n"
     ]
    },
    {
     "data": {
      "image/png": "[encoded data removed]",
      "text/plain": [
       "<Figure size 1080x576 with 1 Axes>"
      ]
     },
     "metadata": {
      "needs_background": "light"
     },
     "output_type": "display_data"
    }
   ],
   "source": [
    "index = [0, 10, 20 ,30 ,40 ,50 ,60 ,70, 80]\n",
    "surv_perc = df[df['Survived']==1].groupby(['age_new'])['Survived'].count()/df.groupby(['age_new'])['Survived'].count()\n",
    "# print(df[df['survived']==1].groupby(['age_new'])['survived'].count())\n",
    "# print(df.groupby(['age_new'])['survived'].count())\n",
    "print(np.round(surv_perc, 3))\n",
    "plt.figure(figsize=(15,8))\n",
    "plt.bar(index, surv_perc, width=2, alpha=0.5)\n",
    "plt.ylim([0, 1])\n",
    "plt.xticks(index)\n",
    "plt.xlabel('age', fontsize=20)\n",
    "plt.ylabel('percentage', fontsize=20)\n",
    "plt.grid(True)\n",
    "plt.show()"
   ]
  },
  {
   "cell_type": "markdown",
   "id": "e2a27909",
   "metadata": {},
   "source": [
    "### 3. 범주형 변수들을 Label Encoding을 통해 정리"
   ]
  },
  {
   "cell_type": "code",
   "execution_count": 12,
   "id": "8854a41f",
   "metadata": {},
   "outputs": [
    {
     "data": {
      "text/html": [
       "<div>\n",
       "<style scoped>\n",
       "    .dataframe tbody tr th:only-of-type {\n",
       "        vertical-align: middle;\n",
       "    }\n",
       "\n",
       "    .dataframe tbody tr th {\n",
       "        vertical-align: top;\n",
       "    }\n",
       "\n",
       "    .dataframe thead th {\n",
       "        text-align: right;\n",
       "    }\n",
       "</style>\n",
       "<table border=\"1\" class=\"dataframe\">\n",
       "  <thead>\n",
       "    <tr style=\"text-align: right;\">\n",
       "      <th></th>\n",
       "      <th>PassengerId</th>\n",
       "      <th>Survived</th>\n",
       "      <th>Pclass</th>\n",
       "      <th>Name</th>\n",
       "      <th>Sex</th>\n",
       "      <th>Age</th>\n",
       "      <th>SibSp</th>\n",
       "      <th>Parch</th>\n",
       "      <th>Ticket</th>\n",
       "      <th>Fare</th>\n",
       "      <th>Embarked</th>\n",
       "      <th>age_new</th>\n",
       "    </tr>\n",
       "  </thead>\n",
       "  <tbody>\n",
       "    <tr>\n",
       "      <th>0</th>\n",
       "      <td>1</td>\n",
       "      <td>0</td>\n",
       "      <td>3</td>\n",
       "      <td>Braund, Mr. Owen Harris</td>\n",
       "      <td>male</td>\n",
       "      <td>22.0</td>\n",
       "      <td>1</td>\n",
       "      <td>0</td>\n",
       "      <td>A/5 21171</td>\n",
       "      <td>7.2500</td>\n",
       "      <td>S</td>\n",
       "      <td>20</td>\n",
       "    </tr>\n",
       "    <tr>\n",
       "      <th>1</th>\n",
       "      <td>2</td>\n",
       "      <td>1</td>\n",
       "      <td>1</td>\n",
       "      <td>Cumings, Mrs. John Bradley (Florence Briggs Th...</td>\n",
       "      <td>female</td>\n",
       "      <td>38.0</td>\n",
       "      <td>1</td>\n",
       "      <td>0</td>\n",
       "      <td>PC 17599</td>\n",
       "      <td>71.2833</td>\n",
       "      <td>C</td>\n",
       "      <td>30</td>\n",
       "    </tr>\n",
       "    <tr>\n",
       "      <th>2</th>\n",
       "      <td>3</td>\n",
       "      <td>1</td>\n",
       "      <td>3</td>\n",
       "      <td>Heikkinen, Miss. Laina</td>\n",
       "      <td>female</td>\n",
       "      <td>26.0</td>\n",
       "      <td>0</td>\n",
       "      <td>0</td>\n",
       "      <td>STON/O2. 3101282</td>\n",
       "      <td>7.9250</td>\n",
       "      <td>S</td>\n",
       "      <td>20</td>\n",
       "    </tr>\n",
       "    <tr>\n",
       "      <th>3</th>\n",
       "      <td>4</td>\n",
       "      <td>1</td>\n",
       "      <td>1</td>\n",
       "      <td>Futrelle, Mrs. Jacques Heath (Lily May Peel)</td>\n",
       "      <td>female</td>\n",
       "      <td>35.0</td>\n",
       "      <td>1</td>\n",
       "      <td>0</td>\n",
       "      <td>113803</td>\n",
       "      <td>53.1000</td>\n",
       "      <td>S</td>\n",
       "      <td>30</td>\n",
       "    </tr>\n",
       "    <tr>\n",
       "      <th>4</th>\n",
       "      <td>5</td>\n",
       "      <td>0</td>\n",
       "      <td>3</td>\n",
       "      <td>Allen, Mr. William Henry</td>\n",
       "      <td>male</td>\n",
       "      <td>35.0</td>\n",
       "      <td>0</td>\n",
       "      <td>0</td>\n",
       "      <td>373450</td>\n",
       "      <td>8.0500</td>\n",
       "      <td>S</td>\n",
       "      <td>30</td>\n",
       "    </tr>\n",
       "  </tbody>\n",
       "</table>\n",
       "</div>"
      ],
      "text/plain": [
       "   PassengerId  Survived  Pclass  \\\n",
       "0            1         0       3   \n",
       "1            2         1       1   \n",
       "2            3         1       3   \n",
       "3            4         1       1   \n",
       "4            5         0       3   \n",
       "\n",
       "                                                Name     Sex   Age  SibSp  \\\n",
       "0                            Braund, Mr. Owen Harris    male  22.0      1   \n",
       "1  Cumings, Mrs. John Bradley (Florence Briggs Th...  female  38.0      1   \n",
       "2                             Heikkinen, Miss. Laina  female  26.0      0   \n",
       "3       Futrelle, Mrs. Jacques Heath (Lily May Peel)  female  35.0      1   \n",
       "4                           Allen, Mr. William Henry    male  35.0      0   \n",
       "\n",
       "   Parch            Ticket     Fare Embarked  age_new  \n",
       "0      0         A/5 21171   7.2500        S       20  \n",
       "1      0          PC 17599  71.2833        C       30  \n",
       "2      0  STON/O2. 3101282   7.9250        S       20  \n",
       "3      0            113803  53.1000        S       30  \n",
       "4      0            373450   8.0500        S       30  "
      ]
     },
     "execution_count": 12,
     "metadata": {},
     "output_type": "execute_result"
    }
   ],
   "source": [
    "df.head()"
   ]
  },
  {
   "cell_type": "code",
   "execution_count": 13,
   "id": "eebafba6",
   "metadata": {},
   "outputs": [
    {
     "name": "stdout",
     "output_type": "stream",
     "text": [
      "Sex : ['female' 'male'] => [0, 1]\n",
      "Embarked : ['C' 'Q' 'S'] => [0, 1, 2]\n"
     ]
    },
    {
     "data": {
      "text/html": [
       "<div>\n",
       "<style scoped>\n",
       "    .dataframe tbody tr th:only-of-type {\n",
       "        vertical-align: middle;\n",
       "    }\n",
       "\n",
       "    .dataframe tbody tr th {\n",
       "        vertical-align: top;\n",
       "    }\n",
       "\n",
       "    .dataframe thead th {\n",
       "        text-align: right;\n",
       "    }\n",
       "</style>\n",
       "<table border=\"1\" class=\"dataframe\">\n",
       "  <thead>\n",
       "    <tr style=\"text-align: right;\">\n",
       "      <th></th>\n",
       "      <th>PassengerId</th>\n",
       "      <th>Survived</th>\n",
       "      <th>Pclass</th>\n",
       "      <th>Name</th>\n",
       "      <th>Sex</th>\n",
       "      <th>Age</th>\n",
       "      <th>SibSp</th>\n",
       "      <th>Parch</th>\n",
       "      <th>Ticket</th>\n",
       "      <th>Fare</th>\n",
       "      <th>Embarked</th>\n",
       "      <th>age_new</th>\n",
       "    </tr>\n",
       "  </thead>\n",
       "  <tbody>\n",
       "    <tr>\n",
       "      <th>0</th>\n",
       "      <td>1</td>\n",
       "      <td>0</td>\n",
       "      <td>3</td>\n",
       "      <td>Braund, Mr. Owen Harris</td>\n",
       "      <td>1</td>\n",
       "      <td>22.0</td>\n",
       "      <td>1</td>\n",
       "      <td>0</td>\n",
       "      <td>A/5 21171</td>\n",
       "      <td>7.2500</td>\n",
       "      <td>2</td>\n",
       "      <td>20</td>\n",
       "    </tr>\n",
       "    <tr>\n",
       "      <th>1</th>\n",
       "      <td>2</td>\n",
       "      <td>1</td>\n",
       "      <td>1</td>\n",
       "      <td>Cumings, Mrs. John Bradley (Florence Briggs Th...</td>\n",
       "      <td>0</td>\n",
       "      <td>38.0</td>\n",
       "      <td>1</td>\n",
       "      <td>0</td>\n",
       "      <td>PC 17599</td>\n",
       "      <td>71.2833</td>\n",
       "      <td>0</td>\n",
       "      <td>30</td>\n",
       "    </tr>\n",
       "    <tr>\n",
       "      <th>2</th>\n",
       "      <td>3</td>\n",
       "      <td>1</td>\n",
       "      <td>3</td>\n",
       "      <td>Heikkinen, Miss. Laina</td>\n",
       "      <td>0</td>\n",
       "      <td>26.0</td>\n",
       "      <td>0</td>\n",
       "      <td>0</td>\n",
       "      <td>STON/O2. 3101282</td>\n",
       "      <td>7.9250</td>\n",
       "      <td>2</td>\n",
       "      <td>20</td>\n",
       "    </tr>\n",
       "    <tr>\n",
       "      <th>3</th>\n",
       "      <td>4</td>\n",
       "      <td>1</td>\n",
       "      <td>1</td>\n",
       "      <td>Futrelle, Mrs. Jacques Heath (Lily May Peel)</td>\n",
       "      <td>0</td>\n",
       "      <td>35.0</td>\n",
       "      <td>1</td>\n",
       "      <td>0</td>\n",
       "      <td>113803</td>\n",
       "      <td>53.1000</td>\n",
       "      <td>2</td>\n",
       "      <td>30</td>\n",
       "    </tr>\n",
       "    <tr>\n",
       "      <th>4</th>\n",
       "      <td>5</td>\n",
       "      <td>0</td>\n",
       "      <td>3</td>\n",
       "      <td>Allen, Mr. William Henry</td>\n",
       "      <td>1</td>\n",
       "      <td>35.0</td>\n",
       "      <td>0</td>\n",
       "      <td>0</td>\n",
       "      <td>373450</td>\n",
       "      <td>8.0500</td>\n",
       "      <td>2</td>\n",
       "      <td>30</td>\n",
       "    </tr>\n",
       "  </tbody>\n",
       "</table>\n",
       "</div>"
      ],
      "text/plain": [
       "   PassengerId  Survived  Pclass  \\\n",
       "0            1         0       3   \n",
       "1            2         1       1   \n",
       "2            3         1       3   \n",
       "3            4         1       1   \n",
       "4            5         0       3   \n",
       "\n",
       "                                                Name  Sex   Age  SibSp  Parch  \\\n",
       "0                            Braund, Mr. Owen Harris    1  22.0      1      0   \n",
       "1  Cumings, Mrs. John Bradley (Florence Briggs Th...    0  38.0      1      0   \n",
       "2                             Heikkinen, Miss. Laina    0  26.0      0      0   \n",
       "3       Futrelle, Mrs. Jacques Heath (Lily May Peel)    0  35.0      1      0   \n",
       "4                           Allen, Mr. William Henry    1  35.0      0      0   \n",
       "\n",
       "             Ticket     Fare  Embarked  age_new  \n",
       "0         A/5 21171   7.2500         2       20  \n",
       "1          PC 17599  71.2833         0       30  \n",
       "2  STON/O2. 3101282   7.9250         2       20  \n",
       "3            113803  53.1000         2       30  \n",
       "4            373450   8.0500         2       30  "
      ]
     },
     "execution_count": 13,
     "metadata": {},
     "output_type": "execute_result"
    }
   ],
   "source": [
    "from sklearn.preprocessing import LabelEncoder\n",
    "\n",
    "category = ['Sex', 'Embarked']\n",
    "enc = LabelEncoder()\n",
    "for feature in category:\n",
    "    enc.fit(df[feature])\n",
    "    print(feature, ':', enc.classes_, end=' => ')\n",
    "    df[feature] = enc.transform(df[feature])\n",
    "    print([i for i in range(len(enc.classes_))])\n",
    "\n",
    "df.head()"
   ]
  },
  {
   "cell_type": "markdown",
   "id": "ec25dbf3",
   "metadata": {},
   "source": [
    "### 4.1 생존여부 예측 모델을 생성"
   ]
  },
  {
   "cell_type": "code",
   "execution_count": 14,
   "id": "28b204da",
   "metadata": {},
   "outputs": [],
   "source": [
    "# Name 변수와 Ticket 변수의 경우 목적변수와 상관성이 없다고 생각하고 drop\n",
    "# Age 변수의 경우 정확한 나이 보다 범주형인 age_new로 변수 치환하였으므로 drop\n",
    "x = df.drop(['Survived', 'Name', 'Age', 'Ticket'], axis=1)\n",
    "y = df['Survived']\n",
    "\n",
    "from sklearn.model_selection import train_test_split, GridSearchCV\n",
    "from sklearn.ensemble import RandomForestClassifier\n",
    "\n",
    "x_train, x_test, y_train, y_test = train_test_split(x, y, test_size=0.33, random_state=1)\n",
    "# ?RandomForestClassifier"
   ]
  },
  {
   "cell_type": "code",
   "execution_count": 15,
   "id": "7ccbec15",
   "metadata": {},
   "outputs": [
    {
     "data": {
      "text/plain": [
       "GridSearchCV(estimator=RandomForestClassifier(random_state=1),\n",
       "             param_grid={'max_depth': [10, 13, 15, 17, 19],\n",
       "                         'max_leaf_nodes': [10, 15, 20],\n",
       "                         'min_samples_leaf': [1, 2, 3, 4, 5],\n",
       "                         'min_samples_split': [2, 3, 4, 5]},\n",
       "             scoring=<function accuracy_score at 0x000002B9FAF0CEE8>)"
      ]
     },
     "execution_count": 15,
     "metadata": {},
     "output_type": "execute_result"
    }
   ],
   "source": [
    "from sklearn.metrics import roc_auc_score, accuracy_score\n",
    "\n",
    "params = {'max_depth':[10, 13, 15, 17, 19],\n",
    "          'min_samples_split': [2, 3, 4, 5],\n",
    "          'min_samples_leaf': [1, 2, 3, 4, 5],\n",
    "          'max_leaf_nodes': [10, 15, 20]}\n",
    "\n",
    "model = RandomForestClassifier(random_state=1)\n",
    "gs = GridSearchCV(model, params, scoring=accuracy_score)\n",
    "gs.fit(x_train, y_train)"
   ]
  },
  {
   "cell_type": "markdown",
   "id": "59bc81fd",
   "metadata": {},
   "source": [
    "### 4.2 test 데이터셋에 대한 모델 결과를 시각화"
   ]
  },
  {
   "cell_type": "code",
   "execution_count": 16,
   "id": "2ac16d6f",
   "metadata": {},
   "outputs": [
    {
     "name": "stdout",
     "output_type": "stream",
     "text": [
      "best parmas :  {'max_depth': 10, 'max_leaf_nodes': 10, 'min_samples_leaf': 1, 'min_samples_split': 2}\n",
      "< train >\n",
      "roc_auc :  0.8093419857545772\n",
      "accuracy :  0.8436974789915966 \n",
      "\n",
      "< test >\n",
      "roc_auc :  0.8052884615384616\n",
      "accuracy :  0.8333333333333334\n"
     ]
    }
   ],
   "source": [
    "print('best parmas : ', gs.best_params_)\n",
    "# print('best score : ', gs.best_score_)\n",
    "\n",
    "best_grid = gs.best_estimator_\n",
    "y_pred = best_grid.predict(x_test)\n",
    "train_pred = best_grid.predict(x_train)\n",
    "\n",
    "print('< train >')\n",
    "print('roc_auc : ', roc_auc_score(y_train, train_pred))\n",
    "print('accuracy : ', accuracy_score(y_train, train_pred), '\\n')\n",
    "\n",
    "print('< test >')\n",
    "print('roc_auc : ', roc_auc_score(y_test, y_pred))\n",
    "print('accuracy : ', accuracy_score(y_test, y_pred))"
   ]
  },
  {
   "cell_type": "code",
   "execution_count": 17,
   "id": "8b209cee",
   "metadata": {},
   "outputs": [
    {
     "data": {
      "image/png": "[encoded data removed]",
      "text/plain": [
       "<Figure size 864x432 with 1 Axes>"
      ]
     },
     "metadata": {
      "needs_background": "light"
     },
     "output_type": "display_data"
    }
   ],
   "source": [
    "plt.figure(figsize=(12,6))\n",
    "plt.bar(y_test.index, y_test, label='true', color='blue', width=5)\n",
    "plt.bar(y_test.index, y_pred, label='pred', color='orange', width=5, alpha=0.5)\n",
    "plt.legend(loc='upper right')\n",
    "plt.show()"
   ]
  },
  {
   "cell_type": "markdown",
   "id": "f7220f41",
   "metadata": {},
   "source": [
    "### 남/녀 탑승객 수를 pclass 1~3등급에 따라 시각화"
   ]
  },
  {
   "cell_type": "code",
   "execution_count": 19,
   "id": "9d3256fc",
   "metadata": {},
   "outputs": [
    {
     "data": {
      "text/plain": [
       "Sex  Pclass\n",
       "0    1          92\n",
       "     2          76\n",
       "     3         144\n",
       "1    1         122\n",
       "     2         108\n",
       "     3         347\n",
       "Name: Survived, dtype: int64"
      ]
     },
     "execution_count": 19,
     "metadata": {},
     "output_type": "execute_result"
    }
   ],
   "source": [
    "bonus = df.groupby(['Sex', 'Pclass'])['Survived'].count()\n",
    "bonus"
   ]
  },
  {
   "cell_type": "code",
   "execution_count": 20,
   "id": "01db2665",
   "metadata": {},
   "outputs": [
    {
     "data": {
      "text/plain": [
       "[Text(1.5, 0, '남'), Text(3.5, 0, '여')]"
      ]
     },
     "execution_count": 20,
     "metadata": {},
     "output_type": "execute_result"
    },
    {
     "data": {
      "image/png": "[encoded data removed]",
      "text/plain": [
       "<Figure size 864x432 with 1 Axes>"
      ]
     },
     "metadata": {
      "needs_background": "light"
     },
     "output_type": "display_data"
    }
   ],
   "source": [
    "plt.rc('font', family='Malgun Gothic')\n",
    "\n",
    "index1 = [1, 3]\n",
    "index2 = [1.5, 3.5]\n",
    "index3 = [2, 4]\n",
    "\n",
    "ax, fig = plt.subplots(1,1, figsize=(12,6))\n",
    "axx = plt.subplot(111)\n",
    "axx.bar(index1, bonus[:,1], width=0.4, label='pclass 1')\n",
    "axx.bar(index2, bonus[:,2], width=0.4, label='pclass 2')\n",
    "axx.bar(index3, bonus[:,3], width=0.4, label='pclass 3')\n",
    "axx.legend(loc='upper left')\n",
    "\n",
    "axx.set_xticks(index2)\n",
    "axx.set_xticklabels(['남', '여'], fontsize=20)"
   ]
  },
  {
   "cell_type": "code",
   "execution_count": null,
   "id": "79a527ac",
   "metadata": {},
   "outputs": [],
   "source": []
  }
 ],
 "metadata": {
  "kernelspec": {
   "display_name": "BigContest",
   "language": "python",
   "name": "bigcontest"
  },
  "language_info": {
   "codemirror_mode": {
    "name": "ipython",
    "version": 3
   },
   "file_extension": ".py",
   "mimetype": "text/x-python",
   "name": "python",
   "nbconvert_exporter": "python",
   "pygments_lexer": "ipython3",
   "version": "3.7.10"
  }
 },
 "nbformat": 4,
 "nbformat_minor": 5
}
