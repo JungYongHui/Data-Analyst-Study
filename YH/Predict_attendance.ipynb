{
 "cells": [
  {
   "cell_type": "code",
   "execution_count": 1,
   "id": "46299b8b",
   "metadata": {},
   "outputs": [
    {
     "name": "stdout",
     "output_type": "stream",
     "text": [
      "['movies_test.csv', 'movies_train.csv', 'submission.csv']\n"
     ]
    }
   ],
   "source": [
    "import os\n",
    "\n",
    "print(os.listdir('./영화 관객수'))"
   ]
  },
  {
   "cell_type": "code",
   "execution_count": 2,
   "id": "4c084862",
   "metadata": {},
   "outputs": [
    {
     "name": "stderr",
     "output_type": "stream",
     "text": [
      "\n",
      "Bad key \"text.kerning_factor\" on line 4 in\n",
      "C:\\Users\\YH\\anaconda3\\lib\\site-packages\\matplotlib\\mpl-data\\stylelib\\_classic_test_patch.mplstyle.\n",
      "You probably need to get an updated matplotlibrc file from\n",
      "https://github.com/matplotlib/matplotlib/blob/v3.1.3/matplotlibrc.template\n",
      "or from the matplotlib source distribution\n"
     ]
    },
    {
     "data": {
      "text/html": [
       "<div>\n",
       "<style scoped>\n",
       "    .dataframe tbody tr th:only-of-type {\n",
       "        vertical-align: middle;\n",
       "    }\n",
       "\n",
       "    .dataframe tbody tr th {\n",
       "        vertical-align: top;\n",
       "    }\n",
       "\n",
       "    .dataframe thead th {\n",
       "        text-align: right;\n",
       "    }\n",
       "</style>\n",
       "<table border=\"1\" class=\"dataframe\">\n",
       "  <thead>\n",
       "    <tr style=\"text-align: right;\">\n",
       "      <th></th>\n",
       "      <th>title</th>\n",
       "      <th>distributor</th>\n",
       "      <th>genre</th>\n",
       "      <th>release_time</th>\n",
       "      <th>time</th>\n",
       "      <th>screening_rat</th>\n",
       "      <th>director</th>\n",
       "      <th>dir_prev_bfnum</th>\n",
       "      <th>dir_prev_num</th>\n",
       "      <th>num_staff</th>\n",
       "      <th>num_actor</th>\n",
       "      <th>box_off_num</th>\n",
       "    </tr>\n",
       "  </thead>\n",
       "  <tbody>\n",
       "    <tr>\n",
       "      <th>0</th>\n",
       "      <td>개들의 전쟁</td>\n",
       "      <td>롯데엔터테인먼트</td>\n",
       "      <td>액션</td>\n",
       "      <td>2012-11-22</td>\n",
       "      <td>96</td>\n",
       "      <td>청소년 관람불가</td>\n",
       "      <td>조병옥</td>\n",
       "      <td>NaN</td>\n",
       "      <td>0</td>\n",
       "      <td>91</td>\n",
       "      <td>2</td>\n",
       "      <td>23398</td>\n",
       "    </tr>\n",
       "    <tr>\n",
       "      <th>1</th>\n",
       "      <td>내부자들</td>\n",
       "      <td>(주)쇼박스</td>\n",
       "      <td>느와르</td>\n",
       "      <td>2015-11-19</td>\n",
       "      <td>130</td>\n",
       "      <td>청소년 관람불가</td>\n",
       "      <td>우민호</td>\n",
       "      <td>1161602.50</td>\n",
       "      <td>2</td>\n",
       "      <td>387</td>\n",
       "      <td>3</td>\n",
       "      <td>7072501</td>\n",
       "    </tr>\n",
       "    <tr>\n",
       "      <th>2</th>\n",
       "      <td>은밀하게 위대하게</td>\n",
       "      <td>(주)쇼박스</td>\n",
       "      <td>액션</td>\n",
       "      <td>2013-06-05</td>\n",
       "      <td>123</td>\n",
       "      <td>15세 관람가</td>\n",
       "      <td>장철수</td>\n",
       "      <td>220775.25</td>\n",
       "      <td>4</td>\n",
       "      <td>343</td>\n",
       "      <td>4</td>\n",
       "      <td>6959083</td>\n",
       "    </tr>\n",
       "    <tr>\n",
       "      <th>3</th>\n",
       "      <td>나는 공무원이다</td>\n",
       "      <td>(주)NEW</td>\n",
       "      <td>코미디</td>\n",
       "      <td>2012-07-12</td>\n",
       "      <td>101</td>\n",
       "      <td>전체 관람가</td>\n",
       "      <td>구자홍</td>\n",
       "      <td>23894.00</td>\n",
       "      <td>2</td>\n",
       "      <td>20</td>\n",
       "      <td>6</td>\n",
       "      <td>217866</td>\n",
       "    </tr>\n",
       "    <tr>\n",
       "      <th>4</th>\n",
       "      <td>불량남녀</td>\n",
       "      <td>쇼박스(주)미디어플렉스</td>\n",
       "      <td>코미디</td>\n",
       "      <td>2010-11-04</td>\n",
       "      <td>108</td>\n",
       "      <td>15세 관람가</td>\n",
       "      <td>신근호</td>\n",
       "      <td>1.00</td>\n",
       "      <td>1</td>\n",
       "      <td>251</td>\n",
       "      <td>2</td>\n",
       "      <td>483387</td>\n",
       "    </tr>\n",
       "  </tbody>\n",
       "</table>\n",
       "</div>"
      ],
      "text/plain": [
       "       title   distributor genre release_time  time screening_rat director  \\\n",
       "0     개들의 전쟁      롯데엔터테인먼트    액션   2012-11-22    96      청소년 관람불가      조병옥   \n",
       "1       내부자들        (주)쇼박스   느와르   2015-11-19   130      청소년 관람불가      우민호   \n",
       "2  은밀하게 위대하게        (주)쇼박스    액션   2013-06-05   123       15세 관람가      장철수   \n",
       "3   나는 공무원이다        (주)NEW   코미디   2012-07-12   101        전체 관람가      구자홍   \n",
       "4       불량남녀  쇼박스(주)미디어플렉스   코미디   2010-11-04   108       15세 관람가      신근호   \n",
       "\n",
       "   dir_prev_bfnum  dir_prev_num  num_staff  num_actor  box_off_num  \n",
       "0             NaN             0         91          2        23398  \n",
       "1      1161602.50             2        387          3      7072501  \n",
       "2       220775.25             4        343          4      6959083  \n",
       "3        23894.00             2         20          6       217866  \n",
       "4            1.00             1        251          2       483387  "
      ]
     },
     "execution_count": 2,
     "metadata": {},
     "output_type": "execute_result"
    }
   ],
   "source": [
    "import pandas as pd\n",
    "import matplotlib.pyplot as plt\n",
    "import numpy as np\n",
    "\n",
    "df_train = pd.read_csv('./영화 관객수/movies_train.csv', encoding='utf-8')\n",
    "df_test = pd.read_csv('./영화 관객수/movies_test.csv', encoding='utf-8')\n",
    "\n",
    "df_train.head()"
   ]
  },
  {
   "cell_type": "markdown",
   "id": "a560d996",
   "metadata": {},
   "source": [
    "## Feature\n",
    "\n",
    "- title : 영화의 제목\n",
    "- distributor : 배급사\n",
    "- genre : 장르\n",
    "- release_time : 개봉일\n",
    "- time : 상영시간(분)\n",
    "- screening_rat : 상영등급\n",
    "- director : 감독이름\n",
    "- dir_prev_bfnum : 해당 감독이 이 영화를 만들기 전 제작에 참여한 영화에서의 평균 관객수(단 관객수가 알려지지 않은 영화 제외)\n",
    "- dir_prev_num : 해당 감독이 이 영화를 만들기 전 제작에 참여한 영화의 개수(단 관객수가 알려지지 않은 영화 제외)\n",
    "- num_staff : 스텝수\n",
    "- num_actor : 주연배우수\n",
    "- box_off_num : 관객수"
   ]
  },
  {
   "cell_type": "markdown",
   "id": "5c1035c5",
   "metadata": {},
   "source": [
    "# EDA"
   ]
  },
  {
   "cell_type": "markdown",
   "id": "12580a12",
   "metadata": {},
   "source": [
    "## 1. 결측치 확인"
   ]
  },
  {
   "cell_type": "code",
   "execution_count": 3,
   "id": "b0da5b81",
   "metadata": {},
   "outputs": [
    {
     "name": "stdout",
     "output_type": "stream",
     "text": [
      "< Train >\n",
      "<class 'pandas.core.frame.DataFrame'>\n",
      "RangeIndex: 600 entries, 0 to 599\n",
      "Data columns (total 12 columns):\n",
      " #   Column          Non-Null Count  Dtype  \n",
      "---  ------          --------------  -----  \n",
      " 0   title           600 non-null    object \n",
      " 1   distributor     600 non-null    object \n",
      " 2   genre           600 non-null    object \n",
      " 3   release_time    600 non-null    object \n",
      " 4   time            600 non-null    int64  \n",
      " 5   screening_rat   600 non-null    object \n",
      " 6   director        600 non-null    object \n",
      " 7   dir_prev_bfnum  270 non-null    float64\n",
      " 8   dir_prev_num    600 non-null    int64  \n",
      " 9   num_staff       600 non-null    int64  \n",
      " 10  num_actor       600 non-null    int64  \n",
      " 11  box_off_num     600 non-null    int64  \n",
      "dtypes: float64(1), int64(5), object(6)\n",
      "memory usage: 56.4+ KB\n",
      "None\n",
      "\n",
      " < Test >\n",
      "<class 'pandas.core.frame.DataFrame'>\n",
      "RangeIndex: 243 entries, 0 to 242\n",
      "Data columns (total 11 columns):\n",
      " #   Column          Non-Null Count  Dtype  \n",
      "---  ------          --------------  -----  \n",
      " 0   title           243 non-null    object \n",
      " 1   distributor     243 non-null    object \n",
      " 2   genre           243 non-null    object \n",
      " 3   release_time    243 non-null    object \n",
      " 4   time            243 non-null    int64  \n",
      " 5   screening_rat   243 non-null    object \n",
      " 6   director        243 non-null    object \n",
      " 7   dir_prev_bfnum  107 non-null    float64\n",
      " 8   dir_prev_num    243 non-null    int64  \n",
      " 9   num_staff       243 non-null    int64  \n",
      " 10  num_actor       243 non-null    int64  \n",
      "dtypes: float64(1), int64(4), object(6)\n",
      "memory usage: 21.0+ KB\n",
      "None\n"
     ]
    }
   ],
   "source": [
    "print('< Train >')\n",
    "print(df_train.info())\n",
    "print('\\n','< Test >')\n",
    "print(df_test.info())"
   ]
  },
  {
   "cell_type": "markdown",
   "id": "b86dffe0",
   "metadata": {},
   "source": [
    "[Train]\n",
    "- dir_prev_bfnum 결측치 : 330개\n",
    "\n",
    "[Test]\n",
    "- dir_prev_bfnum 결측치 : 136개"
   ]
  },
  {
   "cell_type": "markdown",
   "id": "3a2fe747",
   "metadata": {},
   "source": [
    "### dir_prev_bfnum 변수의 분포 확인"
   ]
  },
  {
   "cell_type": "markdown",
   "id": "07a94df8",
   "metadata": {},
   "source": [
    "#### Boxplot"
   ]
  },
  {
   "cell_type": "code",
   "execution_count": 4,
   "id": "7a0b9157",
   "metadata": {},
   "outputs": [
    {
     "data": {
      "text/plain": [
       "{'whiskers': [<matplotlib.lines.Line2D at 0x24d65c38f88>,\n",
       "  <matplotlib.lines.Line2D at 0x24d65c38c08>],\n",
       " 'caps': [<matplotlib.lines.Line2D at 0x24d65c3ed48>,\n",
       "  <matplotlib.lines.Line2D at 0x24d65c3ee48>],\n",
       " 'boxes': [<matplotlib.lines.Line2D at 0x24d65c28e88>],\n",
       " 'medians': [<matplotlib.lines.Line2D at 0x24d65c44c08>],\n",
       " 'fliers': [<matplotlib.lines.Line2D at 0x24d65c44d08>],\n",
       " 'means': []}"
      ]
     },
     "execution_count": 4,
     "metadata": {},
     "output_type": "execute_result"
    },
    {
     "data": {
      "image/png": "[encoded data removed]",
      "text/plain": [
       "<Figure size 720x576 with 1 Axes>"
      ]
     },
     "metadata": {
      "needs_background": "light"
     },
     "output_type": "display_data"
    }
   ],
   "source": [
    "# 결측치는 제외\n",
    "temp = df_train['dir_prev_bfnum'].dropna()\n",
    "\n",
    "# boxplot\n",
    "plt.figure(figsize=(10,8))\n",
    "plt.boxplot(temp, labels=['dir_prev_bfnum'])"
   ]
  },
  {
   "cell_type": "markdown",
   "id": "bd4f2dfb",
   "metadata": {},
   "source": [
    "#### 통계량"
   ]
  },
  {
   "cell_type": "code",
   "execution_count": 5,
   "id": "44a3deef",
   "metadata": {
    "scrolled": true
   },
   "outputs": [
    {
     "data": {
      "text/plain": [
       "count        270.00\n",
       "mean     1050442.89\n",
       "std      1791408.30\n",
       "min            1.00\n",
       "25%        20380.00\n",
       "50%       478423.62\n",
       "75%      1286568.62\n",
       "max     17615314.00\n",
       "Name: dir_prev_bfnum, dtype: float64"
      ]
     },
     "execution_count": 5,
     "metadata": {},
     "output_type": "execute_result"
    }
   ],
   "source": [
    "# 지수표현법 끄기\n",
    "pd.options.display.float_format = '{:.2f}'.format\n",
    "# 다시 지수표현법으로 변환하려면\n",
    "# pd.reset_option('display.float_format')\n",
    "\n",
    "temp.describe()"
   ]
  },
  {
   "cell_type": "markdown",
   "id": "6d5c9172",
   "metadata": {},
   "source": [
    "- min 값이 1인데 평균 관람 관객수가 1 이라는 것이 말이 안됨\n",
    "\n",
    "-> 평균 관객수가 100명이 되지 않는 데이터 확인"
   ]
  },
  {
   "cell_type": "code",
   "execution_count": 6,
   "id": "e388cb92",
   "metadata": {},
   "outputs": [
    {
     "data": {
      "text/plain": [
       "4      1.00\n",
       "114   20.00\n",
       "176   38.50\n",
       "186   17.00\n",
       "202    7.00\n",
       "278   72.50\n",
       "403   57.00\n",
       "465    8.00\n",
       "552   19.00\n",
       "Name: dir_prev_bfnum, dtype: float64"
      ]
     },
     "execution_count": 6,
     "metadata": {},
     "output_type": "execute_result"
    }
   ],
   "source": [
    "temp2 = temp[temp < 100]\n",
    "temp2"
   ]
  },
  {
   "cell_type": "code",
   "execution_count": 7,
   "id": "828d2db4",
   "metadata": {},
   "outputs": [
    {
     "data": {
      "text/html": [
       "<div>\n",
       "<style scoped>\n",
       "    .dataframe tbody tr th:only-of-type {\n",
       "        vertical-align: middle;\n",
       "    }\n",
       "\n",
       "    .dataframe tbody tr th {\n",
       "        vertical-align: top;\n",
       "    }\n",
       "\n",
       "    .dataframe thead th {\n",
       "        text-align: right;\n",
       "    }\n",
       "</style>\n",
       "<table border=\"1\" class=\"dataframe\">\n",
       "  <thead>\n",
       "    <tr style=\"text-align: right;\">\n",
       "      <th></th>\n",
       "      <th>dir_prev_bfnum</th>\n",
       "      <th>box_off_num</th>\n",
       "    </tr>\n",
       "  </thead>\n",
       "  <tbody>\n",
       "    <tr>\n",
       "      <th>1</th>\n",
       "      <td>1161602.50</td>\n",
       "      <td>7072501</td>\n",
       "    </tr>\n",
       "    <tr>\n",
       "      <th>2</th>\n",
       "      <td>220775.25</td>\n",
       "      <td>6959083</td>\n",
       "    </tr>\n",
       "    <tr>\n",
       "      <th>3</th>\n",
       "      <td>23894.00</td>\n",
       "      <td>217866</td>\n",
       "    </tr>\n",
       "    <tr>\n",
       "      <th>4</th>\n",
       "      <td>1.00</td>\n",
       "      <td>483387</td>\n",
       "    </tr>\n",
       "    <tr>\n",
       "      <th>5</th>\n",
       "      <td>837969.00</td>\n",
       "      <td>233211</td>\n",
       "    </tr>\n",
       "    <tr>\n",
       "      <th>...</th>\n",
       "      <td>...</td>\n",
       "      <td>...</td>\n",
       "    </tr>\n",
       "    <tr>\n",
       "      <th>587</th>\n",
       "      <td>67602.00</td>\n",
       "      <td>12696</td>\n",
       "    </tr>\n",
       "    <tr>\n",
       "      <th>588</th>\n",
       "      <td>2061296.67</td>\n",
       "      <td>1612554</td>\n",
       "    </tr>\n",
       "    <tr>\n",
       "      <th>592</th>\n",
       "      <td>597497.00</td>\n",
       "      <td>1472147</td>\n",
       "    </tr>\n",
       "    <tr>\n",
       "      <th>595</th>\n",
       "      <td>3833.00</td>\n",
       "      <td>1475091</td>\n",
       "    </tr>\n",
       "    <tr>\n",
       "      <th>596</th>\n",
       "      <td>496061.00</td>\n",
       "      <td>1716438</td>\n",
       "    </tr>\n",
       "  </tbody>\n",
       "</table>\n",
       "<p>270 rows × 2 columns</p>\n",
       "</div>"
      ],
      "text/plain": [
       "     dir_prev_bfnum  box_off_num\n",
       "1        1161602.50      7072501\n",
       "2         220775.25      6959083\n",
       "3          23894.00       217866\n",
       "4              1.00       483387\n",
       "5         837969.00       233211\n",
       "..              ...          ...\n",
       "587        67602.00        12696\n",
       "588      2061296.67      1612554\n",
       "592       597497.00      1472147\n",
       "595         3833.00      1475091\n",
       "596       496061.00      1716438\n",
       "\n",
       "[270 rows x 2 columns]"
      ]
     },
     "execution_count": 7,
     "metadata": {},
     "output_type": "execute_result"
    }
   ],
   "source": [
    "temp_df = df_train[['dir_prev_bfnum', 'box_off_num']].dropna()\n",
    "temp_df"
   ]
  },
  {
   "cell_type": "markdown",
   "id": "7405122a",
   "metadata": {},
   "source": [
    "#### dir_prev_bfnum 변수 EDA결과\n",
    "\n",
    "- 결측치가 너무 많아서 변수를 사용하기 힘들 것 같다.\n",
    "\n",
    "하지만, 이 변수가 목적변수(box_off_num)와 correlation이 존재한다면, 범주형 변수로 변경후 예측에 사용할 수 있을 것 같음"
   ]
  },
  {
   "cell_type": "markdown",
   "id": "3fb5e5ed",
   "metadata": {},
   "source": [
    "### 상관계수 확인"
   ]
  },
  {
   "cell_type": "code",
   "execution_count": 8,
   "id": "733a5dd6",
   "metadata": {
    "scrolled": true
   },
   "outputs": [
    {
     "data": {
      "text/plain": [
       "<matplotlib.axes._subplots.AxesSubplot at 0x24d6260b648>"
      ]
     },
     "execution_count": 8,
     "metadata": {},
     "output_type": "execute_result"
    },
    {
     "data": {
      "image/png": "[encoded data removed]",
      "text/plain": [
       "<Figure size 432x288 with 2 Axes>"
      ]
     },
     "metadata": {
      "needs_background": "light"
     },
     "output_type": "display_data"
    }
   ],
   "source": [
    "import seaborn as sns\n",
    "\n",
    "sns.heatmap(temp_df.corr(), linecolor='white', annot=True)"
   ]
  },
  {
   "cell_type": "markdown",
   "id": "77497fb5",
   "metadata": {},
   "source": [
    "- 상관계수가 0.28로 매우 낮은 상관관계를 보인다. 고로 dir_prev_bfnum 변수는 예측에서 제외한다"
   ]
  },
  {
   "cell_type": "markdown",
   "id": "687942e4",
   "metadata": {},
   "source": [
    "### dir_prev_bfnum 변수 제외"
   ]
  },
  {
   "cell_type": "code",
   "execution_count": 9,
   "id": "bfe54b37",
   "metadata": {},
   "outputs": [],
   "source": [
    "df_train = df_train.drop('dir_prev_bfnum', axis=1)\n",
    "df_test = df_test.drop('dir_prev_bfnum', axis=1)"
   ]
  },
  {
   "cell_type": "code",
   "execution_count": null,
   "id": "617107cc",
   "metadata": {},
   "outputs": [],
   "source": []
  }
 ],
 "metadata": {
  "kernelspec": {
   "display_name": "movie",
   "language": "python",
   "name": "movie"
  },
  "language_info": {
   "codemirror_mode": {
    "name": "ipython",
    "version": 3
   },
   "file_extension": ".py",
   "mimetype": "text/x-python",
   "name": "python",
   "nbconvert_exporter": "python",
   "pygments_lexer": "ipython3",
   "version": "3.7.6"
  }
 },
 "nbformat": 4,
 "nbformat_minor": 5
}
