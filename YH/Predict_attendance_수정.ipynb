{
 "cells": [
  {
   "cell_type": "code",
   "execution_count": 1,
   "id": "46299b8b",
   "metadata": {},
   "outputs": [
    {
     "name": "stdout",
     "output_type": "stream",
     "text": [
      "['movies_test.csv', 'movies_train.csv', 'submission.csv']\n"
     ]
    }
   ],
   "source": [
    "import os\n",
    "\n",
    "print(os.listdir('../../영화 관객수'))"
   ]
  },
  {
   "cell_type": "code",
   "execution_count": 2,
   "id": "4c084862",
   "metadata": {},
   "outputs": [
    {
     "data": {
      "text/html": [
       "<div>\n",
       "<style scoped>\n",
       "    .dataframe tbody tr th:only-of-type {\n",
       "        vertical-align: middle;\n",
       "    }\n",
       "\n",
       "    .dataframe tbody tr th {\n",
       "        vertical-align: top;\n",
       "    }\n",
       "\n",
       "    .dataframe thead th {\n",
       "        text-align: right;\n",
       "    }\n",
       "</style>\n",
       "<table border=\"1\" class=\"dataframe\">\n",
       "  <thead>\n",
       "    <tr style=\"text-align: right;\">\n",
       "      <th></th>\n",
       "      <th>title</th>\n",
       "      <th>distributor</th>\n",
       "      <th>genre</th>\n",
       "      <th>release_time</th>\n",
       "      <th>time</th>\n",
       "      <th>screening_rat</th>\n",
       "      <th>director</th>\n",
       "      <th>dir_prev_bfnum</th>\n",
       "      <th>dir_prev_num</th>\n",
       "      <th>num_staff</th>\n",
       "      <th>num_actor</th>\n",
       "      <th>box_off_num</th>\n",
       "    </tr>\n",
       "  </thead>\n",
       "  <tbody>\n",
       "    <tr>\n",
       "      <th>0</th>\n",
       "      <td>개들의 전쟁</td>\n",
       "      <td>롯데엔터테인먼트</td>\n",
       "      <td>액션</td>\n",
       "      <td>2012-11-22</td>\n",
       "      <td>96</td>\n",
       "      <td>청소년 관람불가</td>\n",
       "      <td>조병옥</td>\n",
       "      <td>NaN</td>\n",
       "      <td>0</td>\n",
       "      <td>91</td>\n",
       "      <td>2</td>\n",
       "      <td>23398</td>\n",
       "    </tr>\n",
       "    <tr>\n",
       "      <th>1</th>\n",
       "      <td>내부자들</td>\n",
       "      <td>(주)쇼박스</td>\n",
       "      <td>느와르</td>\n",
       "      <td>2015-11-19</td>\n",
       "      <td>130</td>\n",
       "      <td>청소년 관람불가</td>\n",
       "      <td>우민호</td>\n",
       "      <td>1161602.50</td>\n",
       "      <td>2</td>\n",
       "      <td>387</td>\n",
       "      <td>3</td>\n",
       "      <td>7072501</td>\n",
       "    </tr>\n",
       "    <tr>\n",
       "      <th>2</th>\n",
       "      <td>은밀하게 위대하게</td>\n",
       "      <td>(주)쇼박스</td>\n",
       "      <td>액션</td>\n",
       "      <td>2013-06-05</td>\n",
       "      <td>123</td>\n",
       "      <td>15세 관람가</td>\n",
       "      <td>장철수</td>\n",
       "      <td>220775.25</td>\n",
       "      <td>4</td>\n",
       "      <td>343</td>\n",
       "      <td>4</td>\n",
       "      <td>6959083</td>\n",
       "    </tr>\n",
       "    <tr>\n",
       "      <th>3</th>\n",
       "      <td>나는 공무원이다</td>\n",
       "      <td>(주)NEW</td>\n",
       "      <td>코미디</td>\n",
       "      <td>2012-07-12</td>\n",
       "      <td>101</td>\n",
       "      <td>전체 관람가</td>\n",
       "      <td>구자홍</td>\n",
       "      <td>23894.00</td>\n",
       "      <td>2</td>\n",
       "      <td>20</td>\n",
       "      <td>6</td>\n",
       "      <td>217866</td>\n",
       "    </tr>\n",
       "    <tr>\n",
       "      <th>4</th>\n",
       "      <td>불량남녀</td>\n",
       "      <td>쇼박스(주)미디어플렉스</td>\n",
       "      <td>코미디</td>\n",
       "      <td>2010-11-04</td>\n",
       "      <td>108</td>\n",
       "      <td>15세 관람가</td>\n",
       "      <td>신근호</td>\n",
       "      <td>1.00</td>\n",
       "      <td>1</td>\n",
       "      <td>251</td>\n",
       "      <td>2</td>\n",
       "      <td>483387</td>\n",
       "    </tr>\n",
       "  </tbody>\n",
       "</table>\n",
       "</div>"
      ],
      "text/plain": [
       "       title   distributor genre release_time  time screening_rat director  \\\n",
       "0     개들의 전쟁      롯데엔터테인먼트    액션   2012-11-22    96      청소년 관람불가      조병옥   \n",
       "1       내부자들        (주)쇼박스   느와르   2015-11-19   130      청소년 관람불가      우민호   \n",
       "2  은밀하게 위대하게        (주)쇼박스    액션   2013-06-05   123       15세 관람가      장철수   \n",
       "3   나는 공무원이다        (주)NEW   코미디   2012-07-12   101        전체 관람가      구자홍   \n",
       "4       불량남녀  쇼박스(주)미디어플렉스   코미디   2010-11-04   108       15세 관람가      신근호   \n",
       "\n",
       "   dir_prev_bfnum  dir_prev_num  num_staff  num_actor  box_off_num  \n",
       "0             NaN             0         91          2        23398  \n",
       "1      1161602.50             2        387          3      7072501  \n",
       "2       220775.25             4        343          4      6959083  \n",
       "3        23894.00             2         20          6       217866  \n",
       "4            1.00             1        251          2       483387  "
      ]
     },
     "execution_count": 2,
     "metadata": {},
     "output_type": "execute_result"
    }
   ],
   "source": [
    "import pandas as pd\n",
    "import matplotlib.pyplot as plt\n",
    "import numpy as np\n",
    "import warnings\n",
    "warnings.filterwarnings('ignore')\n",
    "plt.rc('font', family='Malgun Gothic')\n",
    "\n",
    "df_train = pd.read_csv('../../영화 관객수/movies_train.csv', encoding='utf-8')\n",
    "df_test = pd.read_csv('../../영화 관객수/movies_test.csv', encoding='utf-8')\n",
    "\n",
    "df_train.head()"
   ]
  },
  {
   "cell_type": "markdown",
   "id": "a560d996",
   "metadata": {},
   "source": [
    "## Feature\n",
    "\n",
    "- title : 영화의 제목\n",
    "- distributor : 배급사\n",
    "- genre : 장르\n",
    "- release_time : 개봉일\n",
    "- time : 상영시간(분)\n",
    "- screening_rat : 상영등급\n",
    "- director : 감독이름\n",
    "- dir_prev_bfnum : 해당 감독이 이 영화를 만들기 전 제작에 참여한 영화에서의 평균 관객수(단 관객수가 알려지지 않은 영화 제외)\n",
    "- dir_prev_num : 해당 감독이 이 영화를 만들기 전 제작에 참여한 영화의 개수(단 관객수가 알려지지 않은 영화 제외)\n",
    "- num_staff : 스텝수\n",
    "- num_actor : 주연배우수\n",
    "- box_off_num : 관객수"
   ]
  },
  {
   "cell_type": "markdown",
   "id": "5c1035c5",
   "metadata": {},
   "source": [
    "# EDA"
   ]
  },
  {
   "cell_type": "markdown",
   "id": "12580a12",
   "metadata": {},
   "source": [
    "## 1. 결측치 확인"
   ]
  },
  {
   "cell_type": "code",
   "execution_count": 3,
   "id": "b0da5b81",
   "metadata": {},
   "outputs": [
    {
     "name": "stdout",
     "output_type": "stream",
     "text": [
      "< Train >\n",
      "<class 'pandas.core.frame.DataFrame'>\n",
      "RangeIndex: 600 entries, 0 to 599\n",
      "Data columns (total 12 columns):\n",
      " #   Column          Non-Null Count  Dtype  \n",
      "---  ------          --------------  -----  \n",
      " 0   title           600 non-null    object \n",
      " 1   distributor     600 non-null    object \n",
      " 2   genre           600 non-null    object \n",
      " 3   release_time    600 non-null    object \n",
      " 4   time            600 non-null    int64  \n",
      " 5   screening_rat   600 non-null    object \n",
      " 6   director        600 non-null    object \n",
      " 7   dir_prev_bfnum  270 non-null    float64\n",
      " 8   dir_prev_num    600 non-null    int64  \n",
      " 9   num_staff       600 non-null    int64  \n",
      " 10  num_actor       600 non-null    int64  \n",
      " 11  box_off_num     600 non-null    int64  \n",
      "dtypes: float64(1), int64(5), object(6)\n",
      "memory usage: 56.4+ KB\n",
      "None\n",
      "\n",
      " < Test >\n",
      "<class 'pandas.core.frame.DataFrame'>\n",
      "RangeIndex: 243 entries, 0 to 242\n",
      "Data columns (total 11 columns):\n",
      " #   Column          Non-Null Count  Dtype  \n",
      "---  ------          --------------  -----  \n",
      " 0   title           243 non-null    object \n",
      " 1   distributor     243 non-null    object \n",
      " 2   genre           243 non-null    object \n",
      " 3   release_time    243 non-null    object \n",
      " 4   time            243 non-null    int64  \n",
      " 5   screening_rat   243 non-null    object \n",
      " 6   director        243 non-null    object \n",
      " 7   dir_prev_bfnum  107 non-null    float64\n",
      " 8   dir_prev_num    243 non-null    int64  \n",
      " 9   num_staff       243 non-null    int64  \n",
      " 10  num_actor       243 non-null    int64  \n",
      "dtypes: float64(1), int64(4), object(6)\n",
      "memory usage: 21.0+ KB\n",
      "None\n"
     ]
    }
   ],
   "source": [
    "print('< Train >')\n",
    "print(df_train.info())\n",
    "print('\\n','< Test >')\n",
    "print(df_test.info())"
   ]
  },
  {
   "cell_type": "markdown",
   "id": "b86dffe0",
   "metadata": {},
   "source": [
    "[Train]\n",
    "- dir_prev_bfnum 결측치 : 330개\n",
    "\n",
    "[Test]\n",
    "- dir_prev_bfnum 결측치 : 136개"
   ]
  },
  {
   "cell_type": "markdown",
   "id": "3a2fe747",
   "metadata": {},
   "source": [
    "### dir_prev_bfnum 변수의 분포 확인"
   ]
  },
  {
   "cell_type": "markdown",
   "id": "07a94df8",
   "metadata": {},
   "source": [
    "#### Boxplot"
   ]
  },
  {
   "cell_type": "code",
   "execution_count": 4,
   "id": "7a0b9157",
   "metadata": {},
   "outputs": [
    {
     "data": {
      "text/plain": [
       "{'whiskers': [<matplotlib.lines.Line2D at 0x244cae76700>,\n",
       "  <matplotlib.lines.Line2D at 0x244cae769d0>],\n",
       " 'caps': [<matplotlib.lines.Line2D at 0x244cae76d60>,\n",
       "  <matplotlib.lines.Line2D at 0x244cae88130>],\n",
       " 'boxes': [<matplotlib.lines.Line2D at 0x244cae762b0>],\n",
       " 'medians': [<matplotlib.lines.Line2D at 0x244cae884c0>],\n",
       " 'fliers': [<matplotlib.lines.Line2D at 0x244cae88850>],\n",
       " 'means': []}"
      ]
     },
     "execution_count": 4,
     "metadata": {},
     "output_type": "execute_result"
    },
    {
     "data": {
      "image/png": "[encoded data removed]",
      "text/plain": [
       "<Figure size 720x576 with 1 Axes>"
      ]
     },
     "metadata": {
      "needs_background": "light"
     },
     "output_type": "display_data"
    }
   ],
   "source": [
    "# 결측치는 제외\n",
    "temp = df_train['dir_prev_bfnum'].dropna()\n",
    "\n",
    "# boxplot\n",
    "plt.figure(figsize=(10,8))\n",
    "plt.boxplot(temp, labels=['dir_prev_bfnum'])"
   ]
  },
  {
   "cell_type": "markdown",
   "id": "bd4f2dfb",
   "metadata": {},
   "source": [
    "#### 통계량"
   ]
  },
  {
   "cell_type": "code",
   "execution_count": 5,
   "id": "44a3deef",
   "metadata": {
    "scrolled": true
   },
   "outputs": [
    {
     "data": {
      "text/plain": [
       "count        270.00\n",
       "mean     1050442.89\n",
       "std      1791408.30\n",
       "min            1.00\n",
       "25%        20380.00\n",
       "50%       478423.62\n",
       "75%      1286568.62\n",
       "max     17615314.00\n",
       "Name: dir_prev_bfnum, dtype: float64"
      ]
     },
     "execution_count": 5,
     "metadata": {},
     "output_type": "execute_result"
    }
   ],
   "source": [
    "# 지수표현법 끄기\n",
    "pd.options.display.float_format = '{:.2f}'.format\n",
    "# 다시 지수표현법으로 변환하려면\n",
    "# pd.reset_option('display.float_format')\n",
    "\n",
    "temp.describe()"
   ]
  },
  {
   "cell_type": "markdown",
   "id": "6d5c9172",
   "metadata": {},
   "source": [
    "- min 값이 1인데 평균 관람 관객수가 1 이라는 것이 말이 안됨\n",
    "\n",
    "-> 평균 관객수가 100명이 되지 않는 데이터 확인"
   ]
  },
  {
   "cell_type": "code",
   "execution_count": 6,
   "id": "e388cb92",
   "metadata": {},
   "outputs": [
    {
     "data": {
      "text/plain": [
       "4      1.00\n",
       "114   20.00\n",
       "176   38.50\n",
       "186   17.00\n",
       "202    7.00\n",
       "278   72.50\n",
       "403   57.00\n",
       "465    8.00\n",
       "552   19.00\n",
       "Name: dir_prev_bfnum, dtype: float64"
      ]
     },
     "execution_count": 6,
     "metadata": {},
     "output_type": "execute_result"
    }
   ],
   "source": [
    "temp2 = temp[temp < 100]\n",
    "temp2"
   ]
  },
  {
   "cell_type": "code",
   "execution_count": 7,
   "id": "828d2db4",
   "metadata": {},
   "outputs": [
    {
     "data": {
      "text/html": [
       "<div>\n",
       "<style scoped>\n",
       "    .dataframe tbody tr th:only-of-type {\n",
       "        vertical-align: middle;\n",
       "    }\n",
       "\n",
       "    .dataframe tbody tr th {\n",
       "        vertical-align: top;\n",
       "    }\n",
       "\n",
       "    .dataframe thead th {\n",
       "        text-align: right;\n",
       "    }\n",
       "</style>\n",
       "<table border=\"1\" class=\"dataframe\">\n",
       "  <thead>\n",
       "    <tr style=\"text-align: right;\">\n",
       "      <th></th>\n",
       "      <th>dir_prev_bfnum</th>\n",
       "      <th>box_off_num</th>\n",
       "    </tr>\n",
       "  </thead>\n",
       "  <tbody>\n",
       "    <tr>\n",
       "      <th>1</th>\n",
       "      <td>1161602.50</td>\n",
       "      <td>7072501</td>\n",
       "    </tr>\n",
       "    <tr>\n",
       "      <th>2</th>\n",
       "      <td>220775.25</td>\n",
       "      <td>6959083</td>\n",
       "    </tr>\n",
       "    <tr>\n",
       "      <th>3</th>\n",
       "      <td>23894.00</td>\n",
       "      <td>217866</td>\n",
       "    </tr>\n",
       "    <tr>\n",
       "      <th>4</th>\n",
       "      <td>1.00</td>\n",
       "      <td>483387</td>\n",
       "    </tr>\n",
       "    <tr>\n",
       "      <th>5</th>\n",
       "      <td>837969.00</td>\n",
       "      <td>233211</td>\n",
       "    </tr>\n",
       "    <tr>\n",
       "      <th>...</th>\n",
       "      <td>...</td>\n",
       "      <td>...</td>\n",
       "    </tr>\n",
       "    <tr>\n",
       "      <th>587</th>\n",
       "      <td>67602.00</td>\n",
       "      <td>12696</td>\n",
       "    </tr>\n",
       "    <tr>\n",
       "      <th>588</th>\n",
       "      <td>2061296.67</td>\n",
       "      <td>1612554</td>\n",
       "    </tr>\n",
       "    <tr>\n",
       "      <th>592</th>\n",
       "      <td>597497.00</td>\n",
       "      <td>1472147</td>\n",
       "    </tr>\n",
       "    <tr>\n",
       "      <th>595</th>\n",
       "      <td>3833.00</td>\n",
       "      <td>1475091</td>\n",
       "    </tr>\n",
       "    <tr>\n",
       "      <th>596</th>\n",
       "      <td>496061.00</td>\n",
       "      <td>1716438</td>\n",
       "    </tr>\n",
       "  </tbody>\n",
       "</table>\n",
       "<p>270 rows × 2 columns</p>\n",
       "</div>"
      ],
      "text/plain": [
       "     dir_prev_bfnum  box_off_num\n",
       "1        1161602.50      7072501\n",
       "2         220775.25      6959083\n",
       "3          23894.00       217866\n",
       "4              1.00       483387\n",
       "5         837969.00       233211\n",
       "..              ...          ...\n",
       "587        67602.00        12696\n",
       "588      2061296.67      1612554\n",
       "592       597497.00      1472147\n",
       "595         3833.00      1475091\n",
       "596       496061.00      1716438\n",
       "\n",
       "[270 rows x 2 columns]"
      ]
     },
     "execution_count": 7,
     "metadata": {},
     "output_type": "execute_result"
    }
   ],
   "source": [
    "temp_df = df_train[['dir_prev_bfnum', 'box_off_num']].dropna()\n",
    "temp_df"
   ]
  },
  {
   "cell_type": "markdown",
   "id": "7405122a",
   "metadata": {},
   "source": [
    "#### dir_prev_bfnum 변수 EDA결과\n",
    "\n",
    "- 결측치가 너무 많아서 변수를 사용하기 힘들 것 같다.\n",
    "\n",
    "하지만, 이 변수가 목적변수(box_off_num)와 correlation이 존재한다면, 범주형 변수로 변경후 예측에 사용할 수 있을 것 같음"
   ]
  },
  {
   "cell_type": "markdown",
   "id": "3fb5e5ed",
   "metadata": {},
   "source": [
    "### 상관계수 확인"
   ]
  },
  {
   "cell_type": "code",
   "execution_count": 8,
   "id": "733a5dd6",
   "metadata": {
    "scrolled": true
   },
   "outputs": [
    {
     "data": {
      "text/plain": [
       "<AxesSubplot:>"
      ]
     },
     "execution_count": 8,
     "metadata": {},
     "output_type": "execute_result"
    },
    {
     "data": {
      "image/png": "[encoded data removed]",
      "text/plain": [
       "<Figure size 432x288 with 2 Axes>"
      ]
     },
     "metadata": {
      "needs_background": "light"
     },
     "output_type": "display_data"
    }
   ],
   "source": [
    "import seaborn as sns\n",
    "\n",
    "sns.heatmap(temp_df.corr(), linecolor='white', annot=True)"
   ]
  },
  {
   "cell_type": "markdown",
   "id": "77497fb5",
   "metadata": {},
   "source": [
    "- 상관계수가 0.28로 매우 낮은 상관관계를 보인다. 고로 dir_prev_bfnum 변수는 예측에서 제외한다"
   ]
  },
  {
   "cell_type": "markdown",
   "id": "687942e4",
   "metadata": {},
   "source": [
    "### dir_prev_bfnum 변수 제외"
   ]
  },
  {
   "cell_type": "code",
   "execution_count": 9,
   "id": "bfe54b37",
   "metadata": {},
   "outputs": [],
   "source": [
    "df_train = df_train.drop('dir_prev_bfnum', axis=1)\n",
    "df_test = df_test.drop('dir_prev_bfnum', axis=1)"
   ]
  },
  {
   "cell_type": "markdown",
   "id": "f26ae242",
   "metadata": {},
   "source": [
    "### genre별 관람객 수 시각화"
   ]
  },
  {
   "cell_type": "code",
   "execution_count": 10,
   "id": "1dfdeb23",
   "metadata": {},
   "outputs": [
    {
     "data": {
      "text/html": [
       "<div>\n",
       "<style scoped>\n",
       "    .dataframe tbody tr th:only-of-type {\n",
       "        vertical-align: middle;\n",
       "    }\n",
       "\n",
       "    .dataframe tbody tr th {\n",
       "        vertical-align: top;\n",
       "    }\n",
       "\n",
       "    .dataframe thead th {\n",
       "        text-align: right;\n",
       "    }\n",
       "</style>\n",
       "<table border=\"1\" class=\"dataframe\">\n",
       "  <thead>\n",
       "    <tr style=\"text-align: right;\">\n",
       "      <th></th>\n",
       "      <th>title</th>\n",
       "      <th>distributor</th>\n",
       "      <th>genre</th>\n",
       "      <th>release_time</th>\n",
       "      <th>time</th>\n",
       "      <th>screening_rat</th>\n",
       "      <th>director</th>\n",
       "      <th>dir_prev_num</th>\n",
       "      <th>num_staff</th>\n",
       "      <th>num_actor</th>\n",
       "      <th>box_off_num</th>\n",
       "    </tr>\n",
       "  </thead>\n",
       "  <tbody>\n",
       "    <tr>\n",
       "      <th>0</th>\n",
       "      <td>개들의 전쟁</td>\n",
       "      <td>롯데엔터테인먼트</td>\n",
       "      <td>액션</td>\n",
       "      <td>2012-11-22</td>\n",
       "      <td>96</td>\n",
       "      <td>청소년 관람불가</td>\n",
       "      <td>조병옥</td>\n",
       "      <td>0</td>\n",
       "      <td>91</td>\n",
       "      <td>2</td>\n",
       "      <td>23398</td>\n",
       "    </tr>\n",
       "    <tr>\n",
       "      <th>1</th>\n",
       "      <td>내부자들</td>\n",
       "      <td>(주)쇼박스</td>\n",
       "      <td>느와르</td>\n",
       "      <td>2015-11-19</td>\n",
       "      <td>130</td>\n",
       "      <td>청소년 관람불가</td>\n",
       "      <td>우민호</td>\n",
       "      <td>2</td>\n",
       "      <td>387</td>\n",
       "      <td>3</td>\n",
       "      <td>7072501</td>\n",
       "    </tr>\n",
       "    <tr>\n",
       "      <th>2</th>\n",
       "      <td>은밀하게 위대하게</td>\n",
       "      <td>(주)쇼박스</td>\n",
       "      <td>액션</td>\n",
       "      <td>2013-06-05</td>\n",
       "      <td>123</td>\n",
       "      <td>15세 관람가</td>\n",
       "      <td>장철수</td>\n",
       "      <td>4</td>\n",
       "      <td>343</td>\n",
       "      <td>4</td>\n",
       "      <td>6959083</td>\n",
       "    </tr>\n",
       "    <tr>\n",
       "      <th>3</th>\n",
       "      <td>나는 공무원이다</td>\n",
       "      <td>(주)NEW</td>\n",
       "      <td>코미디</td>\n",
       "      <td>2012-07-12</td>\n",
       "      <td>101</td>\n",
       "      <td>전체 관람가</td>\n",
       "      <td>구자홍</td>\n",
       "      <td>2</td>\n",
       "      <td>20</td>\n",
       "      <td>6</td>\n",
       "      <td>217866</td>\n",
       "    </tr>\n",
       "    <tr>\n",
       "      <th>4</th>\n",
       "      <td>불량남녀</td>\n",
       "      <td>쇼박스(주)미디어플렉스</td>\n",
       "      <td>코미디</td>\n",
       "      <td>2010-11-04</td>\n",
       "      <td>108</td>\n",
       "      <td>15세 관람가</td>\n",
       "      <td>신근호</td>\n",
       "      <td>1</td>\n",
       "      <td>251</td>\n",
       "      <td>2</td>\n",
       "      <td>483387</td>\n",
       "    </tr>\n",
       "  </tbody>\n",
       "</table>\n",
       "</div>"
      ],
      "text/plain": [
       "       title   distributor genre release_time  time screening_rat director  \\\n",
       "0     개들의 전쟁      롯데엔터테인먼트    액션   2012-11-22    96      청소년 관람불가      조병옥   \n",
       "1       내부자들        (주)쇼박스   느와르   2015-11-19   130      청소년 관람불가      우민호   \n",
       "2  은밀하게 위대하게        (주)쇼박스    액션   2013-06-05   123       15세 관람가      장철수   \n",
       "3   나는 공무원이다        (주)NEW   코미디   2012-07-12   101        전체 관람가      구자홍   \n",
       "4       불량남녀  쇼박스(주)미디어플렉스   코미디   2010-11-04   108       15세 관람가      신근호   \n",
       "\n",
       "   dir_prev_num  num_staff  num_actor  box_off_num  \n",
       "0             0         91          2        23398  \n",
       "1             2        387          3      7072501  \n",
       "2             4        343          4      6959083  \n",
       "3             2         20          6       217866  \n",
       "4             1        251          2       483387  "
      ]
     },
     "execution_count": 10,
     "metadata": {},
     "output_type": "execute_result"
    }
   ],
   "source": [
    "df_train.head()"
   ]
  },
  {
   "cell_type": "code",
   "execution_count": 11,
   "id": "c6e005b8",
   "metadata": {},
   "outputs": [
    {
     "data": {
      "text/plain": [
       "Text(0.5, 0, 'genre')"
      ]
     },
     "execution_count": 11,
     "metadata": {},
     "output_type": "execute_result"
    },
    {
     "data": {
      "image/png": "[encoded data removed]",
      "text/plain": [
       "<Figure size 864x432 with 2 Axes>"
      ]
     },
     "metadata": {
      "needs_background": "light"
     },
     "output_type": "display_data"
    }
   ],
   "source": [
    "df_1 = df_train.groupby(['genre'])['box_off_num'].sum()\n",
    "df_2 = df_train.groupby(['genre'])['box_off_num'].count()\n",
    "\n",
    "index = np.arange(len(df_1))\n",
    "genre = df_1.index\n",
    "\n",
    "index2 = np.arange(len(df_2))\n",
    "genre2 = df_2.index\n",
    "\n",
    "\n",
    "fig, ax = plt.subplots(1,2,figsize=(12,6))\n",
    "axx = plt.subplot(121)\n",
    "axx.bar(index, df_1)\n",
    "axx.set_xticks(index)\n",
    "axx.set_xticklabels(genre, rotation=90)\n",
    "axx.set_ylabel('box_off_num')\n",
    "axx.set_xlabel('genre')\n",
    "\n",
    "axx2 = plt.subplot(122)\n",
    "axx2.bar(index2, df_2)\n",
    "axx2.set_xticks(index2)\n",
    "axx2.set_xticklabels(genre2, rotation=90)\n",
    "axx2.set_ylabel('개수')\n",
    "axx2.set_xlabel('genre')"
   ]
  },
  {
   "cell_type": "markdown",
   "id": "5fb2b354",
   "metadata": {},
   "source": [
    "- 드라마 장르에 특히 관객수가 많다.\n",
    "- 뮤지컬, 서스펜스, 다큐멘터리 부문은 관객수가 적다"
   ]
  },
  {
   "cell_type": "code",
   "execution_count": 12,
   "id": "6472a094",
   "metadata": {},
   "outputs": [
    {
     "data": {
      "text/plain": [
       "Text(0.5, 0, 'genre')"
      ]
     },
     "execution_count": 12,
     "metadata": {},
     "output_type": "execute_result"
    },
    {
     "data": {
      "image/png": "[encoded data removed]",
      "text/plain": [
       "<Figure size 864x432 with 1 Axes>"
      ]
     },
     "metadata": {
      "needs_background": "light"
     },
     "output_type": "display_data"
    }
   ],
   "source": [
    "df_3 = df_1/df_2\n",
    "df_3\n",
    "\n",
    "index3 = np.arange(len(df_3))\n",
    "genre3 = df_3.index\n",
    "\n",
    "fig, ax = plt.subplots(1,1,figsize=(12,6))\n",
    "axx = plt.subplot(111)\n",
    "axx.bar(index3, df_3)\n",
    "axx.set_xticks(index3)\n",
    "axx.set_xticklabels(genre3, rotation=90)\n",
    "axx.set_ylabel('개봉한 장르수 대비 관객수')\n",
    "axx.set_xlabel('genre')"
   ]
  },
  {
   "cell_type": "markdown",
   "id": "cfd00eb4",
   "metadata": {},
   "source": [
    "- 영화수 대비 관객의 비중으로 봤을 경우\n",
    "- [다큐멘터리, 뮤지컬, 서스펜스, 애니메이션] : 상대적으로 해당 장르의 영화는 평균 관객수가 적다.\n",
    "- [SF, 느와르, 액션, 코미디] : 해당 장르의 영화 평균 관객수는 상대적으로 많은 편이다.\n",
    "\n",
    "### [idea 1]위의 장르에 가중치를 부여하는 방식을 진행하면 좋을듯\n",
    "\n",
    "### [idea 2] 같은 월에 상영하는 동일 장르의 영화 수가 관객수에 미치는 영향 보면 좋을듯"
   ]
  },
  {
   "cell_type": "markdown",
   "id": "4478f4f2",
   "metadata": {},
   "source": [
    "### [idea 1 실행] 파생 변수 추가"
   ]
  },
  {
   "cell_type": "code",
   "execution_count": 13,
   "id": "e91acc94",
   "metadata": {},
   "outputs": [],
   "source": [
    "def genre_weight(x):\n",
    "    # 평균 관객수가 적은 영화 return -1\n",
    "    if x in ['다큐멘터리', '뮤지컬', '서스펜스', '애니메이션']:\n",
    "        return -1\n",
    "    # 평균 관객수가 많은 영화 return 3\n",
    "    elif x in ['SF', '느와르', '액션', '코미디']:\n",
    "        return 3\n",
    "    # 나머지 장르에 return 0\n",
    "    else:\n",
    "        return 0\n",
    "    \n",
    "df_train['genre_weight'] = df_train['genre'].apply(lambda x: genre_weight(x))"
   ]
  },
  {
   "cell_type": "markdown",
   "id": "8ed14176",
   "metadata": {},
   "source": [
    "### [idea 2 실행] release_time별 box_off_num 변화 파악"
   ]
  },
  {
   "cell_type": "code",
   "execution_count": 14,
   "id": "37e18662",
   "metadata": {},
   "outputs": [],
   "source": [
    "df_train['release_time'] = pd.to_datetime(df_train['release_time'])\n",
    "\n",
    "df_train['년'] = df_train['release_time'].dt.year\n",
    "df_train['월'] = df_train['release_time'].dt.month\n",
    "df_train['일'] = df_train['release_time'].dt.day\n",
    "df_train['요일'] = df_train['release_time'].dt.dayofweek"
   ]
  },
  {
   "cell_type": "code",
   "execution_count": 15,
   "id": "210338bc",
   "metadata": {},
   "outputs": [
    {
     "data": {
      "text/plain": [
       "1788345.6923076923"
      ]
     },
     "execution_count": 15,
     "metadata": {},
     "output_type": "execute_result"
    }
   ],
   "source": [
    "df_3['SF']"
   ]
  },
  {
   "cell_type": "code",
   "execution_count": 16,
   "id": "14161514",
   "metadata": {
    "scrolled": true
   },
   "outputs": [
    {
     "name": "stdout",
     "output_type": "stream",
     "text": [
      "           title  평균대비 증감률\n",
      "월  genre                  \n",
      "1  다큐멘터리       2     16.17\n",
      "   드라마         5    -79.71\n",
      "   코미디         1    -38.87\n",
      "2  공포          1    -99.52\n",
      "   다큐멘터리       1    -98.41\n",
      "   드라마         2    -99.49\n",
      "3  느와르         2    -69.63\n",
      "   멜로/로맨스      2    -79.65\n",
      "4  다큐멘터리       2    -75.88\n",
      "   드라마         4    -24.89\n",
      "   멜로/로맨스      2    -93.88\n",
      "5  공포          1    283.79\n",
      "   드라마         7    -93.55\n",
      "   멜로/로맨스      1    -99.90\n",
      "   코미디         4    -83.11\n",
      "6  공포          1    -97.78\n",
      "   다큐멘터리       1    -99.88\n",
      "   드라마         1    377.16\n",
      "7  공포          2     58.20\n",
      "   다큐멘터리       1    -76.65\n",
      "   드라마         4     61.76\n",
      "8  공포          2    -69.81\n",
      "   느와르         1    -19.73\n",
      "   다큐멘터리       1    -99.64\n",
      "   액션          1    180.34\n",
      "9  공포          1    -99.58\n",
      "   다큐멘터리       3    122.13\n",
      "   드라마         5    -93.34\n",
      "   멜로/로맨스      1    530.28\n",
      "   액션          1    -29.85\n",
      "   코미디         2    -35.28\n",
      "10 공포          1    104.51\n",
      "   느와르         1     20.29\n",
      "   다큐멘터리       1    -98.07\n",
      "   드라마         2    -99.30\n",
      "   멜로/로맨스      2    -79.97\n",
      "11 SF          1     19.14\n",
      "   드라마         4    -99.24\n",
      "   멜로/로맨스      2    -84.39\n",
      "   코미디         3    -64.34\n",
      "12 느와르         1     -0.14\n",
      "   다큐멘터리       2    -95.53\n",
      "   드라마         2    -99.51\n",
      "   멜로/로맨스      1    163.45\n",
      "   코미디         2    132.91\n",
      "           title  평균대비 증감률\n",
      "월  genre                  \n",
      "1  다큐멘터리       1    -93.54\n",
      "   드라마         1     63.86\n",
      "   코미디         2    172.37\n",
      "2  SF          1    -99.29\n",
      "   느와르         1    -17.49\n",
      "   다큐멘터리       1    -84.81\n",
      "   드라마         2     99.70\n",
      "   액션          1    -98.01\n",
      "3  다큐멘터리       1    -95.58\n",
      "   드라마         7    -89.74\n",
      "   멜로/로맨스      2    -52.64\n",
      "   미스터리        1    -99.76\n",
      "   애니메이션       2    -90.20\n",
      "4  다큐멘터리       1    -73.33\n",
      "   드라마         2    -99.05\n",
      "5  다큐멘터리       2    -89.93\n",
      "   액션          1    -97.21\n",
      "   코미디         1    524.31\n",
      "6  공포          1     33.87\n",
      "   다큐멘터리       1    -81.63\n",
      "   드라마         2    -42.76\n",
      "   뮤지컬         1    -53.39\n",
      "   애니메이션       1    -70.74\n",
      "7  공포          1     13.80\n",
      "   드라마         2    -99.90\n",
      "   애니메이션       1   1110.81\n",
      "   액션          2    -33.17\n",
      "8  SF          2    -37.27\n",
      "   공포          1    -83.58\n",
      "   드라마         2    -38.27\n",
      "   애니메이션       1    -97.48\n",
      "   액션          1    239.49\n",
      "   코미디         1    -99.89\n",
      "9  다큐멘터리       2    -98.94\n",
      "   드라마         6     -2.06\n",
      "   액션          1    -78.60\n",
      "10 다큐멘터리       1    -40.58\n",
      "   드라마         3    -88.72\n",
      "   멜로/로맨스      1    141.28\n",
      "11 다큐멘터리       2    -90.42\n",
      "   드라마         2    -94.06\n",
      "   멜로/로맨스      2    -35.20\n",
      "   뮤지컬         1    146.31\n",
      "   애니메이션       1    -89.06\n",
      "   액션          1    -49.26\n",
      "   코미디         1    -92.43\n",
      "12 느와르         1    -99.96\n",
      "   다큐멘터리       1    -99.73\n",
      "   드라마         2     25.30\n",
      "   멜로/로맨스      2    253.29\n",
      "           title  평균대비 증감률\n",
      "월  genre                  \n",
      "1  드라마         4     96.48\n",
      "   멜로/로맨스      1    -33.46\n",
      "2  느와르         2     39.87\n",
      "   다큐멘터리       1    -96.58\n",
      "   멜로/로맨스      1    305.25\n",
      "   코미디         1    -99.84\n",
      "3  드라마         6    -99.60\n",
      "   멜로/로맨스      3    223.58\n",
      "   미스터리        2    156.61\n",
      "   애니메이션       1    -99.88\n",
      "4  다큐멘터리       2    -97.26\n",
      "   드라마         2    -99.46\n",
      "5  공포          1     46.81\n",
      "   다큐멘터리       1    -99.76\n",
      "   드라마         7    -29.86\n",
      "   멜로/로맨스      1    979.65\n",
      "   코미디         1     12.80\n",
      "6  드라마         1    -99.73\n",
      "   코미디         4    -75.66\n",
      "7  느와르         1    473.57\n",
      "   다큐멘터리       2    -99.27\n",
      "   드라마         1    621.74\n",
      "   미스터리        1    -19.12\n",
      "   애니메이션       1    -92.62\n",
      "   액션          1    -99.95\n",
      "   코미디         2    -86.49\n",
      "8  SF          1    -99.95\n",
      "   공포          2    106.02\n",
      "   느와르         1    -27.28\n",
      "   다큐멘터리       1    -98.47\n",
      "   드라마         1     26.29\n",
      "   멜로/로맨스      1    -99.87\n",
      "   액션          1    -45.46\n",
      "   코미디         1    -91.95\n",
      "9  다큐멘터리       1    -98.97\n",
      "   드라마         4    468.89\n",
      "   멜로/로맨스      1    -95.00\n",
      "   미스터리        1    -99.69\n",
      "10 다큐멘터리       3    -79.52\n",
      "   드라마         2    -97.24\n",
      "   액션          1    -49.61\n",
      "   코미디         2    -50.29\n",
      "11 다큐멘터리       1    -98.44\n",
      "   드라마         3    -94.28\n",
      "   멜로/로맨스      1   -100.00\n",
      "   액션          2    -32.23\n",
      "   코미디         1    -82.39\n",
      "12 다큐멘터리       1    -97.68\n",
      "   드라마         4    206.24\n",
      "           title  평균대비 증감률\n",
      "월  genre                  \n",
      "1  다큐멘터리       1    -98.15\n",
      "   멜로/로맨스      1    -99.85\n",
      "   액션          1    225.16\n",
      "   코미디         1    973.06\n",
      "2  느와르         1    -90.03\n",
      "   드라마         2    -99.30\n",
      "   멜로/로맨스      1     19.24\n",
      "3  SF          1    -99.94\n",
      "   다큐멘터리       2    -83.17\n",
      "   드라마         3     -8.43\n",
      "   멜로/로맨스      1    337.91\n",
      "4  다큐멘터리       3    -97.59\n",
      "   드라마         2    -85.33\n",
      "   멜로/로맨스      1    -90.89\n",
      "   액션          2    -28.14\n",
      "5  다큐멘터리       2    -53.69\n",
      "   드라마         5    -51.22\n",
      "   멜로/로맨스      1    -99.89\n",
      "   코미디         1    -18.05\n",
      "6  공포          2      7.42\n",
      "   드라마         2    -98.28\n",
      "   액션          1    215.75\n",
      "7  느와르         1    143.33\n",
      "   다큐멘터리       1    -97.65\n",
      "   드라마         4    -45.64\n",
      "   미스터리        1    -99.85\n",
      "8  SF          1    422.85\n",
      "   공포          2    374.38\n",
      "   다큐멘터리       1    -92.54\n",
      "   드라마         4     24.83\n",
      "   멜로/로맨스      1    -99.86\n",
      "   미스터리        1    -99.88\n",
      "   코미디         1    -98.81\n",
      "9  다큐멘터리       1    -68.27\n",
      "   드라마         5    195.58\n",
      "   미스터리        1    -99.79\n",
      "   서스펜스        1    -72.10\n",
      "   코미디         1    -99.49\n",
      "10 공포          1    198.95\n",
      "   드라마         2      5.59\n",
      "   멜로/로맨스      2    -98.91\n",
      "   뮤지컬         1     21.97\n",
      "   액션          1    -91.27\n",
      "11 공포          3     -9.33\n",
      "   느와르         2    -24.89\n",
      "   다큐멘터리       3    -77.32\n",
      "   드라마         3    -99.47\n",
      "   멜로/로맨스      3     -3.31\n",
      "   미스터리        2    -99.40\n",
      "   애니메이션       1    -87.62\n",
      "   액션          1    -99.21\n",
      "12 다큐멘터리       1    -96.76\n",
      "   드라마         4    428.99\n",
      "   멜로/로맨스      1    -99.34\n",
      "          title  평균대비 증감률\n",
      "월  genre                 \n",
      "1  공포         1    -99.73\n",
      "   느와르        1    -99.82\n",
      "   다큐멘터리      1    -95.61\n",
      "   드라마        2     58.27\n",
      "   애니메이션      1    163.45\n",
      "...         ...       ...\n",
      "11 액션         1    -46.58\n",
      "12 다큐멘터리      3    -79.34\n",
      "   드라마        3    718.29\n",
      "   애니메이션      1    -86.04\n",
      "   코미디        2    -91.12\n",
      "\n",
      "[64 rows x 2 columns]\n",
      "           title  평균대비 증감률\n",
      "월  genre                  \n",
      "1  다큐멘터리       1    -94.94\n",
      "   드라마         4    -46.30\n",
      "   멜로/로맨스      2    123.65\n",
      "   액션          1     -0.53\n",
      "   코미디         1    -87.31\n",
      "...          ...       ...\n",
      "12 다큐멘터리       2    -82.48\n",
      "   드라마         7    131.80\n",
      "   멜로/로맨스      1    -24.49\n",
      "   미스터리        1    -99.73\n",
      "   애니메이션       1    145.18\n",
      "\n",
      "[68 rows x 2 columns]\n"
     ]
    }
   ],
   "source": [
    "monthly_count = {i:[] for i in sorted(df_train['년'].unique())}\n",
    "\n",
    "for i in monthly_count.keys():\n",
    "    temp_df = df_train[df_train['년'] == i]\n",
    "    temp = temp_df.groupby(['월', 'genre'])['title'].count()\n",
    "    temp2 = temp_df.groupby(['월', 'genre'])['box_off_num'].sum()\n",
    "    \n",
    "    new_df = pd.concat([temp, temp2], axis=1)\n",
    "    new_df['percent'] = new_df['box_off_num']/new_df['title']\n",
    "    new_df['average'] = np.zeros((len(temp2)))\n",
    "    \n",
    "    for x,i in new_df.index:\n",
    "        for j in df_3.index:\n",
    "            if i == j:\n",
    "                new_df['average'].loc[x,i] = df_3[j]\n",
    "    \n",
    "    new_df['평균대비 증감률'] = (new_df['percent'] - new_df['average'])/new_df['average'] * 100\n",
    "    print(new_df[['title', '평균대비 증감률']])\n",
    "#     monthly_count[i].append(new_df)\n",
    "    \n",
    "# monthly_count"
   ]
  },
  {
   "cell_type": "markdown",
   "id": "789550b1",
   "metadata": {},
   "source": [
    "### 특별한 상관관계를 유추할 수는 없었음"
   ]
  },
  {
   "cell_type": "markdown",
   "id": "cc79c2ce",
   "metadata": {},
   "source": [
    "### 배포 년도별 관객수"
   ]
  },
  {
   "cell_type": "code",
   "execution_count": 17,
   "id": "2b5f620d",
   "metadata": {},
   "outputs": [
    {
     "data": {
      "text/plain": [
       "array([2012, 2015, 2013, 2010, 2014, 2011], dtype=int64)"
      ]
     },
     "execution_count": 17,
     "metadata": {},
     "output_type": "execute_result"
    }
   ],
   "source": [
    "df_train['년'].unique()"
   ]
  },
  {
   "cell_type": "code",
   "execution_count": 18,
   "id": "a95e2e8a",
   "metadata": {},
   "outputs": [
    {
     "data": {
      "text/plain": [
       "[Text(1, 0, '2010'),\n",
       " Text(2, 0, '2011'),\n",
       " Text(3, 0, '2012'),\n",
       " Text(4, 0, '2013'),\n",
       " Text(5, 0, '2014'),\n",
       " Text(6, 0, '2015')]"
      ]
     },
     "execution_count": 18,
     "metadata": {},
     "output_type": "execute_result"
    },
    {
     "data": {
      "image/png": "[encoded data removed]",
      "text/plain": [
       "<Figure size 576x288 with 1 Axes>"
      ]
     },
     "metadata": {
      "needs_background": "light"
     },
     "output_type": "display_data"
    }
   ],
   "source": [
    "df_tot = df_train.drop(['release_time'], axis=1)\n",
    "year = df_tot.groupby('년')['box_off_num'].sum()\n",
    "index = [1,2,3,4,5,6]\n",
    "real= year.index\n",
    "\n",
    "fig, ax = plt.subplots(1,1, figsize=(8,4))\n",
    "ax1 = plt.subplot(111)\n",
    "ax1.bar(index, year)\n",
    "ax1.set_xlabel('년도')\n",
    "ax1.set_ylabel('관객수')\n",
    "ax1.set_xticks(index)\n",
    "ax1.set_xticklabels(real)"
   ]
  },
  {
   "cell_type": "markdown",
   "id": "ac6159cf",
   "metadata": {},
   "source": [
    "### 배포 월별 관객수"
   ]
  },
  {
   "cell_type": "code",
   "execution_count": 19,
   "id": "24264dce",
   "metadata": {
    "scrolled": false
   },
   "outputs": [
    {
     "data": {
      "text/plain": [
       "[Text(0, 0, '1'),\n",
       " Text(1, 0, '2'),\n",
       " Text(2, 0, '3'),\n",
       " Text(3, 0, '4'),\n",
       " Text(4, 0, '5'),\n",
       " Text(5, 0, '6'),\n",
       " Text(6, 0, '7'),\n",
       " Text(7, 0, '8'),\n",
       " Text(8, 0, '9'),\n",
       " Text(9, 0, '10'),\n",
       " Text(10, 0, '11'),\n",
       " Text(11, 0, '12')]"
      ]
     },
     "execution_count": 19,
     "metadata": {},
     "output_type": "execute_result"
    },
    {
     "data": {
      "image/png": "[encoded data removed]",
      "text/plain": [
       "<Figure size 576x288 with 1 Axes>"
      ]
     },
     "metadata": {
      "needs_background": "light"
     },
     "output_type": "display_data"
    }
   ],
   "source": [
    "month = df_tot.groupby('월')['box_off_num'].sum()\n",
    "real= month.index\n",
    "index = np.arange(len(real))\n",
    "\n",
    "fig, ax = plt.subplots(1,1, figsize=(8,4))\n",
    "ax1 = plt.subplot(111)\n",
    "ax1.bar(index, month)\n",
    "ax1.set_xlabel('월')\n",
    "ax1.set_ylabel('관객수')\n",
    "ax1.set_xticks(index)\n",
    "ax1.set_xticklabels(real)"
   ]
  },
  {
   "cell_type": "markdown",
   "id": "2e72cb51",
   "metadata": {},
   "source": [
    "- 관객수가 계절의 영향을 받는가?"
   ]
  },
  {
   "cell_type": "code",
   "execution_count": 20,
   "id": "7ff2c049",
   "metadata": {},
   "outputs": [
    {
     "data": {
      "text/plain": [
       "<AxesSubplot:xlabel='년,월'>"
      ]
     },
     "execution_count": 20,
     "metadata": {},
     "output_type": "execute_result"
    },
    {
     "data": {
      "image/png": "[encoded data removed]",
      "text/plain": [
       "<Figure size 720x432 with 1 Axes>"
      ]
     },
     "metadata": {
      "needs_background": "light"
     },
     "output_type": "display_data"
    }
   ],
   "source": [
    "temp = df_tot.groupby(['년', '월'])['box_off_num'].sum()\n",
    "plt.figure(figsize=(10,6))\n",
    "temp.plot()"
   ]
  },
  {
   "cell_type": "code",
   "execution_count": 21,
   "id": "913fa223",
   "metadata": {},
   "outputs": [
    {
     "data": {
      "text/html": [
       "<div>\n",
       "<style scoped>\n",
       "    .dataframe tbody tr th:only-of-type {\n",
       "        vertical-align: middle;\n",
       "    }\n",
       "\n",
       "    .dataframe tbody tr th {\n",
       "        vertical-align: top;\n",
       "    }\n",
       "\n",
       "    .dataframe thead th {\n",
       "        text-align: right;\n",
       "    }\n",
       "</style>\n",
       "<table border=\"1\" class=\"dataframe\">\n",
       "  <thead>\n",
       "    <tr style=\"text-align: right;\">\n",
       "      <th></th>\n",
       "      <th>title</th>\n",
       "      <th>distributor</th>\n",
       "      <th>genre</th>\n",
       "      <th>time</th>\n",
       "      <th>screening_rat</th>\n",
       "      <th>director</th>\n",
       "      <th>dir_prev_num</th>\n",
       "      <th>num_staff</th>\n",
       "      <th>num_actor</th>\n",
       "      <th>box_off_num</th>\n",
       "      <th>genre_weight</th>\n",
       "      <th>년</th>\n",
       "      <th>월</th>\n",
       "      <th>일</th>\n",
       "      <th>요일</th>\n",
       "      <th>season</th>\n",
       "    </tr>\n",
       "  </thead>\n",
       "  <tbody>\n",
       "    <tr>\n",
       "      <th>0</th>\n",
       "      <td>개들의 전쟁</td>\n",
       "      <td>롯데엔터테인먼트</td>\n",
       "      <td>액션</td>\n",
       "      <td>96</td>\n",
       "      <td>청소년 관람불가</td>\n",
       "      <td>조병옥</td>\n",
       "      <td>0</td>\n",
       "      <td>91</td>\n",
       "      <td>2</td>\n",
       "      <td>23398</td>\n",
       "      <td>3</td>\n",
       "      <td>2012</td>\n",
       "      <td>11</td>\n",
       "      <td>22</td>\n",
       "      <td>3</td>\n",
       "      <td>autumn</td>\n",
       "    </tr>\n",
       "    <tr>\n",
       "      <th>1</th>\n",
       "      <td>내부자들</td>\n",
       "      <td>(주)쇼박스</td>\n",
       "      <td>느와르</td>\n",
       "      <td>130</td>\n",
       "      <td>청소년 관람불가</td>\n",
       "      <td>우민호</td>\n",
       "      <td>2</td>\n",
       "      <td>387</td>\n",
       "      <td>3</td>\n",
       "      <td>7072501</td>\n",
       "      <td>3</td>\n",
       "      <td>2015</td>\n",
       "      <td>11</td>\n",
       "      <td>19</td>\n",
       "      <td>3</td>\n",
       "      <td>autumn</td>\n",
       "    </tr>\n",
       "  </tbody>\n",
       "</table>\n",
       "</div>"
      ],
      "text/plain": [
       "    title distributor genre  time screening_rat director  dir_prev_num  \\\n",
       "0  개들의 전쟁    롯데엔터테인먼트    액션    96      청소년 관람불가      조병옥             0   \n",
       "1    내부자들      (주)쇼박스   느와르   130      청소년 관람불가      우민호             2   \n",
       "\n",
       "   num_staff  num_actor  box_off_num  genre_weight     년   월   일  요일  season  \n",
       "0         91          2        23398             3  2012  11  22   3  autumn  \n",
       "1        387          3      7072501             3  2015  11  19   3  autumn  "
      ]
     },
     "execution_count": 21,
     "metadata": {},
     "output_type": "execute_result"
    }
   ],
   "source": [
    "def season(x):\n",
    "    if x in [3,4,5]:\n",
    "        return 'spring'\n",
    "    elif x in [6,7,8]:\n",
    "        return 'summer'\n",
    "    elif x in [9,10,11]:\n",
    "        return 'autumn'\n",
    "    elif x in [12,1,2]:\n",
    "        return 'winter'\n",
    "    \n",
    "df_tot['season'] = df_tot['월'].apply(lambda x:season(x))\n",
    "df_tot.head(2)"
   ]
  },
  {
   "cell_type": "code",
   "execution_count": 22,
   "id": "1da2d8e8",
   "metadata": {},
   "outputs": [
    {
     "data": {
      "text/plain": [
       "<AxesSubplot:xlabel='season'>"
      ]
     },
     "execution_count": 22,
     "metadata": {},
     "output_type": "execute_result"
    },
    {
     "data": {
      "image/png": "[encoded data removed]",
      "text/plain": [
       "<Figure size 720x432 with 1 Axes>"
      ]
     },
     "metadata": {
      "needs_background": "light"
     },
     "output_type": "display_data"
    }
   ],
   "source": [
    "temp = df_tot.groupby(['season'])['box_off_num'].sum()\n",
    "plt.figure(figsize=(10,6))\n",
    "temp.plot.bar()"
   ]
  },
  {
   "cell_type": "markdown",
   "id": "66468249",
   "metadata": {},
   "source": [
    "- 봄에는 비교적 적은 관객이 유치됨\n",
    "--> 계절 변수를 파생변수로 사용하여 모델 학습을 진행하기로 함"
   ]
  },
  {
   "cell_type": "markdown",
   "id": "dc685a7a",
   "metadata": {},
   "source": [
    "### feature 간의 상관관계 분석"
   ]
  },
  {
   "cell_type": "code",
   "execution_count": 23,
   "id": "92c9bde6",
   "metadata": {},
   "outputs": [
    {
     "data": {
      "text/plain": [
       "<seaborn.matrix.ClusterGrid at 0x244cc31af70>"
      ]
     },
     "execution_count": 23,
     "metadata": {},
     "output_type": "execute_result"
    },
    {
     "data": {
      "image/png": "[encoded data removed]",
      "text/plain": [
       "<Figure size 720x720 with 4 Axes>"
      ]
     },
     "metadata": {
      "needs_background": "light"
     },
     "output_type": "display_data"
    }
   ],
   "source": [
    "sns.clustermap(df_tot.corr(), annot=True)"
   ]
  },
  {
   "cell_type": "markdown",
   "id": "c7a82fda",
   "metadata": {},
   "source": [
    "- 관객수와의 상관관계만 보았을 때, num_staff 변수가 가장 강한 양의 상관관계를 가진다"
   ]
  },
  {
   "cell_type": "markdown",
   "id": "5d27f20b",
   "metadata": {},
   "source": [
    "### title 변수 제외"
   ]
  },
  {
   "cell_type": "markdown",
   "id": "ac85c47d",
   "metadata": {},
   "source": [
    "- title 의 경우 모든 영화가 다른 title을 가지고 있고, 이를 통한 유추가 불가능하므로 예측변수에서 제외"
   ]
  },
  {
   "cell_type": "code",
   "execution_count": 24,
   "id": "d0ec4e3c",
   "metadata": {},
   "outputs": [
    {
     "name": "stdout",
     "output_type": "stream",
     "text": [
      "<class 'pandas.core.frame.DataFrame'>\n",
      "RangeIndex: 600 entries, 0 to 599\n",
      "Data columns (total 15 columns):\n",
      " #   Column         Non-Null Count  Dtype \n",
      "---  ------         --------------  ----- \n",
      " 0   distributor    600 non-null    object\n",
      " 1   genre          600 non-null    object\n",
      " 2   time           600 non-null    int64 \n",
      " 3   screening_rat  600 non-null    object\n",
      " 4   director       600 non-null    object\n",
      " 5   dir_prev_num   600 non-null    int64 \n",
      " 6   num_staff      600 non-null    int64 \n",
      " 7   num_actor      600 non-null    int64 \n",
      " 8   box_off_num    600 non-null    int64 \n",
      " 9   genre_weight   600 non-null    int64 \n",
      " 10  년              600 non-null    int64 \n",
      " 11  월              600 non-null    int64 \n",
      " 12  일              600 non-null    int64 \n",
      " 13  요일             600 non-null    int64 \n",
      " 14  season         600 non-null    object\n",
      "dtypes: int64(10), object(5)\n",
      "memory usage: 70.4+ KB\n"
     ]
    }
   ],
   "source": [
    "df_tot = df_tot.drop(['title'], axis=1)\n",
    "df_tot.info()"
   ]
  },
  {
   "cell_type": "markdown",
   "id": "94c52c9b",
   "metadata": {},
   "source": [
    "### director 변수 파악"
   ]
  },
  {
   "cell_type": "code",
   "execution_count": 25,
   "id": "bab8b210",
   "metadata": {},
   "outputs": [
    {
     "name": "stdout",
     "output_type": "stream",
     "text": [
      "472 명\n"
     ]
    }
   ],
   "source": [
    "# 총 600개 영화의 제작 감독이 472명 존재한다. \n",
    "# 특정 감독의 작품이라는 점이 관객수에 영향을 미칠 수 있다고 판단.\n",
    "\n",
    "print(len(df_tot['director'].unique()), '명')"
   ]
  },
  {
   "cell_type": "markdown",
   "id": "bf56dd37",
   "metadata": {},
   "source": [
    "### 상영시간의 파생변수"
   ]
  },
  {
   "cell_type": "code",
   "execution_count": 26,
   "id": "f4c0de6a",
   "metadata": {},
   "outputs": [
    {
     "data": {
      "text/html": [
       "<div>\n",
       "<style scoped>\n",
       "    .dataframe tbody tr th:only-of-type {\n",
       "        vertical-align: middle;\n",
       "    }\n",
       "\n",
       "    .dataframe tbody tr th {\n",
       "        vertical-align: top;\n",
       "    }\n",
       "\n",
       "    .dataframe thead th {\n",
       "        text-align: right;\n",
       "    }\n",
       "</style>\n",
       "<table border=\"1\" class=\"dataframe\">\n",
       "  <thead>\n",
       "    <tr style=\"text-align: right;\">\n",
       "      <th></th>\n",
       "      <th>distributor</th>\n",
       "      <th>genre</th>\n",
       "      <th>time</th>\n",
       "      <th>screening_rat</th>\n",
       "      <th>director</th>\n",
       "      <th>dir_prev_num</th>\n",
       "      <th>num_staff</th>\n",
       "      <th>num_actor</th>\n",
       "      <th>box_off_num</th>\n",
       "      <th>genre_weight</th>\n",
       "      <th>년</th>\n",
       "      <th>월</th>\n",
       "      <th>일</th>\n",
       "      <th>요일</th>\n",
       "      <th>season</th>\n",
       "      <th>|120-time|</th>\n",
       "    </tr>\n",
       "  </thead>\n",
       "  <tbody>\n",
       "    <tr>\n",
       "      <th>0</th>\n",
       "      <td>롯데엔터테인먼트</td>\n",
       "      <td>액션</td>\n",
       "      <td>96</td>\n",
       "      <td>청소년 관람불가</td>\n",
       "      <td>조병옥</td>\n",
       "      <td>0</td>\n",
       "      <td>91</td>\n",
       "      <td>2</td>\n",
       "      <td>23398</td>\n",
       "      <td>3</td>\n",
       "      <td>2012</td>\n",
       "      <td>11</td>\n",
       "      <td>22</td>\n",
       "      <td>3</td>\n",
       "      <td>autumn</td>\n",
       "      <td>24</td>\n",
       "    </tr>\n",
       "    <tr>\n",
       "      <th>1</th>\n",
       "      <td>(주)쇼박스</td>\n",
       "      <td>느와르</td>\n",
       "      <td>130</td>\n",
       "      <td>청소년 관람불가</td>\n",
       "      <td>우민호</td>\n",
       "      <td>2</td>\n",
       "      <td>387</td>\n",
       "      <td>3</td>\n",
       "      <td>7072501</td>\n",
       "      <td>3</td>\n",
       "      <td>2015</td>\n",
       "      <td>11</td>\n",
       "      <td>19</td>\n",
       "      <td>3</td>\n",
       "      <td>autumn</td>\n",
       "      <td>10</td>\n",
       "    </tr>\n",
       "  </tbody>\n",
       "</table>\n",
       "</div>"
      ],
      "text/plain": [
       "  distributor genre  time screening_rat director  dir_prev_num  num_staff  \\\n",
       "0    롯데엔터테인먼트    액션    96      청소년 관람불가      조병옥             0         91   \n",
       "1      (주)쇼박스   느와르   130      청소년 관람불가      우민호             2        387   \n",
       "\n",
       "   num_actor  box_off_num  genre_weight     년   월   일  요일  season  |120-time|  \n",
       "0          2        23398             3  2012  11  22   3  autumn          24  \n",
       "1          3      7072501             3  2015  11  19   3  autumn          10  "
      ]
     },
     "execution_count": 26,
     "metadata": {},
     "output_type": "execute_result"
    }
   ],
   "source": [
    "df_tot['|120-time|'] = df_tot['time'].apply(lambda x:abs(120-x))\n",
    "df_tot.head(2)"
   ]
  },
  {
   "cell_type": "markdown",
   "id": "624b1457",
   "metadata": {},
   "source": [
    "### 범주형 변수들 label encoding"
   ]
  },
  {
   "cell_type": "code",
   "execution_count": 27,
   "id": "83eddeb6",
   "metadata": {
    "scrolled": true
   },
   "outputs": [
    {
     "name": "stdout",
     "output_type": "stream",
     "text": [
      "< distributor >\n",
      "['(주) 브릿지웍스' '(주) 액티버스엔터테인먼트' '(주) 영화사조제' '(주) 영화제작전원사' '(주) 케이알씨지'\n",
      " '(주)JK필름' '(주)NEW' '(주)고앤고 필름' '(주)노버스엔터테인먼트' '(주)대명문화공장' '(주)더픽쳐스'\n",
      " '(주)두타연' '(주)드림팩트엔터테인먼트' '(주)랠리버튼' '(주)레인보우 팩토리' '(주)로드하우스' '(주)리틀빅픽처스'\n",
      " '(주)마운틴픽쳐스' '(주)마인스 엔터테인먼트' '(주)마인스엔터테인먼트' '(주)미디어데이' '(주)쇼박스'\n",
      " '(주)스마일이엔티' '(주)스톰픽쳐스코리아' '(주)시네마달' '(주)씨엠닉스' '(주)아우라픽처스' '(주)아이필름코퍼레이션'\n",
      " '(주)에이원 엔터테인먼트' '(주)엣나인필름' '(주)예지림 엔터테인먼트' '(주)온비즈넷' '(주)유비네트워크'\n",
      " '(주)유비콘텐츠' '(주)이스트스카이필름' '(주)콘텐츠 윙' '(주)키노아이' '(주)팝 파트너스' '(주)팝엔터테인먼트'\n",
      " '(주)패뷸러스' '(주)패스파인더씨앤씨' '(주)프레인글로벌' '(주)피터팬픽쳐스' '(주)휘엔터테인먼트'\n",
      " 'BoXoo 엔터테인먼트' 'CGV 무비꼴라쥬' 'CGV 아트하우스' 'CGV아트하우스' 'CJ CGV'\n",
      " 'CJ E&M Pictures' 'CJ E&M 영화부문' 'CJ 엔터테인먼트' 'KBS미디어(주)' 'KT' 'KT&G 상상마당'\n",
      " 'M2픽처스' 'NEW' 'OAL(올)' 'SBS콘텐츠허브' 'SK텔레콤(주)' 'SK플래닛' 'THE 픽쳐스' 'tvN'\n",
      " 'ysfilm' '건시네마' '고구마공작소' '골든타이드픽처스' '김기덕 필름' '나우콘텐츠' '나이너스엔터테인먼트(주)'\n",
      " '노바엔터테인먼트' '더 피플' '더픽쳐스/(주)마운틴픽쳐스' '동국대학교 충무로영상제작센터' '두 엔터테인먼트' '드림로드'\n",
      " '드림팩트 엔터테인먼트' '디 씨드' '디마엔터테인먼트' '롤러코스터 프로덕션' '롯데엔터테인먼트' '리틀빅픽처스' '리틀빅픽쳐스'\n",
      " '마노엔터테인먼트' '마법사필름' '마운틴 픽처스' '머스트 씨 무비' '메가박스(주)플러스엠' '무비꼴라쥬' '미라클 필름'\n",
      " '백두대간' '보람엔터테인먼트' '사람과 사람들' '상구네 필름' '새인컴퍼니' '서울독립영화제' '쇼박스(주)미디어플렉스'\n",
      " '스크린조이' '스토리셋' '스튜디오 느림보' '스튜디오 블루' '스튜디오후크' '스폰지' '스폰지이엔티' '시너지' '시네마 달'\n",
      " '시네마달' '시네마서비스' '싸이더스' '싸이더스 FNH' '싸이더스FNH' '씨너스엔터테인먼트(주)' '씨네굿필름'\n",
      " '씨네그루(주)키다리이엔티' '아방가르드 필름' '어뮤즈' '어썸 피플' '에스와이코마드' '에스피엠' '에이블엔터테인먼트'\n",
      " '에이원 엔터테인먼트' '영구아트무비' '영화사 廊' '영화사 조아' '영화사 진진' '영희야놀자' '오퍼스픽쳐스'\n",
      " '와이드 릴리즈(주)' '와이드릴리즈(주)' '웃기씨네' '위더스필름' '위드시네마' '유니버설픽쳐스인터내셔널코리아' '이달투'\n",
      " '이모션 픽처스' '이상우필름' '이십세기폭스코리아(주)' '인디스토리' '인디플러그' '인벤트 디' '인터콘미디어'\n",
      " '인피니티엔터테인먼트' '쟈비스미디어' '전망좋은영화사' '전주국제영화제' '제나두 엔터테인먼트' '조이앤시네마'\n",
      " '조이앤컨텐츠그룹' '주머니필름' '찬란' '케이엠스타' '콘텐츠판다' '크리에이티브컴즈(주)' '키노엔터테인먼트'\n",
      " '타임스토리그룹' '트리필름' '파이오니아21' '판다미디어' '판씨네마(주)' '팜코리아미디어' '퍼스트런' '프로젝트 엠피'\n",
      " '프리비젼 엔터테인먼트' '필라멘트 픽쳐스' '필름라인' '하준사' '한국YWCA연합회' '홀리가든' '화앤담이엔티']  ->  [  0   1   2   3   4   5   6   7   8   9  10  11  12  13  14  15  16  17\n",
      "  18  19  20  21  22  23  24  25  26  27  28  29  30  31  32  33  34  35\n",
      "  36  37  38  39  40  41  42  43  44  45  46  47  48  49  50  51  52  53\n",
      "  54  55  56  57  58  59  60  61  62  63  64  65  66  67  68  69  70  71\n",
      "  72  73  74  75  76  77  78  79  80  81  82  83  84  85  86  87  88  89\n",
      "  90  91  92  93  94  95  96  97  98  99 100 101 102 103 104 105 106 107\n",
      " 108 109 110 111 112 113 114 115 116 117 118 119 120 121 122 123 124 125\n",
      " 126 127 128 129 130 131 132 133 134 135 136 137 138 139 140 141 142 143\n",
      " 144 145 146 147 148 149 150 151 152 153 154 155 156 157 158 159 160 161\n",
      " 162 163 164 165 166 167 168] \n",
      "\n",
      "< genre >\n",
      "['SF' '공포' '느와르' '다큐멘터리' '드라마' '멜로/로맨스' '뮤지컬' '미스터리' '서스펜스' '애니메이션' '액션'\n",
      " '코미디']  ->  [ 0  1  2  3  4  5  6  7  8  9 10 11] \n",
      "\n",
      "< screening_rat >\n",
      "['12세 관람가' '15세 관람가' '전체 관람가' '청소년 관람불가']  ->  [0 1 2 3] \n",
      "\n",
      "< director >\n",
      "['New Pistol' '강석필' '강성옥' '강우석' '강의석' '강형철' '강효진' '강훈' '경순' '계윤식' '고구마'\n",
      " '고석진' '공귀현' '곽경택' '구모' '구봉회' '구수환' '구자홍' '구혜선' '국동석' '권오광' '권우정' '권중목'\n",
      " '권칠인' '권혁만' '권형진' '권효' '기대호' '김건' '김경만' '김경묵' '김곡' '김관철' '김광식' '김광태'\n",
      " '김규민' '김기덕' '김기영' '김기훈' '김달중' '김대성' '김대승' '김대우' '김대창' '김대현' '김덕수' '김동명'\n",
      " '김동빈' '김동원' '김동주' '김동후' '김명균' '김명서' '김민석' '김민욱' '김병곤' '김병준' '김봉곤' '김봉은'\n",
      " '김봉주' '김상만' '김상석' '김상진' '김상철' '김석윤' '김석정' '김선' '김선아' '김성균' '김성수' '김성제'\n",
      " '김성호' '김성홍' '김성훈' '김영진' '김영탁' '김용균' '김용화' '김익로' '김인식' '김일종' '김재수' '김재한'\n",
      " '김재환' '김정욱' '김정호' '김정환' '김정훈' '김조광수' '김종철' '김준권' '김지용' '김지운' '김지훈' '김진만'\n",
      " '김진무' '김진민' '김진열' '김진영' '김진홍' '김창만' '김철민' '김철한' '김태경' '김태곤' '김태균' '김태식'\n",
      " '김태용' '김태윤' '김태일' '김한민' '김현석' '김형주' '김혜정' '김호준' '김홍선' '김회근' '김효정' '김휘'\n",
      " '김희정' '나홍진' '남기웅' '남택수' '노덕' '노병하' '노성수' '노영석' '노진수' '노효두' '도창훈' '동지견'\n",
      " '라희찬' '류승완' '류훈' '린슈유' '맹관표' '문승욱' '문인수' '문정윤' '문제대' '문제용' '문현성' '민규동'\n",
      " '민두식' '민백두' '민복기' '민용근' '민환기' '박경근' '박규택' '박동훈' '박명랑' '박문칠' '박미선' '박배일'\n",
      " '박범수' '박범훈' '박사유' '박상현' '박석영' '박선욱' '박성미' '박영균' '박용집' '박은형' '박재식' '박정범'\n",
      " '박정우' '박준기' '박중구' '박진성' '박진순' '박진표' '박찬경' '박철관' '박철수' '박태동' '박헌수' '박형우'\n",
      " '박훈정' '박흥식' '박희곤' '방은진' '방현준' '방형우' '배광수' '배성상' '배창호' '배형준' '백동훈' '백승기'\n",
      " '백승우' '백승창' '백승화' '백연아' '백운학' '백종열' '변성현' '변승욱' '변영주' '봉만대' '봉준호' '부지영'\n",
      " '서동일' '서호빈' '성시흡' '성지혜' '소재영' '손광주' '손석' '손승웅' '손영국' '손영성' '손재곤' '송일곤'\n",
      " '송정우' '송창용' '송해성' '신근호' '신성섭' '신수원' '신아가' '신연식' '신재영' '신재호' '신정균' '신정원'\n",
      " '신춘수' '신태라' '신현원' '신혜성' '심성보' '심형래' '안국진' '안권태' '안도 마사히로' '안상훈' '안재훈'\n",
      " '알버트 신' '양병간' '양영희' '양우석' '양윤호' '엄태화' '에밀리오 에스테베즈' '연상호' '오기환' '오멸' '오성윤'\n",
      " '오영두' '오인천' '오창민' '우민호' '유상헌' '유선동' '유성엽' '유원상' '유정환' '유하' '육상효' '윤기형'\n",
      " '윤성호' '윤여창' '윤재근' '윤제균' '윤종빈' '윤종찬' '윤준형' '윤태식' '윤학렬' '이강현' '이광국' '이광호'\n",
      " '이규만' '이근우' '이길보라' '이난' '이대희' '이덕희' '이돈구' '이로이' '이사무엘' '이상빈' '이상우' '이상호'\n",
      " '이석훈' '이성규' '이성수' '이성은' '이세일' '이송희일' '이수성' '이수정' '이수진' '이숭환' '이승준' '이연우'\n",
      " '이영미' '이용주' '이원석' '이장호' '이재규' '이재용' '이재한' '이전' '이정범' '이정욱' '이정인' '이정철'\n",
      " '이정황' '이조훈' '이종필' '이종현' '이주형' '이준익' '이지승' '이지현' '이지형' '이창규' '이창동' '이창재'\n",
      " '이철하' '이학준' '이항배' '이해영' '이해준' '이현승' '이현철' '이호재' '이홍기' '이홍석' '이홍재' '이환경'\n",
      " '인진미' '임경수' '임권택' '임범' '임상수' '임상윤' '임상준' '임성구' '임순례' '임우성' '임유철' '임진순'\n",
      " '임찬상' '임필성' '임흥순' '장건재' '장경수' '장규성' '장률' '장성수' '장유정' '장윤현' '장재현' '장진'\n",
      " '장철수' '장태령' '장훈' '장희선' '장희철' '전계수' '전규환' '전성우' '전수일' '전윤수' '전재홍' '전태윤'\n",
      " '전형준' '전화성' '정기훈' '정단우' '정범식' '정성복' '정세교' '정승구' '정연식' '정영헌' '정용주' '정용택'\n",
      " '정우철' '정윤석' '정윤수' '정익환' '정지영' '정초신' '정하린' '정호현' '정흠문' '조근현' '조동오' '조범구'\n",
      " '조병옥' '조성규' '조성형' '조성희' '조세래' '조세영' '조연수' '조운' '조원희' '조의석' '조조 히데오' '조창호'\n",
      " '조치언' '주경중' '주호성' '지민' '지율스님' '지하진' '진광교' '진모영' '진승현' '천성일' '최경석' '최동훈'\n",
      " '최승호' '최시형' '최영석' '최용석' '최원섭' '최위안' '최윤석' '최종태' '최필곤' '최호' '추상록' '추창민'\n",
      " '타케 마사하루' '태미 추' '태준식' '폴 페이그' '표만석' '피터 레페니오티스' '하기호' '하마구치 류스케' '하원준'\n",
      " '하정우' '한동욱' '한동호' '한상민' '한상희' '한소준' '한승룡' '한승훈' '한우진' '한윤선' '한재림' '한종훈'\n",
      " '한준희' '한지원' '한창근' '한철수' '허은희' '허인무' '허정' '허종호' '허철' '홍리경' '홍상수' '홍석재'\n",
      " '홍원찬' '홍재희' '홍지영' '황동혁' '황병국' '황석호' '황욱' '황유식' '황인호' '황철민']  ->  [  0   1   2   3   4   5   6   7   8   9  10  11  12  13  14  15  16  17\n",
      "  18  19  20  21  22  23  24  25  26  27  28  29  30  31  32  33  34  35\n",
      "  36  37  38  39  40  41  42  43  44  45  46  47  48  49  50  51  52  53\n",
      "  54  55  56  57  58  59  60  61  62  63  64  65  66  67  68  69  70  71\n",
      "  72  73  74  75  76  77  78  79  80  81  82  83  84  85  86  87  88  89\n",
      "  90  91  92  93  94  95  96  97  98  99 100 101 102 103 104 105 106 107\n",
      " 108 109 110 111 112 113 114 115 116 117 118 119 120 121 122 123 124 125\n",
      " 126 127 128 129 130 131 132 133 134 135 136 137 138 139 140 141 142 143\n",
      " 144 145 146 147 148 149 150 151 152 153 154 155 156 157 158 159 160 161\n",
      " 162 163 164 165 166 167 168 169 170 171 172 173 174 175 176 177 178 179\n",
      " 180 181 182 183 184 185 186 187 188 189 190 191 192 193 194 195 196 197\n",
      " 198 199 200 201 202 203 204 205 206 207 208 209 210 211 212 213 214 215\n",
      " 216 217 218 219 220 221 222 223 224 225 226 227 228 229 230 231 232 233\n",
      " 234 235 236 237 238 239 240 241 242 243 244 245 246 247 248 249 250 251\n",
      " 252 253 254 255 256 257 258 259 260 261 262 263 264 265 266 267 268 269\n",
      " 270 271 272 273 274 275 276 277 278 279 280 281 282 283 284 285 286 287\n",
      " 288 289 290 291 292 293 294 295 296 297 298 299 300 301 302 303 304 305\n",
      " 306 307 308 309 310 311 312 313 314 315 316 317 318 319 320 321 322 323\n",
      " 324 325 326 327 328 329 330 331 332 333 334 335 336 337 338 339 340 341\n",
      " 342 343 344 345 346 347 348 349 350 351 352 353 354 355 356 357 358 359\n",
      " 360 361 362 363 364 365 366 367 368 369 370 371 372 373 374 375 376 377\n",
      " 378 379 380 381 382 383 384 385 386 387 388 389 390 391 392 393 394 395\n",
      " 396 397 398 399 400 401 402 403 404 405 406 407 408 409 410 411 412 413\n",
      " 414 415 416 417 418 419 420 421 422 423 424 425 426 427 428 429 430 431\n",
      " 432 433 434 435 436 437 438 439 440 441 442 443 444 445 446 447 448 449\n",
      " 450 451 452 453 454 455 456 457 458 459 460 461 462 463 464 465 466 467\n",
      " 468 469 470 471] \n",
      "\n",
      "< season >\n",
      "['autumn' 'spring' 'summer' 'winter']  ->  [0 1 2 3] \n",
      "\n"
     ]
    },
    {
     "data": {
      "text/html": [
       "<div>\n",
       "<style scoped>\n",
       "    .dataframe tbody tr th:only-of-type {\n",
       "        vertical-align: middle;\n",
       "    }\n",
       "\n",
       "    .dataframe tbody tr th {\n",
       "        vertical-align: top;\n",
       "    }\n",
       "\n",
       "    .dataframe thead th {\n",
       "        text-align: right;\n",
       "    }\n",
       "</style>\n",
       "<table border=\"1\" class=\"dataframe\">\n",
       "  <thead>\n",
       "    <tr style=\"text-align: right;\">\n",
       "      <th></th>\n",
       "      <th>distributor</th>\n",
       "      <th>genre</th>\n",
       "      <th>time</th>\n",
       "      <th>screening_rat</th>\n",
       "      <th>director</th>\n",
       "      <th>dir_prev_num</th>\n",
       "      <th>num_staff</th>\n",
       "      <th>num_actor</th>\n",
       "      <th>box_off_num</th>\n",
       "      <th>genre_weight</th>\n",
       "      <th>년</th>\n",
       "      <th>월</th>\n",
       "      <th>일</th>\n",
       "      <th>요일</th>\n",
       "      <th>season</th>\n",
       "      <th>|120-time|</th>\n",
       "    </tr>\n",
       "  </thead>\n",
       "  <tbody>\n",
       "    <tr>\n",
       "      <th>0</th>\n",
       "      <td>80</td>\n",
       "      <td>10</td>\n",
       "      <td>96</td>\n",
       "      <td>3</td>\n",
       "      <td>393</td>\n",
       "      <td>0</td>\n",
       "      <td>91</td>\n",
       "      <td>2</td>\n",
       "      <td>23398</td>\n",
       "      <td>3</td>\n",
       "      <td>2012</td>\n",
       "      <td>11</td>\n",
       "      <td>22</td>\n",
       "      <td>3</td>\n",
       "      <td>0</td>\n",
       "      <td>24</td>\n",
       "    </tr>\n",
       "    <tr>\n",
       "      <th>1</th>\n",
       "      <td>21</td>\n",
       "      <td>2</td>\n",
       "      <td>130</td>\n",
       "      <td>3</td>\n",
       "      <td>252</td>\n",
       "      <td>2</td>\n",
       "      <td>387</td>\n",
       "      <td>3</td>\n",
       "      <td>7072501</td>\n",
       "      <td>3</td>\n",
       "      <td>2015</td>\n",
       "      <td>11</td>\n",
       "      <td>19</td>\n",
       "      <td>3</td>\n",
       "      <td>0</td>\n",
       "      <td>10</td>\n",
       "    </tr>\n",
       "    <tr>\n",
       "      <th>2</th>\n",
       "      <td>21</td>\n",
       "      <td>10</td>\n",
       "      <td>123</td>\n",
       "      <td>1</td>\n",
       "      <td>357</td>\n",
       "      <td>4</td>\n",
       "      <td>343</td>\n",
       "      <td>4</td>\n",
       "      <td>6959083</td>\n",
       "      <td>3</td>\n",
       "      <td>2013</td>\n",
       "      <td>6</td>\n",
       "      <td>5</td>\n",
       "      <td>2</td>\n",
       "      <td>2</td>\n",
       "      <td>3</td>\n",
       "    </tr>\n",
       "    <tr>\n",
       "      <th>3</th>\n",
       "      <td>6</td>\n",
       "      <td>11</td>\n",
       "      <td>101</td>\n",
       "      <td>2</td>\n",
       "      <td>17</td>\n",
       "      <td>2</td>\n",
       "      <td>20</td>\n",
       "      <td>6</td>\n",
       "      <td>217866</td>\n",
       "      <td>3</td>\n",
       "      <td>2012</td>\n",
       "      <td>7</td>\n",
       "      <td>12</td>\n",
       "      <td>3</td>\n",
       "      <td>2</td>\n",
       "      <td>19</td>\n",
       "    </tr>\n",
       "    <tr>\n",
       "      <th>4</th>\n",
       "      <td>96</td>\n",
       "      <td>11</td>\n",
       "      <td>108</td>\n",
       "      <td>1</td>\n",
       "      <td>218</td>\n",
       "      <td>1</td>\n",
       "      <td>251</td>\n",
       "      <td>2</td>\n",
       "      <td>483387</td>\n",
       "      <td>3</td>\n",
       "      <td>2010</td>\n",
       "      <td>11</td>\n",
       "      <td>4</td>\n",
       "      <td>3</td>\n",
       "      <td>0</td>\n",
       "      <td>12</td>\n",
       "    </tr>\n",
       "  </tbody>\n",
       "</table>\n",
       "</div>"
      ],
      "text/plain": [
       "   distributor  genre  time  screening_rat  director  dir_prev_num  num_staff  \\\n",
       "0           80     10    96              3       393             0         91   \n",
       "1           21      2   130              3       252             2        387   \n",
       "2           21     10   123              1       357             4        343   \n",
       "3            6     11   101              2        17             2         20   \n",
       "4           96     11   108              1       218             1        251   \n",
       "\n",
       "   num_actor  box_off_num  genre_weight     년   월   일  요일  season  |120-time|  \n",
       "0          2        23398             3  2012  11  22   3       0          24  \n",
       "1          3      7072501             3  2015  11  19   3       0          10  \n",
       "2          4      6959083             3  2013   6   5   2       2           3  \n",
       "3          6       217866             3  2012   7  12   3       2          19  \n",
       "4          2       483387             3  2010  11   4   3       0          12  "
      ]
     },
     "execution_count": 27,
     "metadata": {},
     "output_type": "execute_result"
    }
   ],
   "source": [
    "from sklearn.preprocessing import LabelEncoder\n",
    "\n",
    "enc = LabelEncoder()\n",
    "for i in ['distributor', 'genre', 'screening_rat', 'director', 'season']:\n",
    "    enc.fit(df_tot[i])\n",
    "    df_tot[i] = enc.transform(df_tot[i])\n",
    "    print('<', i, '>')\n",
    "    print(enc.classes_, ' -> ', np.arange(len(enc.classes_)), '\\n')\n",
    "    \n",
    "df_tot.head()"
   ]
  },
  {
   "cell_type": "markdown",
   "id": "b64dce41",
   "metadata": {},
   "source": [
    "# 모델링"
   ]
  },
  {
   "cell_type": "code",
   "execution_count": 28,
   "id": "9e2f1686",
   "metadata": {},
   "outputs": [],
   "source": [
    "from sklearn.ensemble import RandomForestRegressor\n",
    "from sklearn.model_selection import train_test_split, GridSearchCV\n",
    "from sklearn.neural_network import MLPRegressor\n",
    "from sklearn.svm import SVR"
   ]
  },
  {
   "cell_type": "code",
   "execution_count": 29,
   "id": "4931af1a",
   "metadata": {
    "scrolled": true
   },
   "outputs": [
    {
     "data": {
      "text/html": [
       "<div>\n",
       "<style scoped>\n",
       "    .dataframe tbody tr th:only-of-type {\n",
       "        vertical-align: middle;\n",
       "    }\n",
       "\n",
       "    .dataframe tbody tr th {\n",
       "        vertical-align: top;\n",
       "    }\n",
       "\n",
       "    .dataframe thead th {\n",
       "        text-align: right;\n",
       "    }\n",
       "</style>\n",
       "<table border=\"1\" class=\"dataframe\">\n",
       "  <thead>\n",
       "    <tr style=\"text-align: right;\">\n",
       "      <th></th>\n",
       "      <th>distributor</th>\n",
       "      <th>genre</th>\n",
       "      <th>time</th>\n",
       "      <th>screening_rat</th>\n",
       "      <th>director</th>\n",
       "      <th>dir_prev_num</th>\n",
       "      <th>num_staff</th>\n",
       "      <th>num_actor</th>\n",
       "      <th>genre_weight</th>\n",
       "      <th>년</th>\n",
       "      <th>월</th>\n",
       "      <th>일</th>\n",
       "      <th>요일</th>\n",
       "      <th>season</th>\n",
       "      <th>|120-time|</th>\n",
       "    </tr>\n",
       "  </thead>\n",
       "  <tbody>\n",
       "    <tr>\n",
       "      <th>485</th>\n",
       "      <td>21</td>\n",
       "      <td>2</td>\n",
       "      <td>111</td>\n",
       "      <td>1</td>\n",
       "      <td>73</td>\n",
       "      <td>2</td>\n",
       "      <td>343</td>\n",
       "      <td>2</td>\n",
       "      <td>3</td>\n",
       "      <td>2014</td>\n",
       "      <td>5</td>\n",
       "      <td>29</td>\n",
       "      <td>3</td>\n",
       "      <td>1</td>\n",
       "      <td>9</td>\n",
       "    </tr>\n",
       "    <tr>\n",
       "      <th>423</th>\n",
       "      <td>66</td>\n",
       "      <td>1</td>\n",
       "      <td>99</td>\n",
       "      <td>3</td>\n",
       "      <td>437</td>\n",
       "      <td>2</td>\n",
       "      <td>74</td>\n",
       "      <td>3</td>\n",
       "      <td>0</td>\n",
       "      <td>2014</td>\n",
       "      <td>1</td>\n",
       "      <td>23</td>\n",
       "      <td>3</td>\n",
       "      <td>3</td>\n",
       "      <td>21</td>\n",
       "    </tr>\n",
       "    <tr>\n",
       "      <th>112</th>\n",
       "      <td>21</td>\n",
       "      <td>2</td>\n",
       "      <td>133</td>\n",
       "      <td>3</td>\n",
       "      <td>265</td>\n",
       "      <td>1</td>\n",
       "      <td>308</td>\n",
       "      <td>2</td>\n",
       "      <td>3</td>\n",
       "      <td>2012</td>\n",
       "      <td>2</td>\n",
       "      <td>2</td>\n",
       "      <td>3</td>\n",
       "      <td>3</td>\n",
       "      <td>13</td>\n",
       "    </tr>\n",
       "    <tr>\n",
       "      <th>217</th>\n",
       "      <td>139</td>\n",
       "      <td>1</td>\n",
       "      <td>96</td>\n",
       "      <td>3</td>\n",
       "      <td>25</td>\n",
       "      <td>1</td>\n",
       "      <td>156</td>\n",
       "      <td>4</td>\n",
       "      <td>0</td>\n",
       "      <td>2015</td>\n",
       "      <td>9</td>\n",
       "      <td>10</td>\n",
       "      <td>3</td>\n",
       "      <td>0</td>\n",
       "      <td>24</td>\n",
       "    </tr>\n",
       "    <tr>\n",
       "      <th>70</th>\n",
       "      <td>17</td>\n",
       "      <td>5</td>\n",
       "      <td>97</td>\n",
       "      <td>3</td>\n",
       "      <td>413</td>\n",
       "      <td>1</td>\n",
       "      <td>59</td>\n",
       "      <td>4</td>\n",
       "      <td>0</td>\n",
       "      <td>2013</td>\n",
       "      <td>5</td>\n",
       "      <td>16</td>\n",
       "      <td>3</td>\n",
       "      <td>1</td>\n",
       "      <td>23</td>\n",
       "    </tr>\n",
       "    <tr>\n",
       "      <th>...</th>\n",
       "      <td>...</td>\n",
       "      <td>...</td>\n",
       "      <td>...</td>\n",
       "      <td>...</td>\n",
       "      <td>...</td>\n",
       "      <td>...</td>\n",
       "      <td>...</td>\n",
       "      <td>...</td>\n",
       "      <td>...</td>\n",
       "      <td>...</td>\n",
       "      <td>...</td>\n",
       "      <td>...</td>\n",
       "      <td>...</td>\n",
       "      <td>...</td>\n",
       "      <td>...</td>\n",
       "    </tr>\n",
       "    <tr>\n",
       "      <th>452</th>\n",
       "      <td>6</td>\n",
       "      <td>1</td>\n",
       "      <td>106</td>\n",
       "      <td>1</td>\n",
       "      <td>198</td>\n",
       "      <td>1</td>\n",
       "      <td>61</td>\n",
       "      <td>3</td>\n",
       "      <td>0</td>\n",
       "      <td>2011</td>\n",
       "      <td>7</td>\n",
       "      <td>7</td>\n",
       "      <td>3</td>\n",
       "      <td>2</td>\n",
       "      <td>14</td>\n",
       "    </tr>\n",
       "    <tr>\n",
       "      <th>321</th>\n",
       "      <td>16</td>\n",
       "      <td>9</td>\n",
       "      <td>88</td>\n",
       "      <td>2</td>\n",
       "      <td>43</td>\n",
       "      <td>0</td>\n",
       "      <td>5</td>\n",
       "      <td>6</td>\n",
       "      <td>-1</td>\n",
       "      <td>2015</td>\n",
       "      <td>10</td>\n",
       "      <td>8</td>\n",
       "      <td>3</td>\n",
       "      <td>0</td>\n",
       "      <td>32</td>\n",
       "    </tr>\n",
       "    <tr>\n",
       "      <th>581</th>\n",
       "      <td>138</td>\n",
       "      <td>11</td>\n",
       "      <td>74</td>\n",
       "      <td>3</td>\n",
       "      <td>66</td>\n",
       "      <td>1</td>\n",
       "      <td>29</td>\n",
       "      <td>4</td>\n",
       "      <td>3</td>\n",
       "      <td>2015</td>\n",
       "      <td>9</td>\n",
       "      <td>10</td>\n",
       "      <td>3</td>\n",
       "      <td>0</td>\n",
       "      <td>46</td>\n",
       "    </tr>\n",
       "    <tr>\n",
       "      <th>121</th>\n",
       "      <td>17</td>\n",
       "      <td>4</td>\n",
       "      <td>81</td>\n",
       "      <td>3</td>\n",
       "      <td>56</td>\n",
       "      <td>1</td>\n",
       "      <td>34</td>\n",
       "      <td>5</td>\n",
       "      <td>0</td>\n",
       "      <td>2013</td>\n",
       "      <td>9</td>\n",
       "      <td>5</td>\n",
       "      <td>3</td>\n",
       "      <td>0</td>\n",
       "      <td>39</td>\n",
       "    </tr>\n",
       "    <tr>\n",
       "      <th>238</th>\n",
       "      <td>149</td>\n",
       "      <td>3</td>\n",
       "      <td>82</td>\n",
       "      <td>1</td>\n",
       "      <td>194</td>\n",
       "      <td>1</td>\n",
       "      <td>0</td>\n",
       "      <td>4</td>\n",
       "      <td>-1</td>\n",
       "      <td>2012</td>\n",
       "      <td>10</td>\n",
       "      <td>18</td>\n",
       "      <td>3</td>\n",
       "      <td>0</td>\n",
       "      <td>38</td>\n",
       "    </tr>\n",
       "  </tbody>\n",
       "</table>\n",
       "<p>402 rows × 15 columns</p>\n",
       "</div>"
      ],
      "text/plain": [
       "     distributor  genre  time  screening_rat  director  dir_prev_num  \\\n",
       "485           21      2   111              1        73             2   \n",
       "423           66      1    99              3       437             2   \n",
       "112           21      2   133              3       265             1   \n",
       "217          139      1    96              3        25             1   \n",
       "70            17      5    97              3       413             1   \n",
       "..           ...    ...   ...            ...       ...           ...   \n",
       "452            6      1   106              1       198             1   \n",
       "321           16      9    88              2        43             0   \n",
       "581          138     11    74              3        66             1   \n",
       "121           17      4    81              3        56             1   \n",
       "238          149      3    82              1       194             1   \n",
       "\n",
       "     num_staff  num_actor  genre_weight     년   월   일  요일  season  |120-time|  \n",
       "485        343          2             3  2014   5  29   3       1           9  \n",
       "423         74          3             0  2014   1  23   3       3          21  \n",
       "112        308          2             3  2012   2   2   3       3          13  \n",
       "217        156          4             0  2015   9  10   3       0          24  \n",
       "70          59          4             0  2013   5  16   3       1          23  \n",
       "..         ...        ...           ...   ...  ..  ..  ..     ...         ...  \n",
       "452         61          3             0  2011   7   7   3       2          14  \n",
       "321          5          6            -1  2015  10   8   3       0          32  \n",
       "581         29          4             3  2015   9  10   3       0          46  \n",
       "121         34          5             0  2013   9   5   3       0          39  \n",
       "238          0          4            -1  2012  10  18   3       0          38  \n",
       "\n",
       "[402 rows x 15 columns]"
      ]
     },
     "execution_count": 29,
     "metadata": {},
     "output_type": "execute_result"
    }
   ],
   "source": [
    "from sklearn.metrics import mean_absolute_percentage_error, mean_absolute_error\n",
    "train_x = df_tot.drop(['box_off_num'], axis=1)\n",
    "\n",
    "x_train, x_val, y_train, y_val = train_test_split(train_x, df_tot['box_off_num'], test_size=0.33, random_state=16)\n",
    "x_train"
   ]
  },
  {
   "cell_type": "code",
   "execution_count": 33,
   "id": "e30b781e",
   "metadata": {},
   "outputs": [
    {
     "ename": "NotFittedError",
     "evalue": "All estimators failed to fit",
     "output_type": "error",
     "traceback": [
      "\u001b[1;31m---------------------------------------------------------------------------\u001b[0m",
      "\u001b[1;31mNotFittedError\u001b[0m                            Traceback (most recent call last)",
      "\u001b[1;32m~\\AppData\\Local\\Temp/ipykernel_13068/398047374.py\u001b[0m in \u001b[0;36m<module>\u001b[1;34m\u001b[0m\n\u001b[0;32m      9\u001b[0m \u001b[1;33m\u001b[0m\u001b[0m\n\u001b[0;32m     10\u001b[0m \u001b[0mgrid1\u001b[0m \u001b[1;33m=\u001b[0m \u001b[0mGridSearchCV\u001b[0m\u001b[1;33m(\u001b[0m\u001b[0mmodel1\u001b[0m\u001b[1;33m,\u001b[0m \u001b[0mparam1\u001b[0m\u001b[1;33m,\u001b[0m \u001b[0mscoring\u001b[0m\u001b[1;33m=\u001b[0m\u001b[0mmean_squared_error\u001b[0m\u001b[1;33m,\u001b[0m \u001b[0mcv\u001b[0m\u001b[1;33m=\u001b[0m\u001b[1;36m3\u001b[0m\u001b[1;33m)\u001b[0m\u001b[1;33m\u001b[0m\u001b[1;33m\u001b[0m\u001b[0m\n\u001b[1;32m---> 11\u001b[1;33m \u001b[0mgrid1\u001b[0m\u001b[1;33m.\u001b[0m\u001b[0mfit\u001b[0m\u001b[1;33m(\u001b[0m\u001b[0mx_train\u001b[0m\u001b[1;33m,\u001b[0m \u001b[0my_train\u001b[0m\u001b[1;33m.\u001b[0m\u001b[0mvalues\u001b[0m\u001b[1;33m)\u001b[0m\u001b[1;33m\u001b[0m\u001b[1;33m\u001b[0m\u001b[0m\n\u001b[0m",
      "\u001b[1;32mC:\\ProgramData\\Anaconda3\\lib\\site-packages\\sklearn\\utils\\validation.py\u001b[0m in \u001b[0;36minner_f\u001b[1;34m(*args, **kwargs)\u001b[0m\n\u001b[0;32m     61\u001b[0m             \u001b[0mextra_args\u001b[0m \u001b[1;33m=\u001b[0m \u001b[0mlen\u001b[0m\u001b[1;33m(\u001b[0m\u001b[0margs\u001b[0m\u001b[1;33m)\u001b[0m \u001b[1;33m-\u001b[0m \u001b[0mlen\u001b[0m\u001b[1;33m(\u001b[0m\u001b[0mall_args\u001b[0m\u001b[1;33m)\u001b[0m\u001b[1;33m\u001b[0m\u001b[1;33m\u001b[0m\u001b[0m\n\u001b[0;32m     62\u001b[0m             \u001b[1;32mif\u001b[0m \u001b[0mextra_args\u001b[0m \u001b[1;33m<=\u001b[0m \u001b[1;36m0\u001b[0m\u001b[1;33m:\u001b[0m\u001b[1;33m\u001b[0m\u001b[1;33m\u001b[0m\u001b[0m\n\u001b[1;32m---> 63\u001b[1;33m                 \u001b[1;32mreturn\u001b[0m \u001b[0mf\u001b[0m\u001b[1;33m(\u001b[0m\u001b[1;33m*\u001b[0m\u001b[0margs\u001b[0m\u001b[1;33m,\u001b[0m \u001b[1;33m**\u001b[0m\u001b[0mkwargs\u001b[0m\u001b[1;33m)\u001b[0m\u001b[1;33m\u001b[0m\u001b[1;33m\u001b[0m\u001b[0m\n\u001b[0m\u001b[0;32m     64\u001b[0m \u001b[1;33m\u001b[0m\u001b[0m\n\u001b[0;32m     65\u001b[0m             \u001b[1;31m# extra_args > 0\u001b[0m\u001b[1;33m\u001b[0m\u001b[1;33m\u001b[0m\u001b[0m\n",
      "\u001b[1;32mC:\\ProgramData\\Anaconda3\\lib\\site-packages\\sklearn\\model_selection\\_search.py\u001b[0m in \u001b[0;36mfit\u001b[1;34m(self, X, y, groups, **fit_params)\u001b[0m\n\u001b[0;32m    839\u001b[0m                 \u001b[1;32mreturn\u001b[0m \u001b[0mresults\u001b[0m\u001b[1;33m\u001b[0m\u001b[1;33m\u001b[0m\u001b[0m\n\u001b[0;32m    840\u001b[0m \u001b[1;33m\u001b[0m\u001b[0m\n\u001b[1;32m--> 841\u001b[1;33m             \u001b[0mself\u001b[0m\u001b[1;33m.\u001b[0m\u001b[0m_run_search\u001b[0m\u001b[1;33m(\u001b[0m\u001b[0mevaluate_candidates\u001b[0m\u001b[1;33m)\u001b[0m\u001b[1;33m\u001b[0m\u001b[1;33m\u001b[0m\u001b[0m\n\u001b[0m\u001b[0;32m    842\u001b[0m \u001b[1;33m\u001b[0m\u001b[0m\n\u001b[0;32m    843\u001b[0m             \u001b[1;31m# multimetric is determined here because in the case of a callable\u001b[0m\u001b[1;33m\u001b[0m\u001b[1;33m\u001b[0m\u001b[0m\n",
      "\u001b[1;32mC:\\ProgramData\\Anaconda3\\lib\\site-packages\\sklearn\\model_selection\\_search.py\u001b[0m in \u001b[0;36m_run_search\u001b[1;34m(self, evaluate_candidates)\u001b[0m\n\u001b[0;32m   1294\u001b[0m     \u001b[1;32mdef\u001b[0m \u001b[0m_run_search\u001b[0m\u001b[1;33m(\u001b[0m\u001b[0mself\u001b[0m\u001b[1;33m,\u001b[0m \u001b[0mevaluate_candidates\u001b[0m\u001b[1;33m)\u001b[0m\u001b[1;33m:\u001b[0m\u001b[1;33m\u001b[0m\u001b[1;33m\u001b[0m\u001b[0m\n\u001b[0;32m   1295\u001b[0m         \u001b[1;34m\"\"\"Search all candidates in param_grid\"\"\"\u001b[0m\u001b[1;33m\u001b[0m\u001b[1;33m\u001b[0m\u001b[0m\n\u001b[1;32m-> 1296\u001b[1;33m         \u001b[0mevaluate_candidates\u001b[0m\u001b[1;33m(\u001b[0m\u001b[0mParameterGrid\u001b[0m\u001b[1;33m(\u001b[0m\u001b[0mself\u001b[0m\u001b[1;33m.\u001b[0m\u001b[0mparam_grid\u001b[0m\u001b[1;33m)\u001b[0m\u001b[1;33m)\u001b[0m\u001b[1;33m\u001b[0m\u001b[1;33m\u001b[0m\u001b[0m\n\u001b[0m\u001b[0;32m   1297\u001b[0m \u001b[1;33m\u001b[0m\u001b[0m\n\u001b[0;32m   1298\u001b[0m \u001b[1;33m\u001b[0m\u001b[0m\n",
      "\u001b[1;32mC:\\ProgramData\\Anaconda3\\lib\\site-packages\\sklearn\\model_selection\\_search.py\u001b[0m in \u001b[0;36mevaluate_candidates\u001b[1;34m(candidate_params, cv, more_results)\u001b[0m\n\u001b[0;32m    825\u001b[0m                 \u001b[1;31m# of out will be done in `_insert_error_scores`.\u001b[0m\u001b[1;33m\u001b[0m\u001b[1;33m\u001b[0m\u001b[0m\n\u001b[0;32m    826\u001b[0m                 \u001b[1;32mif\u001b[0m \u001b[0mcallable\u001b[0m\u001b[1;33m(\u001b[0m\u001b[0mself\u001b[0m\u001b[1;33m.\u001b[0m\u001b[0mscoring\u001b[0m\u001b[1;33m)\u001b[0m\u001b[1;33m:\u001b[0m\u001b[1;33m\u001b[0m\u001b[1;33m\u001b[0m\u001b[0m\n\u001b[1;32m--> 827\u001b[1;33m                     \u001b[0m_insert_error_scores\u001b[0m\u001b[1;33m(\u001b[0m\u001b[0mout\u001b[0m\u001b[1;33m,\u001b[0m \u001b[0mself\u001b[0m\u001b[1;33m.\u001b[0m\u001b[0merror_score\u001b[0m\u001b[1;33m)\u001b[0m\u001b[1;33m\u001b[0m\u001b[1;33m\u001b[0m\u001b[0m\n\u001b[0m\u001b[0;32m    828\u001b[0m                 \u001b[0mall_candidate_params\u001b[0m\u001b[1;33m.\u001b[0m\u001b[0mextend\u001b[0m\u001b[1;33m(\u001b[0m\u001b[0mcandidate_params\u001b[0m\u001b[1;33m)\u001b[0m\u001b[1;33m\u001b[0m\u001b[1;33m\u001b[0m\u001b[0m\n\u001b[0;32m    829\u001b[0m                 \u001b[0mall_out\u001b[0m\u001b[1;33m.\u001b[0m\u001b[0mextend\u001b[0m\u001b[1;33m(\u001b[0m\u001b[0mout\u001b[0m\u001b[1;33m)\u001b[0m\u001b[1;33m\u001b[0m\u001b[1;33m\u001b[0m\u001b[0m\n",
      "\u001b[1;32mC:\\ProgramData\\Anaconda3\\lib\\site-packages\\sklearn\\model_selection\\_validation.py\u001b[0m in \u001b[0;36m_insert_error_scores\u001b[1;34m(results, error_score)\u001b[0m\n\u001b[0;32m    299\u001b[0m \u001b[1;33m\u001b[0m\u001b[0m\n\u001b[0;32m    300\u001b[0m     \u001b[1;32mif\u001b[0m \u001b[0msuccessful_score\u001b[0m \u001b[1;32mis\u001b[0m \u001b[1;32mNone\u001b[0m\u001b[1;33m:\u001b[0m\u001b[1;33m\u001b[0m\u001b[1;33m\u001b[0m\u001b[0m\n\u001b[1;32m--> 301\u001b[1;33m         \u001b[1;32mraise\u001b[0m \u001b[0mNotFittedError\u001b[0m\u001b[1;33m(\u001b[0m\u001b[1;34m\"All estimators failed to fit\"\u001b[0m\u001b[1;33m)\u001b[0m\u001b[1;33m\u001b[0m\u001b[1;33m\u001b[0m\u001b[0m\n\u001b[0m\u001b[0;32m    302\u001b[0m \u001b[1;33m\u001b[0m\u001b[0m\n\u001b[0;32m    303\u001b[0m     \u001b[1;32mif\u001b[0m \u001b[0misinstance\u001b[0m\u001b[1;33m(\u001b[0m\u001b[0msuccessful_score\u001b[0m\u001b[1;33m,\u001b[0m \u001b[0mdict\u001b[0m\u001b[1;33m)\u001b[0m\u001b[1;33m:\u001b[0m\u001b[1;33m\u001b[0m\u001b[1;33m\u001b[0m\u001b[0m\n",
      "\u001b[1;31mNotFittedError\u001b[0m: All estimators failed to fit"
     ]
    }
   ],
   "source": [
    "from sklearn.metrics import mean_squared_error\n",
    "# RMSE = mean_squared_error(y_train, y_pred)**0.5\n",
    "\n",
    "\n",
    "model1 = RandomForestRegressor(criterion='mean_absolute_error', random_state=1)\n",
    "\n",
    "param1 = {'max_depth':[7, 10, 13],\n",
    "          'min_samples_leaf':[1, 2, 3]}\n",
    "\n",
    "grid1 = GridSearchCV(model1, param1, scoring=mean_squared_error, cv=3)\n",
    "grid1.fit(x_train, y_train.values)"
   ]
  },
  {
   "cell_type": "code",
   "execution_count": null,
   "id": "c4621115",
   "metadata": {
    "scrolled": false
   },
   "outputs": [],
   "source": [
    "# RF Regressor\n",
    "import random\n",
    "import numpy\n",
    "\n",
    "random.seed(16)\n",
    "np.random.seed(16)\n",
    "\n",
    "print('Best Params : ', grid1.best_params_)\n",
    "print('Best Score : ', grid1.best_score_)\n",
    "\n",
    "best_grid1 = grid1.best_estimator_\n",
    "train_pred = best_grid1.predict(x_train)\n",
    "val_pred = best_grid1.predict(x_val)\n",
    "\n",
    "fig, ax = plt.subplots(2,1, figsize=(12,12))\n",
    "\n",
    "ax1 = plt.subplot(2,1,1)\n",
    "ax1.plot(y_train.values, color='blue',label='True')\n",
    "ax1.plot(train_pred, color='red', label='Predict')\n",
    "ax1.legend(loc='upper right')\n",
    "\n",
    "ax2 = plt.subplot(2,1,2)\n",
    "ax2.plot(y_val.values, color='blue',label='True')\n",
    "ax2.plot(val_pred, color='red', label='Predict', alpha=0.5)\n",
    "ax2.legend(loc='upper right')\n",
    "\n",
    "print('< train >')\n",
    "print('MAPE: ', mean_absolute_percentage_error(y_train.values, train_pred))\n",
    "print('MAE: ', mean_absolute_error(y_train.values, train_pred))\n",
    "\n",
    "print('< validation >')\n",
    "print('MAPE: ', mean_absolute_percentage_error(y_val.values, val_pred))\n",
    "print('MAE: ', mean_absolute_error(y_val.values, val_pred))"
   ]
  },
  {
   "cell_type": "markdown",
   "id": "b8358a1d",
   "metadata": {},
   "source": [
    "- 5,000,000 이상의 관객을 이상치라고 판단하였을때, 해당 이상치를 모델이 잘 에측하지 못하는 현상을 보인다.\n",
    "- 5,000,000 이상 관객의 영화 vs 5,000,000 미만 관객의 영화의 특징적 차이를 찾아야 함"
   ]
  },
  {
   "cell_type": "code",
   "execution_count": null,
   "id": "8ce4f356",
   "metadata": {},
   "outputs": [],
   "source": [
    "temp1 = df_tot[df_tot['box_off_num']>=5000000]\n",
    "temp2 = df_tot[df_tot['box_off_num']<5000000]\n",
    "\n",
    "\n",
    "temp1.describe()"
   ]
  },
  {
   "cell_type": "code",
   "execution_count": null,
   "id": "06b15681",
   "metadata": {},
   "outputs": [],
   "source": [
    "temp2.describe()"
   ]
  },
  {
   "cell_type": "markdown",
   "id": "e6b70b4e",
   "metadata": {},
   "source": [
    "많은 관객을 유치한 영화(500만 관객 이상)의 경우\n",
    "1. 상영시간이 약 120분에 가깝다 (-> 상영시간이 120분에서 얼마나 차이나는지 변수 추가하면 좋을듯)\n",
    "2. 촬영스탭의 수가 많다\n",
    "3. 관객들이 선호하는 장르의 영화이다(genre weight의 평균이 높음)  \n",
    "\n",
    "과 같은 특징을 가지고 있다."
   ]
  },
  {
   "cell_type": "code",
   "execution_count": null,
   "id": "deddabbe",
   "metadata": {},
   "outputs": [],
   "source": [
    "temp3 = df_tot[df_tot['box_off_num']<5000]\n",
    "temp3.describe()"
   ]
  },
  {
   "cell_type": "markdown",
   "id": "c2898b2c",
   "metadata": {},
   "source": [
    "- 놀랍게도 관객수 5000 미만의 상영작이 254개나 존재함..."
   ]
  },
  {
   "cell_type": "markdown",
   "id": "4f1e8222",
   "metadata": {},
   "source": [
    "### Feature importance 파악"
   ]
  },
  {
   "cell_type": "code",
   "execution_count": null,
   "id": "d3070dc0",
   "metadata": {
    "scrolled": false
   },
   "outputs": [],
   "source": [
    "plt.figure(figsize=(10,6))\n",
    "plt.barh(x_train.columns, best_grid1.feature_importances_)"
   ]
  },
  {
   "cell_type": "markdown",
   "id": "739a95f1",
   "metadata": {},
   "source": [
    "- 파생변수를 새로 생성하면서, 예측에 의미가 중복되는 변수가 많아져서, 오히려 모델의 학습에 악영향을 줬을 수 있다고 생각\n",
    "- 이를 해결하기 위해 PCA 적용"
   ]
  },
  {
   "cell_type": "code",
   "execution_count": null,
   "id": "c8c13552",
   "metadata": {},
   "outputs": [],
   "source": [
    "from sklearn.decomposition import PCA\n",
    "pca = PCA(n_components=3) # 주성분을 몇개로 할지 결정\n",
    "printcipalComponents = pca.fit_transform(train_x)\n",
    "train_x = pd.DataFrame(data=printcipalComponents, columns = ['pc1', 'pc2', 'pc3'])\n",
    "\n",
    "pca.explained_variance_ratio_\n",
    "# n = 15 일 때\n",
    "# array([5.69100811e-01, 3.77744978e-01, 4.38047560e-02, 6.09008999e-03,\n",
    "#        1.56209006e-03, 1.01602434e-03, 2.37716057e-04, 1.73655884e-04,\n",
    "#        1.16001309e-04, 6.01454917e-05, 2.67726674e-05, 2.39787653e-05,\n",
    "#        2.19308052e-05, 1.73670866e-05, 3.68230963e-06])\n",
    "# 3개의 pc로 데이터의 99% 이상의 설명력을 지님 -> pc 3개만을 사용하는 것으로 결정"
   ]
  },
  {
   "cell_type": "code",
   "execution_count": null,
   "id": "32f6a9ae",
   "metadata": {},
   "outputs": [],
   "source": [
    "x_train, x_val, y_train, y_val = train_test_split(train_x, df_tot['box_off_num'], test_size=0.33, random_state=16)\n",
    "x_train"
   ]
  },
  {
   "cell_type": "code",
   "execution_count": null,
   "id": "5d1987a3",
   "metadata": {},
   "outputs": [],
   "source": [
    "model1 = RandomForestRegressor(criterion='mae', random_state=1)\n",
    "\n",
    "param1 = {'max_depth':[7, 10, 13],\n",
    "          'min_samples_leaf':[1, 2, 3]}\n",
    "\n",
    "grid1 = GridSearchCV(model1, param1, scoring=mean_absolute_error, cv=3)\n",
    "grid1.fit(x_train, y_train.values)"
   ]
  },
  {
   "cell_type": "code",
   "execution_count": null,
   "id": "44344225",
   "metadata": {},
   "outputs": [],
   "source": [
    "# RF Regressor\n",
    "import random\n",
    "import numpy\n",
    "\n",
    "random.seed(16)\n",
    "np.random.seed(16)\n",
    "\n",
    "print('Best Params : ', grid1.best_params_)\n",
    "print('Best Score : ', grid1.best_score_)\n",
    "\n",
    "best_grid1 = grid1.best_estimator_\n",
    "train_pred = best_grid1.predict(x_train)\n",
    "val_pred = best_grid1.predict(x_val)\n",
    "\n",
    "fig, ax = plt.subplots(2,1, figsize=(12,12))\n",
    "\n",
    "ax1 = plt.subplot(2,1,1)\n",
    "ax1.plot(y_train.values, color='blue',label='True')\n",
    "ax1.plot(train_pred, color='red', label='Predict')\n",
    "ax1.legend(loc='upper right')\n",
    "\n",
    "ax2 = plt.subplot(2,1,2)\n",
    "ax2.plot(y_val.values, color='blue',label='True')\n",
    "ax2.plot(val_pred, color='red', label='Predict', alpha=0.5)\n",
    "ax2.legend(loc='upper right')\n",
    "\n",
    "print('< train >')\n",
    "print('MAPE: ', mean_absolute_percentage_error(y_train.values, train_pred))\n",
    "print('MAE: ', mean_absolute_error(y_train.values, train_pred))\n",
    "\n",
    "print('< validation >')\n",
    "print('MAPE: ', mean_absolute_percentage_error(y_val.values, val_pred))\n",
    "print('MAE: ', mean_absolute_error(y_val.values, val_pred))"
   ]
  },
  {
   "cell_type": "markdown",
   "id": "8a390f06",
   "metadata": {},
   "source": [
    "### 각 변수의 단위 차이에서 오는 가중치 문제일 수 있다고 생각\n",
    "### -> 정규화 & 표준화를 통해 해결해 보기"
   ]
  },
  {
   "cell_type": "markdown",
   "id": "292b33c3",
   "metadata": {},
   "source": [
    "### PCA, 리더보드 몇등?"
   ]
  },
  {
   "cell_type": "code",
   "execution_count": null,
   "id": "57263fbb",
   "metadata": {},
   "outputs": [],
   "source": []
  }
 ],
 "metadata": {
  "kernelspec": {
   "display_name": "Python 3 (ipykernel)",
   "language": "python",
   "name": "python3"
  },
  "language_info": {
   "codemirror_mode": {
    "name": "ipython",
    "version": 3
   },
   "file_extension": ".py",
   "mimetype": "text/x-python",
   "name": "python",
   "nbconvert_exporter": "python",
   "pygments_lexer": "ipython3",
   "version": "3.9.7"
  }
 },
 "nbformat": 4,
 "nbformat_minor": 5
}
