{
 "cells": [
  {
   "cell_type": "markdown",
   "metadata": {},
   "source": [
    "## 데이터 불러오기"
   ]
  },
  {
   "cell_type": "code",
   "execution_count": 1,
   "metadata": {},
   "outputs": [],
   "source": [
    "import pandas as pd\n",
    "\n",
    "train = pd.read_csv('C:/Users/YH/Desktop/물류 유통량/train.csv')\n",
    "test = pd.read_csv('C:/Users/YH/Desktop/물류 유통량/test.csv')\n",
    "\n",
    "submission = pd.read_csv('C:/Users/YH/Desktop/물류 유통량/sample_submission.csv')"
   ]
  },
  {
   "cell_type": "code",
   "execution_count": 2,
   "metadata": {},
   "outputs": [
    {
     "data": {
      "text/html": [
       "<div>\n",
       "<style scoped>\n",
       "    .dataframe tbody tr th:only-of-type {\n",
       "        vertical-align: middle;\n",
       "    }\n",
       "\n",
       "    .dataframe tbody tr th {\n",
       "        vertical-align: top;\n",
       "    }\n",
       "\n",
       "    .dataframe thead th {\n",
       "        text-align: right;\n",
       "    }\n",
       "</style>\n",
       "<table border=\"1\" class=\"dataframe\">\n",
       "  <thead>\n",
       "    <tr style=\"text-align: right;\">\n",
       "      <th></th>\n",
       "      <th>index</th>\n",
       "      <th>송하인_격자공간고유번호</th>\n",
       "      <th>수하인_격자공간고유번호</th>\n",
       "      <th>물품_카테고리</th>\n",
       "      <th>운송장_건수</th>\n",
       "    </tr>\n",
       "  </thead>\n",
       "  <tbody>\n",
       "    <tr>\n",
       "      <th>0</th>\n",
       "      <td>0</td>\n",
       "      <td>5011000595017300</td>\n",
       "      <td>2871000192069300</td>\n",
       "      <td>음반</td>\n",
       "      <td>3</td>\n",
       "    </tr>\n",
       "    <tr>\n",
       "      <th>1</th>\n",
       "      <td>1</td>\n",
       "      <td>4148000690043300</td>\n",
       "      <td>5011000264024400</td>\n",
       "      <td>문화컨텐츠</td>\n",
       "      <td>3</td>\n",
       "    </tr>\n",
       "    <tr>\n",
       "      <th>2</th>\n",
       "      <td>2</td>\n",
       "      <td>5011000078068400</td>\n",
       "      <td>1120000007005400</td>\n",
       "      <td>농산물</td>\n",
       "      <td>3</td>\n",
       "    </tr>\n",
       "    <tr>\n",
       "      <th>3</th>\n",
       "      <td>3</td>\n",
       "      <td>4127100048006400</td>\n",
       "      <td>5011000587019400</td>\n",
       "      <td>기타식품</td>\n",
       "      <td>7</td>\n",
       "    </tr>\n",
       "    <tr>\n",
       "      <th>4</th>\n",
       "      <td>4</td>\n",
       "      <td>5011000078068400</td>\n",
       "      <td>2823700010076300</td>\n",
       "      <td>농산물</td>\n",
       "      <td>3</td>\n",
       "    </tr>\n",
       "  </tbody>\n",
       "</table>\n",
       "</div>"
      ],
      "text/plain": [
       "   index      송하인_격자공간고유번호      수하인_격자공간고유번호 물품_카테고리  운송장_건수\n",
       "0      0  5011000595017300  2871000192069300      음반       3\n",
       "1      1  4148000690043300  5011000264024400   문화컨텐츠       3\n",
       "2      2  5011000078068400  1120000007005400     농산물       3\n",
       "3      3  4127100048006400  5011000587019400    기타식품       7\n",
       "4      4  5011000078068400  2823700010076300     농산물       3"
      ]
     },
     "execution_count": 2,
     "metadata": {},
     "output_type": "execute_result"
    }
   ],
   "source": [
    "train.head()"
   ]
  },
  {
   "cell_type": "code",
   "execution_count": 3,
   "metadata": {},
   "outputs": [
    {
     "data": {
      "text/html": [
       "<div>\n",
       "<style scoped>\n",
       "    .dataframe tbody tr th:only-of-type {\n",
       "        vertical-align: middle;\n",
       "    }\n",
       "\n",
       "    .dataframe tbody tr th {\n",
       "        vertical-align: top;\n",
       "    }\n",
       "\n",
       "    .dataframe thead th {\n",
       "        text-align: right;\n",
       "    }\n",
       "</style>\n",
       "<table border=\"1\" class=\"dataframe\">\n",
       "  <thead>\n",
       "    <tr style=\"text-align: right;\">\n",
       "      <th></th>\n",
       "      <th>index</th>\n",
       "      <th>송하인_격자공간고유번호</th>\n",
       "      <th>수하인_격자공간고유번호</th>\n",
       "      <th>물품_카테고리</th>\n",
       "    </tr>\n",
       "  </thead>\n",
       "  <tbody>\n",
       "    <tr>\n",
       "      <th>0</th>\n",
       "      <td>0</td>\n",
       "      <td>4167000577042200</td>\n",
       "      <td>5011000435014100</td>\n",
       "      <td>선케어</td>\n",
       "    </tr>\n",
       "    <tr>\n",
       "      <th>1</th>\n",
       "      <td>1</td>\n",
       "      <td>1156000009012200</td>\n",
       "      <td>5011000172034400</td>\n",
       "      <td>구강위생용품</td>\n",
       "    </tr>\n",
       "    <tr>\n",
       "      <th>2</th>\n",
       "      <td>2</td>\n",
       "      <td>4122000363057300</td>\n",
       "      <td>5011000361097300</td>\n",
       "      <td>캠핑</td>\n",
       "    </tr>\n",
       "    <tr>\n",
       "      <th>3</th>\n",
       "      <td>3</td>\n",
       "      <td>5011000436041400</td>\n",
       "      <td>2826000084036400</td>\n",
       "      <td>아웃도어가구</td>\n",
       "    </tr>\n",
       "    <tr>\n",
       "      <th>4</th>\n",
       "      <td>4</td>\n",
       "      <td>4150000241065200</td>\n",
       "      <td>5011000169044300</td>\n",
       "      <td>분유/이유식/아기간식</td>\n",
       "    </tr>\n",
       "  </tbody>\n",
       "</table>\n",
       "</div>"
      ],
      "text/plain": [
       "   index      송하인_격자공간고유번호      수하인_격자공간고유번호      물품_카테고리\n",
       "0      0  4167000577042200  5011000435014100          선케어\n",
       "1      1  1156000009012200  5011000172034400       구강위생용품\n",
       "2      2  4122000363057300  5011000361097300           캠핑\n",
       "3      3  5011000436041400  2826000084036400       아웃도어가구\n",
       "4      4  4150000241065200  5011000169044300  분유/이유식/아기간식"
      ]
     },
     "execution_count": 3,
     "metadata": {},
     "output_type": "execute_result"
    }
   ],
   "source": [
    "test.head()"
   ]
  },
  {
   "cell_type": "code",
   "execution_count": 4,
   "metadata": {},
   "outputs": [
    {
     "name": "stdout",
     "output_type": "stream",
     "text": [
      "<class 'pandas.core.frame.DataFrame'>\n",
      "RangeIndex: 31684 entries, 0 to 31683\n",
      "Data columns (total 5 columns):\n",
      " #   Column        Non-Null Count  Dtype \n",
      "---  ------        --------------  ----- \n",
      " 0   index         31684 non-null  int64 \n",
      " 1   송하인_격자공간고유번호  31684 non-null  int64 \n",
      " 2   수하인_격자공간고유번호  31684 non-null  int64 \n",
      " 3   물품_카테고리       31684 non-null  object\n",
      " 4   운송장_건수        31684 non-null  int64 \n",
      "dtypes: int64(4), object(1)\n",
      "memory usage: 1.2+ MB\n"
     ]
    }
   ],
   "source": [
    "train.info()"
   ]
  },
  {
   "cell_type": "code",
   "execution_count": 5,
   "metadata": {},
   "outputs": [
    {
     "name": "stdout",
     "output_type": "stream",
     "text": [
      "<class 'pandas.core.frame.DataFrame'>\n",
      "RangeIndex: 7920 entries, 0 to 7919\n",
      "Data columns (total 4 columns):\n",
      " #   Column        Non-Null Count  Dtype \n",
      "---  ------        --------------  ----- \n",
      " 0   index         7920 non-null   int64 \n",
      " 1   송하인_격자공간고유번호  7920 non-null   int64 \n",
      " 2   수하인_격자공간고유번호  7920 non-null   int64 \n",
      " 3   물품_카테고리       7920 non-null   object\n",
      "dtypes: int64(3), object(1)\n",
      "memory usage: 247.6+ KB\n"
     ]
    }
   ],
   "source": [
    "test.info()"
   ]
  },
  {
   "cell_type": "code",
   "execution_count": 6,
   "metadata": {},
   "outputs": [
    {
     "data": {
      "text/plain": [
       "index           0\n",
       "송하인_격자공간고유번호    0\n",
       "수하인_격자공간고유번호    0\n",
       "물품_카테고리         0\n",
       "운송장_건수          0\n",
       "dtype: int64"
      ]
     },
     "execution_count": 6,
     "metadata": {},
     "output_type": "execute_result"
    }
   ],
   "source": [
    "train.isnull().sum()"
   ]
  },
  {
   "cell_type": "markdown",
   "metadata": {},
   "source": [
    "## 데이터 전처리"
   ]
  },
  {
   "cell_type": "code",
   "execution_count": 7,
   "metadata": {},
   "outputs": [],
   "source": [
    "from sklearn.preprocessing import LabelEncoder\n",
    "\n",
    "encoder = LabelEncoder()\n",
    "encoder.fit(train['물품_카테고리'])\n",
    "\n",
    "train['물품_카테고리'] = encoder.transform(train['물품_카테고리'])\n",
    "test['물품_카테고리'] = encoder.transform(test['물품_카테고리'])"
   ]
  },
  {
   "cell_type": "markdown",
   "metadata": {},
   "source": [
    "## 모델링"
   ]
  },
  {
   "cell_type": "code",
   "execution_count": 8,
   "metadata": {},
   "outputs": [],
   "source": [
    "from lightgbm import LGBMRegressor\n",
    "\n",
    "train_X = train.drop('운송장_건수',axis = 1)\n",
    "train_Y = train['운송장_건수']\n",
    "\n",
    "#모델 정의\n",
    "model = LGBMRegressor()"
   ]
  },
  {
   "cell_type": "code",
   "execution_count": 9,
   "metadata": {},
   "outputs": [
    {
     "data": {
      "text/plain": [
       "LGBMRegressor()"
      ]
     },
     "execution_count": 9,
     "metadata": {},
     "output_type": "execute_result"
    }
   ],
   "source": [
    "# 모델 학습\n",
    "model.fit(train_X,train_Y)"
   ]
  },
  {
   "cell_type": "code",
   "execution_count": 10,
   "metadata": {},
   "outputs": [],
   "source": [
    "# test 데이터 예측\n",
    "test_pred = model.predict(test)\n",
    "train_pred = model.predict(train_X)"
   ]
  },
  {
   "cell_type": "code",
   "execution_count": 11,
   "metadata": {},
   "outputs": [
    {
     "data": {
      "text/plain": [
       "<matplotlib.legend.Legend at 0x172b30abdc8>"
      ]
     },
     "execution_count": 11,
     "metadata": {},
     "output_type": "execute_result"
    },
    {
     "data": {
      "image/png": "[encoded data removed]",
      "text/plain": [
       "<Figure size 864x576 with 1 Axes>"
      ]
     },
     "metadata": {
      "needs_background": "light"
     },
     "output_type": "display_data"
    }
   ],
   "source": [
    "import matplotlib.pyplot as plt\n",
    "\n",
    "plt.figure(figsize=(12,8))\n",
    "plt.plot(train_pred, label='pred')\n",
    "plt.plot(train_Y, label='actual', alpha=0.5)\n",
    "plt.legend(loc='upper right')"
   ]
  },
  {
   "cell_type": "markdown",
   "metadata": {},
   "source": [
    "## 정답파일 생성"
   ]
  },
  {
   "cell_type": "code",
   "execution_count": 12,
   "metadata": {},
   "outputs": [],
   "source": [
    "submission.to_csv('baseline.csv',index = False)"
   ]
  }
 ],
 "metadata": {
  "kernelspec": {
   "display_name": "BigContest",
   "language": "python",
   "name": "bigcontest"
  },
  "language_info": {
   "codemirror_mode": {
    "name": "ipython",
    "version": 3
   },
   "file_extension": ".py",
   "mimetype": "text/x-python",
   "name": "python",
   "nbconvert_exporter": "python",
   "pygments_lexer": "ipython3",
   "version": "3.7.10"
  }
 },
 "nbformat": 4,
 "nbformat_minor": 4
}
